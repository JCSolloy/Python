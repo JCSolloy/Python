{
 "cells": [
  {
   "cell_type": "markdown",
   "metadata": {},
   "source": [
    "# Funciones basicas de Numpy\n",
    "## Atributos de arreglos\n",
    "- Arreglos uno unidimensional\n",
    "- Arreglo uno bidimensional\n",
    "- Arreglo uno tridimensional"
   ]
  },
  {
   "cell_type": "code",
   "execution_count": 2,
   "metadata": {},
   "outputs": [
    {
     "name": "stdout",
     "output_type": "stream",
     "text": [
      "3\n"
     ]
    }
   ],
   "source": [
    "import numpy as np \n",
    "\n",
    "np.random.seed(0) \n",
    "# Esta funcion genera una entrada para generar numeros pseudo aleatorios, cuando no se utiliza se generan numeros pseudo aleatorios diferentes\n",
    "\n",
    "x1 = np.random.randint(10, size=6)\n",
    "#Arreglo de una dimension\n",
    "x2 = np.random.randint(10, size=(3,4))\n",
    "#Arreglo de dos dimensiones\n",
    "x3 = np.random.randint(10, size=(3,4,5))\n",
    "# Arreglo de tres dimensiones\n",
    "print(x3.ndim)"
   ]
  }
 ],
 "metadata": {
  "kernelspec": {
   "display_name": "base",
   "language": "python",
   "name": "python3"
  },
  "language_info": {
   "codemirror_mode": {
    "name": "ipython",
    "version": 3
   },
   "file_extension": ".py",
   "mimetype": "text/x-python",
   "name": "python",
   "nbconvert_exporter": "python",
   "pygments_lexer": "ipython3",
   "version": "3.11.5"
  }
 },
 "nbformat": 4,
 "nbformat_minor": 2
}
