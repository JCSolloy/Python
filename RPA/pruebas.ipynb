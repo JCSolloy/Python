{
 "cells": [
  {
   "cell_type": "code",
   "execution_count": 17,
   "metadata": {},
   "outputs": [
    {
     "name": "stdout",
     "output_type": "stream",
     "text": [
      "Windows\n",
      "Windows\n"
     ]
    }
   ],
   "source": [
    "import platform\n",
    "\n",
    "def detect_os():\n",
    "    if platform.system() == 'Windows':\n",
    "        os = 'Windows'\n",
    "    elif platform.system() == 'Darwin':\n",
    "        os = 'MacOS'\n",
    "    elif platform.system() == 'Linux':\n",
    "        os = 'Linux'\n",
    "    else:   \n",
    "        os = 'Unknown OS'\n",
    "    print(os)\n",
    "\n",
    "    return os\n",
    "\n",
    "\n",
    "os = detect_os()\n",
    "\n",
    "print(os)"
   ]
  },
  {
   "cell_type": "code",
   "execution_count": 16,
   "metadata": {},
   "outputs": [
    {
     "ename": "AttributeError",
     "evalue": "module 'pyautogui' has no attribute 'pess'",
     "output_type": "error",
     "traceback": [
      "\u001b[1;31m---------------------------------------------------------------------------\u001b[0m",
      "\u001b[1;31mAttributeError\u001b[0m                            Traceback (most recent call last)",
      "Cell \u001b[1;32mIn[16], line 21\u001b[0m\n\u001b[0;32m     18\u001b[0m     \u001b[38;5;28;01melse\u001b[39;00m:\n\u001b[0;32m     19\u001b[0m         \u001b[38;5;28mprint\u001b[39m(\u001b[38;5;124m'\u001b[39m\u001b[38;5;124mUnknown OS\u001b[39m\u001b[38;5;124m'\u001b[39m)\n\u001b[1;32m---> 21\u001b[0m open_excel()\n",
      "Cell \u001b[1;32mIn[16], line 7\u001b[0m, in \u001b[0;36mopen_excel\u001b[1;34m()\u001b[0m\n\u001b[0;32m      5\u001b[0m \u001b[38;5;28;01mdef\u001b[39;00m \u001b[38;5;21mopen_excel\u001b[39m():\n\u001b[0;32m      6\u001b[0m     \u001b[38;5;28;01mif\u001b[39;00m os \u001b[38;5;241m==\u001b[39m \u001b[38;5;124m'\u001b[39m\u001b[38;5;124mWindows\u001b[39m\u001b[38;5;124m'\u001b[39m:\n\u001b[1;32m----> 7\u001b[0m         rpa\u001b[38;5;241m.\u001b[39mpess(\u001b[38;5;124m'\u001b[39m\u001b[38;5;124mwinleft\u001b[39m\u001b[38;5;124m'\u001b[39m)\n\u001b[0;32m      8\u001b[0m         rpa\u001b[38;5;241m.\u001b[39mwrite(\u001b[38;5;124m'\u001b[39m\u001b[38;5;124mexcel\u001b[39m\u001b[38;5;124m'\u001b[39m)\n\u001b[0;32m      9\u001b[0m         rpa\u001b[38;5;241m.\u001b[39mpress(\u001b[38;5;124m'\u001b[39m\u001b[38;5;124menter\u001b[39m\u001b[38;5;124m'\u001b[39m)\n",
      "\u001b[1;31mAttributeError\u001b[0m: module 'pyautogui' has no attribute 'pess'"
     ]
    }
   ],
   "source": [
    "import pyautogui as rpa\n",
    "\n",
    "# Function to open excel file\n",
    "\n",
    "def open_excel():\n",
    "    if os == 'Windows':\n",
    "        rpa.press('winleft')\n",
    "        rpa.write('excel')\n",
    "        rpa.press('enter')\n",
    "    elif os == 'MacOS':\n",
    "        rpa.hotkey('command', 'space')\n",
    "        rpa.write('excel')\n",
    "        rpa.press('enter')\n",
    "    elif os == 'Linux':\n",
    "        rpa.hotkey('ctrl', 'alt', 't')\n",
    "        rpa.write('excel')\n",
    "        rpa.press('enter')\n",
    "    else:\n",
    "        print('Unknown OS')\n",
    "\n",
    "open_excel()\n"
   ]
  }
 ],
 "metadata": {
  "language_info": {
   "name": "python"
  }
 },
 "nbformat": 4,
 "nbformat_minor": 2
}
