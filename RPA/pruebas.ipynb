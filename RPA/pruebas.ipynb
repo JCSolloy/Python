{
 "cells": [
  {
   "cell_type": "code",
   "execution_count": 20,
   "metadata": {},
   "outputs": [
    {
     "name": "stdout",
     "output_type": "stream",
     "text": [
      "MacOS\n",
      "MacOS\n"
     ]
    }
   ],
   "source": [
    "import platform\n",
    "\n",
    "def detect_os():\n",
    "    if platform.system() == 'Windows':\n",
    "        os = 'Windows'\n",
    "    elif platform.system() == 'Darwin':\n",
    "        os = 'MacOS'\n",
    "    elif platform.system() == 'Linux':\n",
    "        os = 'Linux'\n",
    "    else:   \n",
    "        os = 'Unknown OS'\n",
    "    print(os)\n",
    "\n",
    "    return os\n",
    "\n",
    "\n",
    "os = detect_os()\n",
    "\n",
    "print(os)"
   ]
  },
  {
   "cell_type": "code",
   "execution_count": 26,
   "metadata": {},
   "outputs": [],
   "source": [
    "import pyautogui as rpa\n",
    "\n",
    "# Function to open excel file\n",
    "\n",
    "def open_excel():\n",
    "    if os == 'Windows':\n",
    "        rpa.press('winleft')\n",
    "        rpa.write('excel')\n",
    "        rpa.press('enter')\n",
    "    elif os == 'MacOS':\n",
    "        rpa.hotkey('command', 'space')\n",
    "        rpa.write('excel')\n",
    "        rpa.press('enter')\n",
    "    elif os == 'Linux':\n",
    "        rpa.hotkey('ctrl', 'alt', 't')\n",
    "        rpa.write('excel')\n",
    "        rpa.press('enter')\n",
    "    else:\n",
    "        print('Unknown OS')\n",
    "\n",
    "open_excel()\n"
   ]
  },
  {
   "cell_type": "code",
   "execution_count": null,
   "metadata": {},
   "outputs": [],
   "source": [
    "import pyautogui as rpa\n",
    "\n",
    "# Open "
   ]
  },
  {
   "cell_type": "code",
   "execution_count": 30,
   "metadata": {},
   "outputs": [],
   "source": [
    "import pyautogui as rpa\n",
    "\n",
    "# Function to open microsoft edge\n",
    "\n",
    "def open_edge():\n",
    "    if os == 'Windows':\n",
    "        rpa.press('winleft')\n",
    "        rpa.write('edge')\n",
    "        rpa.press('enter')\n",
    "    elif os == 'MacOS':\n",
    "        rpa.hotkey('command', 'space')\n",
    "        rpa.write('edge')\n",
    "        rpa.press('enter')\n",
    "    elif os == 'Linux':\n",
    "        rpa.hotkey('ctrl', 'alt', 't')\n",
    "        rpa.write('edge')\n",
    "        rpa.press('enter')\n",
    "    else:\n",
    "        print('Unknown OS')\n",
    "\n",
    "open_edge()\n",
    "\n",
    "rpa.write('https://forms.gle/FuJCsL1iZydZoF7w8')\n",
    "rpa.press('enter')\n",
    "\n",
    "# Open form https://forms.gle/FuJCsL1iZydZoF7w8"
   ]
  }
 ],
 "metadata": {
  "language_info": {
   "name": "python"
  }
 },
 "nbformat": 4,
 "nbformat_minor": 2
}
