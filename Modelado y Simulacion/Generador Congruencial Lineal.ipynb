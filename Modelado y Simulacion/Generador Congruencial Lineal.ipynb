{
 "cells": [
  {
   "cell_type": "markdown",
   "metadata": {},
   "source": [
    "# Ejercicio 1\n",
    "\n",
    "A partir del ejemplo $X_{0} = 27,\\ a=17,\\ c=43\\ y\\ m=100$ genere 100 números pseudo-aleatorios mediante el método congruencial lineal. "
   ]
  },
  {
   "cell_type": "markdown",
   "metadata": {},
   "source": [
    "- ¿Cuál es el período de dicha secuencia de números pseudo-aleatorios? \n",
    " \n",
    "- ¿Cual es la media y la varianza? ¿que pasa si genera 1000? ¿Qué pasa si cambia el valor semilla? Comente sus respuestas.\n",
    "\n",
    "- Genere gráficos de tipo histograma y de dispersion (scatter-plot) con los valores obtenidos.\n",
    "\n",
    "- Comente sus observaciones con respecto a las propiedades de Uniformidad y Densidad de la secuencia de números generados. \n",
    "  \n",
    "- ¿Cree que es adecuado para aplicarlo a un modelo se simulación?"
   ]
  },
  {
   "cell_type": "code",
   "execution_count": 1,
   "metadata": {},
   "outputs": [
    {
     "data": {
      "application/vnd.jupyter.widget-view+json": {
       "model_id": "dfc9ee2eb0584790acbe89fc501a6145",
       "version_major": 2,
       "version_minor": 0
      },
      "text/plain": [
       "interactive(children=(IntSlider(value=500, description='n', max=1000, min=1), IntSlider(value=27, description=…"
      ]
     },
     "metadata": {},
     "output_type": "display_data"
    },
    {
     "data": {
      "text/plain": [
       "<function __main__.plot_histogram_scatter(n, X0, a, c, m)>"
      ]
     },
     "execution_count": 1,
     "metadata": {},
     "output_type": "execute_result"
    }
   ],
   "source": [
    "import numpy as np \n",
    "import matplotlib.pyplot as plt\n",
    "import ipywidgets as widgets\n",
    "\n",
    "def generate_pseudo_random_numbers(n, X0, a, c, m):\n",
    "    random_numbers = np.array([])\n",
    "    for i in range(n):\n",
    "        X0 = (a * X0 + c) % m\n",
    "        random_numbers = np.append(random_numbers, X0/m)\n",
    "    return random_numbers\n",
    "\n",
    "def plot_histogram_scatter(n, X0, a, c, m):\n",
    "    random_numbers = generate_pseudo_random_numbers(n, X0, a, c, m)\n",
    "    media = np.mean(random_numbers)\n",
    "    varianza = np.var(random_numbers)\n",
    "    fig, axs = plt.subplots(2)\n",
    "    axs[0].hist(random_numbers, bins=10)\n",
    "    axs[0].grid(True)\n",
    "    axs[1].scatter(range(n), random_numbers)\n",
    "    axs[1].grid(True)\n",
    "    print(\"Media: \", media)\n",
    "    print(\"Varianza: \", varianza)\n",
    "    plt.show()\n",
    "    print(random_numbers[:100])\n",
    "widgets.interact(plot_histogram_scatter, n=(1,1000), X0=(27), a=(17), c=(43), m=(100))"
   ]
  },
  {
   "cell_type": "markdown",
   "metadata": {},
   "source": [
    "# Ejercicio 2\n",
    "\n",
    "Repita el ejercicio anterior para el generador congruencial multplicativo con \n",
    "\n",
    "$\n",
    "a=13, \\\\\n",
    "m = 2^6 = 64 \\\\\n",
    "X_{0}=0,1,2,3,4\\\\\n",
    "$"
   ]
  },
  {
   "cell_type": "code",
   "execution_count": 2,
   "metadata": {},
   "outputs": [
    {
     "data": {
      "application/vnd.jupyter.widget-view+json": {
       "model_id": "45cc2626bbe446ee90a9a85549c77742",
       "version_major": 2,
       "version_minor": 0
      },
      "text/plain": [
       "interactive(children=(IntSlider(value=500, description='n', max=1000, min=1), IntSlider(value=27, description=…"
      ]
     },
     "metadata": {},
     "output_type": "display_data"
    },
    {
     "data": {
      "text/plain": [
       "<function __main__.plot_histogram_scatter(n, X0, a, c, m)>"
      ]
     },
     "execution_count": 2,
     "metadata": {},
     "output_type": "execute_result"
    }
   ],
   "source": [
    "import numpy as np \n",
    "import matplotlib.pyplot as plt\n",
    "import ipywidgets as widgets\n",
    "\n",
    "def generate_pseudo_random_numbers(n, X0, a, c, m):\n",
    "    random_numbers = np.array([])\n",
    "    for i in range(n):\n",
    "        X0 = (a * X0 + c) % m\n",
    "        random_numbers = np.append(random_numbers, X0/m)\n",
    "    return random_numbers\n",
    "\n",
    "def plot_histogram_scatter(n, X0, a, c, m):\n",
    "    m = 2**m\n",
    "    random_numbers = generate_pseudo_random_numbers(n, X0, a, c, m)\n",
    "    media = np.mean(random_numbers)\n",
    "    varianza = np.var(random_numbers)\n",
    "    fig, axs = plt.subplots(2)\n",
    "    axs[0].hist(random_numbers, bins=10)\n",
    "    axs[0].grid(True)\n",
    "    axs[1].scatter(range(n), random_numbers)\n",
    "    axs[1].grid(True)\n",
    "    print(\"m = \",m)\n",
    "    print(\"Media: \", media)\n",
    "    print(\"Varianza: \", varianza)\n",
    "    plt.show()\n",
    "    print(random_numbers[:200])\n",
    "#a=13, m = 2^6 = 64 X_{0}=0,1,2,3,4\n",
    "widgets.interact(plot_histogram_scatter, n=(1,1000), X0=(27), a=(13), c=(43), m=(6))"
   ]
  },
  {
   "cell_type": "markdown",
   "metadata": {},
   "source": [
    "# Ejercicio 3 \n",
    "\n",
    "Inveztigue valores comunmente utilizados para generadores congruencial lineales, repita el ejercicio para estos valores investigados."
   ]
  },
  {
   "cell_type": "markdown",
   "metadata": {},
   "source": [
    "| m             | a      | c   | Periodo       | Comentario                                                         |\n",
    "| ------------- | ------ | --- | ------------- | ------------------------------------------------------------------ |\n",
    "| $2^{31}-1$    | $7^5=16,807$  | 0   | $2^{31}-2=2,147,483,646$    | Valor recomendado por Knuth                                        |\n",
    "| $2^{32}-5$    | $11^3$ | 0   | $2^{32}-3=4,294,967,293$    | Primo grande con periodo largo                                     |\n",
    "| $2^{127}-1$   | $7^5=16,807$  | 0   | $2^{127}-2=1.7014118346046923173168730371588x10^{38}$   | Primo de Mersenne con periodo muy largo                            |\n",
    "| $2^{19937}-1$ | $7^5=16,807$  | 0   | $2^{19937}-2=4.3154247973881626480552355163379x10^{6001}$ | Primo de Mersenne con el periodo mas largo conocido hasta la fecha |"
   ]
  },
  {
   "cell_type": "code",
   "execution_count": 14,
   "metadata": {},
   "outputs": [
    {
     "data": {
      "application/vnd.jupyter.widget-view+json": {
       "model_id": "1bbc53885cc747e99e852fcf2abc7732",
       "version_major": 2,
       "version_minor": 0
      },
      "text/plain": [
       "interactive(children=(IntSlider(value=500, description='n', max=1000, min=1), IntSlider(value=50, description=…"
      ]
     },
     "metadata": {},
     "output_type": "display_data"
    },
    {
     "data": {
      "text/plain": [
       "<function __main__.plot_histogram_scatter(n, X0, a, c, m)>"
      ]
     },
     "execution_count": 14,
     "metadata": {},
     "output_type": "execute_result"
    }
   ],
   "source": [
    "import numpy as np \n",
    "import matplotlib.pyplot as plt\n",
    "import ipywidgets as widgets\n",
    "\n",
    "# Generacion de numeros pseudoaleatorios con el metodo congruencial lineal\n",
    "def generate_pseudo_random_numbers(n, X0, a, c, m):\n",
    "    random_numbers = np.array([])\n",
    "    for i in range(n):\n",
    "        X0 = (a * X0 + c) % m\n",
    "        random_numbers = np.append(random_numbers, X0/m)\n",
    "    return random_numbers\n",
    "\n",
    "num1=np.array([7**5, 0, (2**(31)-1)])\n",
    "num2=np.array([11**3, 0, (2**(32)-5)])\n",
    "num3=np.array([16807, 0, (2**(127)-1)])\n",
    "num4=np.array([7**5, 0, (2**(19937)-1)])\n",
    "\n",
    "#Plot histogran and scatter in subplots\n",
    "def plot_histogram_scatter(n, X0, a, c, m):\n",
    "    random_numbers = generate_pseudo_random_numbers(n, X0, a, c, m)\n",
    "    media = np.mean(random_numbers)\n",
    "    varianza = np.var(random_numbers)\n",
    "    fig, axs = plt.subplots(2)\n",
    "    axs[0].hist(random_numbers, bins=10)\n",
    "    axs[0].grid(True)\n",
    "    axs[1].scatter(range(n), random_numbers)\n",
    "    axs[1].grid(True)\n",
    "    print(\"Media: \", media)\n",
    "    print(\"Varianza: \", varianza)\n",
    "    plt.show()\n",
    "    print(random_numbers[:100])\n",
    "    return\n",
    "\n",
    "widgets.interact(plot_histogram_scatter, n=(1, 1000), X0=(1, 100), a=(num3[0]), c=(0), m=(num3[2]))"
   ]
  },
  {
   "cell_type": "markdown",
   "metadata": {},
   "source": [
    "# Ejercicio 4\n",
    "\n",
    "Utilice el siguiente generador congruencial lineal de numeros aleatorios.$\\ a =16807,\\ c = 0 \\ y\\ m=2^{31}-1$"
   ]
  },
  {
   "cell_type": "markdown",
   "metadata": {},
   "source": [
    "- Cuántos bits son necesarios para la multiplicación mas larga posible?\n",
    "- Cuales son las implicaciones de este generador en una computadora con\n",
    "aritmética de 32 bits?"
   ]
  },
  {
   "cell_type": "code",
   "execution_count": 4,
   "metadata": {
    "notebookRunGroups": {
     "groupValue": ""
    }
   },
   "outputs": [
    {
     "data": {
      "application/vnd.jupyter.widget-view+json": {
       "model_id": "3057804231164aabaf95c30e14504883",
       "version_major": 2,
       "version_minor": 0
      },
      "text/plain": [
       "interactive(children=(IntSlider(value=500, description='n', max=1000, min=1), IntSlider(value=50, description=…"
      ]
     },
     "metadata": {},
     "output_type": "display_data"
    },
    {
     "data": {
      "text/plain": [
       "<function __main__.plot_histogram_scatter(n, X0, a, c, m)>"
      ]
     },
     "execution_count": 4,
     "metadata": {},
     "output_type": "execute_result"
    }
   ],
   "source": [
    "import numpy as np \n",
    "import matplotlib.pyplot as plt\n",
    "import ipywidgets as widgets\n",
    "\n",
    "# Generacion de numeros pseudoaleatorios con el metodo congruencial lineal\n",
    "def generate_pseudo_random_numbers(n, X0, a, c, m):\n",
    "    random_numbers = np.array([])\n",
    "    for i in range(n):\n",
    "        X0 = (a * X0 + c) % m\n",
    "        random_numbers = np.append(random_numbers, X0/m)\n",
    "    return random_numbers\n",
    "#Plot histogran and scatter in subplots\n",
    "def plot_histogram_scatter(n, X0, a, c, m):\n",
    "    random_numbers = generate_pseudo_random_numbers(n, X0, a, c, m)\n",
    "    media = np.mean(random_numbers)\n",
    "    varianza = np.var(random_numbers)\n",
    "    fig, axs = plt.subplots(2)\n",
    "    axs[0].hist(random_numbers, bins=10)\n",
    "    axs[0].grid(True)\n",
    "    axs[1].scatter(range(n), random_numbers)\n",
    "    axs[1].grid(True)\n",
    "    print(\"m = \",m)\n",
    "    print(\"Media: \", media)\n",
    "    print(\"Varianza: \", varianza)\n",
    "    plt.show()\n",
    "    print(random_numbers[:100])\n",
    "    return\n",
    "\n",
    "widgets.interact(plot_histogram_scatter, n=(1, 1000), X0=(1, 100), a=(16807), c=(0), m=(2**(31)-1))"
   ]
  }
 ],
 "metadata": {
  "kernelspec": {
   "display_name": "Python 3",
   "language": "python",
   "name": "python3"
  },
  "language_info": {
   "codemirror_mode": {
    "name": "ipython",
    "version": 3
   },
   "file_extension": ".py",
   "mimetype": "text/x-python",
   "name": "python",
   "nbconvert_exporter": "python",
   "pygments_lexer": "ipython3",
   "version": "3.11.5"
  }
 },
 "nbformat": 4,
 "nbformat_minor": 2
}
