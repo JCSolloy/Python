{
 "cells": [
  {
   "cell_type": "markdown",
   "metadata": {},
   "source": [
    "# Ejercicio 1\n",
    "\n",
    "## Generación de una distribución exponencial \n",
    "\n",
    "$$X_i=\\frac{-1}{\\lambda}\\ln{(1-R_i)}$$\n",
    "\n",
    "Genere una secuencia de 1000 números pseudo-aleatorios mediante un generador lineal con los parámetros\n",
    "$\n",
    "X_{0} = 123456789\\\\ \n",
    "a=1664525\\\\\n",
    "c=1013904223\\\\\n",
    "m=2^{32}$\n",
    "\n",
    "- Genere variables aleatorias con una **distribución exponencial**, con un avlor de $\\lambda$\n",
    "- Genere gráficos tipo histograma tanto de la variable aleatoria calculada.\n",
    "- Calcule la media y desviación estándar de los valores calculados para la variable aleatoria.\n",
    "- Compare los histogramas empíricos y los valores estadísticos con los valores teóricos para una distribución exponencial."
   ]
  },
  {
   "cell_type": "code",
   "execution_count": 2,
   "metadata": {},
   "outputs": [
    {
     "data": {
      "application/vnd.jupyter.widget-view+json": {
       "model_id": "170f63728d5742bca9da47cfa59adbb6",
       "version_major": 2,
       "version_minor": 0
      },
      "text/plain": [
       "interactive(children=(IntSlider(value=10000, description='n', max=30000, min=-10000), IntSlider(value=12345678…"
      ]
     },
     "metadata": {},
     "output_type": "display_data"
    },
    {
     "data": {
      "text/plain": [
       "<function __main__.exponencial(n, X0, a, c, m, lambd)>"
      ]
     },
     "execution_count": 2,
     "metadata": {},
     "output_type": "execute_result"
    }
   ],
   "source": [
    "import numpy as np \n",
    "import matplotlib.pyplot as plt\n",
    "import ipywidgets as widgets\n",
    "\n",
    "def generate_pseudo_random_numbers(n, X0, a, c, m):\n",
    "    random_numbers = np.array([])\n",
    "    for i in range(n):\n",
    "        X0 = (a * X0 + c) % m\n",
    "        random_numbers = np.append(random_numbers, X0/m)\n",
    "    return random_numbers\n",
    "\n",
    "def plot_histogram_scatter(n, X0, a, c, m):\n",
    "    random_numbers = generate_pseudo_random_numbers(n, X0, a, c, m)\n",
    "    media = np.mean(random_numbers)\n",
    "    varianza = np.var(random_numbers)\n",
    "    fig, axs = plt.subplots(2)\n",
    "    axs[0].hist(random_numbers, bins=100)\n",
    "    axs[0].grid(True)\n",
    "    axs[1].scatter(range(n), random_numbers)\n",
    "    axs[1].grid(True)\n",
    "    print(\"Media: \", media)\n",
    "    print(\"Varianza: \", varianza)\n",
    "    plt.show()\n",
    "\n",
    "def exponencial(n, X0, a, c, m, lambd):\n",
    "    random_numbers = generate_pseudo_random_numbers(n, X0, a, c, m)\n",
    "    random_numbers = -np.log(1-random_numbers)/lambd\n",
    "    media = np.mean(random_numbers)\n",
    "    varianza = np.var(random_numbers)\n",
    "    fig, axs = plt.subplots(2)\n",
    "    axs[0].hist(random_numbers, bins=100)\n",
    "    axs[0].grid(True)\n",
    "    axs[1].scatter(range(n), random_numbers)\n",
    "    axs[1].grid(True)\n",
    "    print(\"Media: \", media)\n",
    "    print(\"Varianza: \", varianza)\n",
    "    print(random_numbers[0:10])\n",
    "    plt.show()\n",
    "\n",
    "widgets.interact(exponencial, n=(10000), X0=(123456789), a=(1664525), c=(0), m=(2147483647), lambd=(2))\n"
   ]
  },
  {
   "cell_type": "markdown",
   "metadata": {},
   "source": [
    "# Ejercicio 2 \n",
    "\n",
    "## Generación de una distribución uniforme\n",
    "\n",
    "$$ X=a+(b-a)R $$\n",
    "\n",
    "Genere una secuencia de 1000 números pseudo-aleatorios mediante un generador lineal con los parámetros\n",
    "$\n",
    "X_{0} = 123456789\\\\ \n",
    "a=1664525\\\\\n",
    "c=1013904223\\\\\n",
    "m=2^{32}$\n",
    "\n",
    "- Genere variables aleatorias con una **distribución uniforme**, entre 0 y 5.\n",
    "- Genere gráficos tipo histograma tanto de la variable aleatoria calculada.\n",
    "- Calcule la media y desviación estándar de los valores calculados para la variable aleatoria.\n",
    "- Compare los histogramas empíricos y los valores estadísticos con los valores teóricos para una distribución exponencial."
   ]
  },
  {
   "cell_type": "code",
   "execution_count": 8,
   "metadata": {},
   "outputs": [
    {
     "data": {
      "application/vnd.jupyter.widget-view+json": {
       "model_id": "f7346d097091429691a29b0add8bbea2",
       "version_major": 2,
       "version_minor": 0
      },
      "text/plain": [
       "interactive(children=(IntSlider(value=5000, description='n', max=10000, min=1), IntSlider(value=123456789, des…"
      ]
     },
     "metadata": {},
     "output_type": "display_data"
    },
    {
     "data": {
      "text/plain": [
       "<function __main__.uniforme(n, X0, a, c, m)>"
      ]
     },
     "execution_count": 8,
     "metadata": {},
     "output_type": "execute_result"
    }
   ],
   "source": [
    "import numpy as np \n",
    "import matplotlib.pyplot as plt\n",
    "import ipywidgets as widgets\n",
    "\n",
    "# Generacion de numeros pseudoaleatorios con el metodo congruencial lineal\n",
    "def generate_pseudo_random_numbers(n, X0, a, c, m):\n",
    "    random_numbers = np.array([])\n",
    "    for i in range(n):\n",
    "        X0 = (a * X0 + c) % m\n",
    "        random_numbers = np.append(random_numbers, X0/m)\n",
    "    return random_numbers\n",
    "#Plot histogran and scatter in subplots\n",
    "def plot_histogram_scatter(n, X0, a, c, m):\n",
    "    random_numbers = generate_pseudo_random_numbers(n, X0, a, c, m)\n",
    "    media = np.mean(random_numbers)\n",
    "    varianza = np.var(random_numbers)\n",
    "    fig, axs = plt.subplots(2)\n",
    "    axs[0].hist(random_numbers, bins=10)\n",
    "    axs[0].grid(True)\n",
    "    axs[1].scatter(range(n), random_numbers)\n",
    "    axs[1].grid(True)\n",
    "    print(\"m = \",m)\n",
    "    print(\"Media: \", media)\n",
    "    print(\"Varianza: \", varianza)\n",
    "    plt.show()\n",
    "    return\n",
    "\n",
    "\n",
    "def uniforme(n, X0, a, c, m):\n",
    "\n",
    "    random_numbers = generate_pseudo_random_numbers(n, X0, a, c, m)\n",
    "    #Uniforme a1+(b1-a1)*random_numbers\n",
    "    a1=0\n",
    "    b1=5\n",
    "    uniforme = a1+(b1-a1)*random_numbers\n",
    "    media = np.mean(uniforme)\n",
    "    varianza = np.var(uniforme)\n",
    "    fig, axs = plt.subplots(2)\n",
    "    axs[0].hist(uniforme, bins=100)\n",
    "    axs[0].grid(True)\n",
    "    axs[1].scatter(range(n), uniforme)\n",
    "    axs[1].grid(True)\n",
    "    print(\"Media: \", media)\n",
    "    print(\"Varianza: \", varianza)\n",
    "    plt.show()\n",
    "    return\n",
    "\n",
    "widgets.interact(uniforme, n=(1, 10000), X0=(123456789), a=(1664525), c=(1013904223), m=(2**(32)), lambd=(1) )"
   ]
  },
  {
   "cell_type": "markdown",
   "metadata": {},
   "source": [
    "# Generación de una distribución Weibull\n",
    "\n",
    "$X=\\alpha [-ln(1-R)]^{1/\\beta}$\n",
    "\n",
    "Genere una secuencia de 1000 números pseudo-aleatorios mediante un generador lineal con los parámetros\n",
    "\n",
    "$\n",
    "X_{0} = 123456789\\\\ \n",
    "a=1664525\\\\\n",
    "c=1013904223\\\\\n",
    "m=2^{32}$\n",
    "\n",
    "- Genere variables aleatorias con una **distribución Weibull**, $\\beta = 1$ y $\\alpha = 2$.\n",
    "- Genere gráficos tipo histograma tanto de la variable aleatoria calculada.\n",
    "- Calcule la media y desviación estándar de los valores calculados para la variable aleatoria.\n",
    "- Compare los histogramas empíricos y los valores estadísticos con los valores teóricos para una distribución exponencial.\n",
    "\n",
    "#### Generación de una distribución uniforme"
   ]
  },
  {
   "cell_type": "code",
   "execution_count": 9,
   "metadata": {},
   "outputs": [
    {
     "data": {
      "application/vnd.jupyter.widget-view+json": {
       "model_id": "6502feec55944c60a23de0a670735a22",
       "version_major": 2,
       "version_minor": 0
      },
      "text/plain": [
       "interactive(children=(IntSlider(value=5000, description='n', max=10000, min=1), IntSlider(value=123456789, des…"
      ]
     },
     "metadata": {},
     "output_type": "display_data"
    },
    {
     "data": {
      "text/plain": [
       "<function __main__.weibull(n, X0, a, c, m, lambd, k)>"
      ]
     },
     "execution_count": 9,
     "metadata": {},
     "output_type": "execute_result"
    }
   ],
   "source": [
    "import numpy as np \n",
    "import matplotlib.pyplot as plt\n",
    "import ipywidgets as widgets\n",
    "\n",
    "# Generacion de numeros pseudoaleatorios con el metodo congruencial lineal\n",
    "def generate_pseudo_random_numbers(n, X0, a, c, m):\n",
    "    random_numbers = np.array([])\n",
    "    for i in range(n):\n",
    "        X0 = (a * X0 + c) % m\n",
    "        random_numbers = np.append(random_numbers, X0/m)\n",
    "    return random_numbers\n",
    "#Plot histogran and scatter in subplots\n",
    "def plot_histogram_scatter(n, X0, a, c, m):\n",
    "    random_numbers = generate_pseudo_random_numbers(n, X0, a, c, m)\n",
    "    media = np.mean(random_numbers)\n",
    "    varianza = np.var(random_numbers)\n",
    "    fig, axs = plt.subplots(2)\n",
    "    axs[0].hist(random_numbers, bins=100)\n",
    "    axs[0].grid(True)\n",
    "    axs[1].scatter(range(n), random_numbers)\n",
    "    axs[1].grid(True)\n",
    "    print(\"m = \",m)\n",
    "    print(\"Media: \", media)\n",
    "    print(\"Varianza: \", varianza)\n",
    "    plt.show()\n",
    "    return\n",
    "\n",
    "def weibull(n, X0, a, c, m, lambd, k):\n",
    "    random_numbers = generate_pseudo_random_numbers(n, X0, a, c, m)\n",
    "    weibull = lambd*(-np.log(1-random_numbers))**(1/k)\n",
    "    media = np.mean(weibull)\n",
    "    varianza = np.var(weibull)\n",
    "    fig, axs = plt.subplots(2)\n",
    "    axs[0].hist(weibull, bins=100)\n",
    "    axs[0].grid(True)\n",
    "    axs[1].scatter(range(n), weibull)\n",
    "    axs[1].grid(True)\n",
    "    print(\"Media: \", media)\n",
    "    print(\"Varianza: \", varianza)\n",
    "    plt.show()\n",
    "    return\n",
    "\n",
    "widgets.interact(weibull, n=(1, 10000), X0=(123456789), a=(1664525), c=(1013904223), m=(2**(32)),lambd=(1), k=(5) )"
   ]
  },
  {
   "cell_type": "markdown",
   "metadata": {},
   "source": [
    "# Generación de una distribución triangular\n",
    "\n",
    "Para $0<X\\leq 1 $\n",
    "\n",
    "$R=\\frac{X^2}{2}$\n",
    "\n",
    "\n",
    "Para $1<X\\leq 2 $\n",
    "\n",
    "$R=1-\\frac{(2-X)^2}{2}$\n",
    "\n",
    "Genere una secuencia de 1000 números pseudo-aleatorios mediante un generador lineal con los parámetros\n",
    "\n",
    "$\n",
    "X_{0} = 123456789\\\\ \n",
    "a=1664525\\\\\n",
    "c=1013904223\\\\\n",
    "m=2^{32}$\n",
    "\n",
    "- Genere variables aleatorias con una **distribución triangular**.\n",
    "- Genere gráficos tipo histograma tanto de la variable aleatoria calculada.\n",
    "- Calcule la media y desviación estándar de los valores calculados para la variable aleatoria.\n",
    "- Compare los histogramas empíricos y los valores estadísticos con los valores teóricos para una distribución exponencial.\n",
    "\n",
    "#### Generación de una distribución uniforme"
   ]
  },
  {
   "cell_type": "code",
   "execution_count": 11,
   "metadata": {},
   "outputs": [
    {
     "data": {
      "application/vnd.jupyter.widget-view+json": {
       "model_id": "919f3113f66d4a8da3f74641ed0cad54",
       "version_major": 2,
       "version_minor": 0
      },
      "text/plain": [
       "interactive(children=(IntSlider(value=5000, description='n', max=10000, min=1), IntSlider(value=123456789, des…"
      ]
     },
     "metadata": {},
     "output_type": "display_data"
    },
    {
     "data": {
      "text/plain": [
       "<function __main__.triangular(n, X0, a, c, m, a1, b1, c1)>"
      ]
     },
     "execution_count": 11,
     "metadata": {},
     "output_type": "execute_result"
    }
   ],
   "source": [
    "import numpy as np \n",
    "import matplotlib.pyplot as plt\n",
    "import ipywidgets as widgets\n",
    "\n",
    "# Generacion de numeros pseudoaleatorios con el metodo congruencial lineal\n",
    "def generate_pseudo_random_numbers(n, X0, a, c, m):\n",
    "    random_numbers = np.array([])\n",
    "    for i in range(n):\n",
    "        X0 = (a * X0 + c) % m\n",
    "        random_numbers = np.append(random_numbers, X0/m)\n",
    "    return random_numbers\n",
    "#Plot histogran and scatter in subplots\n",
    "def plot_histogram_scatter(n, X0, a, c, m):\n",
    "    random_numbers = generate_pseudo_random_numbers(n, X0, a, c, m)\n",
    "    media = np.mean(random_numbers)\n",
    "    varianza = np.var(random_numbers)\n",
    "    fig, axs = plt.subplots(2)\n",
    "    axs[0].hist(random_numbers, bins=100)\n",
    "    axs[0].grid(True)\n",
    "    axs[1].scatter(range(n), random_numbers)\n",
    "    axs[1].grid(True)\n",
    "    print(\"m = \",m)\n",
    "    print(\"Media: \", media)\n",
    "    print(\"Varianza: \", varianza)\n",
    "    plt.show()\n",
    "    return\n",
    "\n",
    "\n",
    "def triangular(n, X0, a, c, m, a1, b1, c1):\n",
    "    random_numbers = generate_pseudo_random_numbers(n, X0, a, c, m)\n",
    "    triangular = np.array([])\n",
    "    for i in range(n):\n",
    "        if random_numbers[i] < (c1-a1)/(b1-a1):\n",
    "            triangular = np.append(triangular, a1+np.sqrt(random_numbers[i]*(b1-a1)*(c1-a1)))\n",
    "        else:\n",
    "            triangular = np.append(triangular, b1-np.sqrt((1-random_numbers[i])*(b1-a1)*(b1-c1)))\n",
    "    media = np.mean(triangular)\n",
    "    varianza = np.var(triangular)\n",
    "    fig, axs = plt.subplots(2)\n",
    "    axs[0].hist(triangular, bins=100)\n",
    "    axs[0].grid(True)\n",
    "    axs[1].scatter(range(n), triangular)\n",
    "    axs[1].grid(True)\n",
    "    print(\"Media: \", media)\n",
    "    print(\"Varianza: \", varianza)\n",
    "    plt.show()\n",
    "    return\n",
    "\n",
    "widgets.interact(triangular, n=(1, 10000), X0=(123456789), a=(1664525), c=(1013904223), m=(2**(32)), a1=(0), b1=(1), c1=(0.5) )"
   ]
  }
 ],
 "metadata": {
  "kernelspec": {
   "display_name": "Python 3",
   "language": "python",
   "name": "python3"
  },
  "language_info": {
   "codemirror_mode": {
    "name": "ipython",
    "version": 3
   },
   "file_extension": ".py",
   "mimetype": "text/x-python",
   "name": "python",
   "nbconvert_exporter": "python",
   "pygments_lexer": "ipython3",
   "version": "3.11.5"
  }
 },
 "nbformat": 4,
 "nbformat_minor": 2
}
