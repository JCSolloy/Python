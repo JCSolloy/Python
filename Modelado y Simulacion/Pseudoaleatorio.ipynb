{
 "cells": [
  {
   "cell_type": "markdown",
   "metadata": {},
   "source": [
    "# Ejercicio 1\n",
    "\n",
    "A partir del ejemplo $X_{0} = 27,\\ a=17,\\ c=43\\ y\\ m=100$ genere 100 números pseudo-aleatorios mediante el método congruencial lineal. "
   ]
  },
  {
   "cell_type": "code",
   "execution_count": 17,
   "metadata": {},
   "outputs": [
    {
     "data": {
      "application/vnd.jupyter.widget-view+json": {
       "model_id": "01fc958adac944faa83046876e3e4589",
       "version_major": 2,
       "version_minor": 0
      },
      "text/plain": [
       "interactive(children=(IntSlider(value=500, description='n', max=1000, min=1), IntSlider(value=50, description=…"
      ]
     },
     "metadata": {},
     "output_type": "display_data"
    },
    {
     "data": {
      "text/plain": [
       "<function __main__.plot_histogram_scatter(n, X0, a, c, m)>"
      ]
     },
     "execution_count": 17,
     "metadata": {},
     "output_type": "execute_result"
    }
   ],
   "source": [
    "import numpy as np \n",
    "import matplotlib.pyplot as plt\n",
    "import ipywidgets as widgets\n",
    "\n",
    "# Generacion de numeros pseudoaleatorios con el metodo congruencial lineal\n",
    "def generate_pseudo_random_numbers(n, X0, a, c, m):\n",
    "    random_numbers = []\n",
    "    for i in range(n):\n",
    "        X0 = (a * X0 + c) % m\n",
    "        random_numbers.append(X0/m)\n",
    "    return random_numbers\n",
    "\n",
    "#Plot histogran and scatter in subplots\n",
    "def plot_histogram_scatter(n, X0, a, c, m):\n",
    "    random_numbers = generate_pseudo_random_numbers(n, X0, a, c, m)\n",
    "    fig, axs = plt.subplots(2)\n",
    "    axs[0].hist(random_numbers, bins=10)\n",
    "    axs[1].scatter(range(n), random_numbers)\n",
    "    plt.show()\n",
    "\n",
    "widgets.interact(plot_histogram_scatter, n=(1, 1000), X0=(1, 100), a=(1, 100), c=(1, 100), m=(1, 100))"
   ]
  }
 ],
 "metadata": {
  "kernelspec": {
   "display_name": "Python 3",
   "language": "python",
   "name": "python3"
  },
  "language_info": {
   "codemirror_mode": {
    "name": "ipython",
    "version": 3
   },
   "file_extension": ".py",
   "mimetype": "text/x-python",
   "name": "python",
   "nbconvert_exporter": "python",
   "pygments_lexer": "ipython3",
   "version": "3.11.7"
  }
 },
 "nbformat": 4,
 "nbformat_minor": 2
}
