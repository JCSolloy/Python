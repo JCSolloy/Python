{
 "cells": [
  {
   "cell_type": "markdown",
   "metadata": {},
   "source": [
    "# Ejercicio 1\n",
    "\n",
    "A partir del ejemplo $X_{0} = 27,\\ a=17,\\ c=43\\ y\\ m=100$ genere 100 números pseudo-aleatorios mediante el método congruencial lineal. "
   ]
  },
  {
   "cell_type": "code",
   "execution_count": 2,
   "metadata": {},
   "outputs": [
    {
     "data": {
      "application/vnd.jupyter.widget-view+json": {
       "model_id": "5ecec686981a43edbcafb3745ce23e17",
       "version_major": 2,
       "version_minor": 0
      },
      "text/plain": [
       "interactive(children=(IntSlider(value=500, description='n', max=1000, min=1), IntSlider(value=27, description=…"
      ]
     },
     "metadata": {},
     "output_type": "display_data"
    },
    {
     "data": {
      "text/plain": [
       "<function __main__.plot_histogram_scatter(n, X0, a, c, m)>"
      ]
     },
     "execution_count": 2,
     "metadata": {},
     "output_type": "execute_result"
    }
   ],
   "source": [
    "import numpy as np \n",
    "import matplotlib.pyplot as plt\n",
    "import ipywidgets as widgets\n",
    "\n",
    "def generate_pseudo_random_numbers(n, X0, a, c, m):\n",
    "    random_numbers = np.array([])\n",
    "    for i in range(n):\n",
    "        X0 = (a * X0 + c) % m\n",
    "        random_numbers = np.append(random_numbers, X0/m)\n",
    "    return random_numbers\n",
    "\n",
    "def plot_histogram_scatter(n, X0, a, c, m):\n",
    "    random_numbers = generate_pseudo_random_numbers(n, X0, a, c, m)\n",
    "    media = np.mean(random_numbers)\n",
    "    varianza = np.var(random_numbers)\n",
    "    fig, axs = plt.subplots(2)\n",
    "    axs[0].hist(random_numbers, bins=10)\n",
    "    axs[0].grid(True)\n",
    "    axs[1].scatter(range(n), random_numbers)\n",
    "    axs[1].grid(True)\n",
    "    print(\"Media: \", media)\n",
    "    print(\"Varianza: \", varianza)\n",
    "    plt.show()\n",
    "    print(random_numbers[:100])\n",
    "widgets.interact(plot_histogram_scatter, n=(1,1000), X0=(27), a=(17), c=(43), m=(100))"
   ]
  },
  {
   "cell_type": "markdown",
   "metadata": {},
   "source": [
    "# Ejercicio 2\n",
    "\n",
    "Repita el ejercicio anterior para el generador congruencial multplicativo con $a=13, \\ m = 2^6 = 64 \\ y\\ X_{0}=0,1,2,3,4$"
   ]
  },
  {
   "cell_type": "code",
   "execution_count": 3,
   "metadata": {},
   "outputs": [
    {
     "data": {
      "application/vnd.jupyter.widget-view+json": {
       "model_id": "83c2db8eb3ae42ab863a6ce87ecb2e45",
       "version_major": 2,
       "version_minor": 0
      },
      "text/plain": [
       "interactive(children=(IntSlider(value=500, description='n', max=1000, min=1), IntSlider(value=27, description=…"
      ]
     },
     "metadata": {},
     "output_type": "display_data"
    },
    {
     "data": {
      "text/plain": [
       "<function __main__.plot_histogram_scatter(n, X0, a, c, m)>"
      ]
     },
     "execution_count": 3,
     "metadata": {},
     "output_type": "execute_result"
    }
   ],
   "source": [
    "import numpy as np \n",
    "import matplotlib.pyplot as plt\n",
    "import ipywidgets as widgets\n",
    "\n",
    "def generate_pseudo_random_numbers(n, X0, a, c, m):\n",
    "    random_numbers = np.array([])\n",
    "    for i in range(n):\n",
    "        X0 = (a * X0 + c) % m\n",
    "        random_numbers = np.append(random_numbers, X0/m)\n",
    "    return random_numbers\n",
    "\n",
    "def plot_histogram_scatter(n, X0, a, c, m):\n",
    "    m = 2**m\n",
    "    random_numbers = generate_pseudo_random_numbers(n, X0, a, c, m)\n",
    "    media = np.mean(random_numbers)\n",
    "    varianza = np.var(random_numbers)\n",
    "    fig, axs = plt.subplots(2)\n",
    "    axs[0].hist(random_numbers, bins=10)\n",
    "    axs[0].grid(True)\n",
    "    axs[1].scatter(range(n), random_numbers)\n",
    "    axs[1].grid(True)\n",
    "    print(\"m = \",m)\n",
    "    print(\"Media: \", media)\n",
    "    print(\"Varianza: \", varianza)\n",
    "    plt.show()\n",
    "    print(random_numbers[:200])\n",
    "#a=13, m = 2^6 = 64 X_{0}=0,1,2,3,4\n",
    "widgets.interact(plot_histogram_scatter, n=(1,1000), X0=(27), a=(13), c=(43), m=(6))"
   ]
  },
  {
   "cell_type": "markdown",
   "metadata": {},
   "source": [
    "# Ejercicio 3 \n",
    "\n",
    "Inveztigue valores comunmente utilizados para generadores congruencial lineales, repita el ejercicio para estos valores investigados."
   ]
  },
  {
   "cell_type": "code",
   "execution_count": 9,
   "metadata": {},
   "outputs": [
    {
     "data": {
      "application/vnd.jupyter.widget-view+json": {
       "model_id": "02ce7bd5c418414db81441f20f0f0bfe",
       "version_major": 2,
       "version_minor": 0
      },
      "text/plain": [
       "Dropdown(description='Number:', index=1, options=(('One', 1), ('Two', 2), ('Three', 3)), value=2)"
      ]
     },
     "execution_count": 9,
     "metadata": {},
     "output_type": "execute_result"
    }
   ],
   "source": [
    "widgets.Dropdown(\n",
    "    options=[('One', 1), ('Two', 2), ('Three', 3)],\n",
    "    value=2,\n",
    "    description='Number:',\n",
    ")"
   ]
  },
  {
   "cell_type": "code",
   "execution_count": null,
   "metadata": {},
   "outputs": [],
   "source": []
  },
  {
   "cell_type": "code",
   "execution_count": 4,
   "metadata": {},
   "outputs": [
    {
     "data": {
      "application/vnd.jupyter.widget-view+json": {
       "model_id": "fdb974b638f54dd89b40793e587b737a",
       "version_major": 2,
       "version_minor": 0
      },
      "text/plain": [
       "interactive(children=(IntSlider(value=500, description='n', max=1000, min=1), IntSlider(value=50, description=…"
      ]
     },
     "metadata": {},
     "output_type": "display_data"
    },
    {
     "data": {
      "text/plain": [
       "<function __main__.plot_histogram_scatter(n, X0, a, c, m)>"
      ]
     },
     "execution_count": 4,
     "metadata": {},
     "output_type": "execute_result"
    }
   ],
   "source": [
    "import numpy as np \n",
    "import matplotlib.pyplot as plt\n",
    "import ipywidgets as widgets\n",
    "\n",
    "# Generacion de numeros pseudoaleatorios con el metodo congruencial lineal\n",
    "def generate_pseudo_random_numbers(n, X0, a, c, m):\n",
    "    random_numbers = np.array([])\n",
    "    for i in range(n):\n",
    "        X0 = (a * X0 + c) % m\n",
    "        random_numbers = np.append(random_numbers, X0/m)\n",
    "    return random_numbers\n",
    "\n",
    "#Plot histogran and scatter in subplots\n",
    "def plot_histogram_scatter(n, X0, a, c, m):\n",
    "    m = 2**m\n",
    "    random_numbers = generate_pseudo_random_numbers(n, X0, a, c, m)\n",
    "    media = np.mean(random_numbers)\n",
    "    varianza = np.var(random_numbers)\n",
    "    fig, axs = plt.subplots(2)\n",
    "    axs[0].hist(random_numbers, bins=10)\n",
    "    axs[0].grid(True)\n",
    "    axs[1].scatter(range(n), random_numbers)\n",
    "    axs[1].grid(True)\n",
    "    print(\"m = \",m)\n",
    "    print(\"Media: \", media)\n",
    "    print(\"Varianza: \", varianza)\n",
    "    plt.show()\n",
    "    print(random_numbers[:100])\n",
    "    return\n",
    "\n",
    "widgets.interact(plot_histogram_scatter, n=(1, 1000), X0=(1, 100), a=(1, 100), c=(1, 100), m=(1, 100))"
   ]
  },
  {
   "cell_type": "markdown",
   "metadata": {},
   "source": [
    "# Ejercicio 4\n",
    "\n",
    "Utilice el siguiente generador congruencial lineal de numeros aleatorios.$\\ a =16807,\\ c = 0 \\ y\\ m=2^{31}-1$"
   ]
  },
  {
   "cell_type": "markdown",
   "metadata": {},
   "source": [
    "- Cuántos bits son necesarios para la multiplicación mas larga posible?\n",
    "- Cuales son las implicaciones de este generador en una computadora con\n",
    "aritmética de 32 bits?\n"
   ]
  },
  {
   "cell_type": "code",
   "execution_count": 1,
   "metadata": {},
   "outputs": [
    {
     "data": {
      "application/vnd.jupyter.widget-view+json": {
       "model_id": "70bd22262f7241e0892e1401b0d7704b",
       "version_major": 2,
       "version_minor": 0
      },
      "text/plain": [
       "interactive(children=(IntSlider(value=500, description='n', max=1000, min=1), IntSlider(value=50, description=…"
      ]
     },
     "metadata": {},
     "output_type": "display_data"
    },
    {
     "data": {
      "text/plain": [
       "<function __main__.plot_histogram_scatter(n, X0, a, c, m)>"
      ]
     },
     "execution_count": 1,
     "metadata": {},
     "output_type": "execute_result"
    }
   ],
   "source": [
    "import numpy as np \n",
    "import matplotlib.pyplot as plt\n",
    "import ipywidgets as widgets\n",
    "\n",
    "# Generacion de numeros pseudoaleatorios con el metodo congruencial lineal\n",
    "def generate_pseudo_random_numbers(n, X0, a, c, m):\n",
    "    random_numbers = np.array([])\n",
    "    for i in range(n):\n",
    "        X0 = (a * X0 + c) % m\n",
    "        random_numbers = np.append(random_numbers, X0/m)\n",
    "    return random_numbers\n",
    "#Plot histogran and scatter in subplots\n",
    "def plot_histogram_scatter(n, X0, a, c, m):\n",
    "    random_numbers = generate_pseudo_random_numbers(n, X0, a, c, m)\n",
    "    media = np.mean(random_numbers)\n",
    "    varianza = np.var(random_numbers)\n",
    "    fig, axs = plt.subplots(2)\n",
    "    axs[0].hist(random_numbers, bins=10)\n",
    "    axs[0].grid(True)\n",
    "    axs[1].scatter(range(n), random_numbers)\n",
    "    axs[1].grid(True)\n",
    "    print(\"m = \",m)\n",
    "    print(\"Media: \", media)\n",
    "    print(\"Varianza: \", varianza)\n",
    "    plt.show()\n",
    "    print(random_numbers[:100])\n",
    "    return\n",
    "\n",
    "widgets.interact(plot_histogram_scatter, n=(1, 1000), X0=(1, 100), a=(16807), c=(0), m=(2**(31)-1))"
   ]
  }
 ],
 "metadata": {
  "kernelspec": {
   "display_name": "Python 3",
   "language": "python",
   "name": "python3"
  },
  "language_info": {
   "codemirror_mode": {
    "name": "ipython",
    "version": 3
   },
   "file_extension": ".py",
   "mimetype": "text/x-python",
   "name": "python",
   "nbconvert_exporter": "python",
   "pygments_lexer": "ipython3",
   "version": "3.11.7"
  }
 },
 "nbformat": 4,
 "nbformat_minor": 2
}
