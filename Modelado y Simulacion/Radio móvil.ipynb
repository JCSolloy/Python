{
 "cells": [
  {
   "cell_type": "markdown",
   "metadata": {},
   "source": [
    "En un programa de simulación para un sistema radio móvil celular es requerido inicialmente distribuir \n",
    "N estaciones móviles uniformemente dis- tribuidas en un area de un circulo con radio R. \n",
    "Para cada estación móvil el angulo φi y el radio ri debe ser generado. Describa el algoritmo."
   ]
  },
  {
   "cell_type": "code",
   "execution_count": 85,
   "metadata": {},
   "outputs": [
    {
     "data": {
      "application/vnd.plotly.v1+json": {
       "config": {
        "plotlyServerURL": "https://plot.ly"
       },
       "data": [
        {
         "hovertemplate": "r=%{r}<br>theta=%{theta}<extra></extra>",
         "legendgroup": "",
         "marker": {
          "color": "#636efa",
          "symbol": "circle"
         },
         "mode": "markers",
         "name": "",
         "r": [
          0.2142903469502926,
          0.8758254086133093,
          0.5243400414474308,
          0.34355825767852366,
          0.5449303174391389,
          0.37270335550419986,
          0.28888860112056136,
          0.5348481752444059,
          0.3949666675180197,
          0.12831840454600751,
          0.4283949160017073,
          0.28362571471370757,
          0.32885180693119764,
          0.29000012460164726,
          0.6934705297462642,
          0.26959387329407036,
          0.9780127853155136,
          0.9675452781375498,
          0.5401598778553307,
          0.8567551171872765,
          0.5475041242316365,
          0.5384546376299113,
          0.44176890095695853,
          0.6159333542454988,
          0.7025434616953135,
          0.3916463644709438,
          0.4008889705874026,
          0.9498349691275507,
          0.2880550092086196,
          0.0002709503751248121,
          0.23974112747237086,
          0.3362739209551364,
          0.5843458212912083,
          0.4642527212854475,
          0.4969656323082745,
          0.9551859034691006,
          0.05203987751156092,
          0.9131829037796706,
          0.008981829043477774,
          0.7150565676856786,
          0.7693949770182371,
          0.4101892539765686,
          0.504043320659548,
          0.9443888070527464,
          0.015127445571124554,
          0.24740724894218147,
          0.7871134574525058,
          0.26383410510607064,
          0.6998696550726891,
          0.7736778405960649,
          0.34368613781407475,
          0.4046129456255585,
          0.5993853555992246,
          0.14509677211754024,
          0.4406769215129316,
          0.9888492852915078,
          0.5926678199321032,
          0.6390404568519443,
          0.0525094554759562,
          0.5374440888408571,
          0.358045800589025,
          0.4222934197168797,
          0.1905222120694816,
          0.22111292672343552,
          0.23042229935526848,
          0.9139023011084646,
          0.46382053988054395,
          0.12021263525821269,
          0.17277114931493998,
          0.13338142330758274,
          0.9496990269981325,
          0.008982039289548993,
          0.06501640938222408,
          0.6748949193861336,
          0.7017591767944396,
          0.9298217373434454,
          0.7634195713326335,
          0.19804042461328208,
          0.4738473962061107,
          0.07323794928379357,
          0.633599579334259,
          0.575859330361709,
          0.4879382965154946,
          0.7290754264686257,
          0.5103106619790196,
          0.09069860051386058,
          0.3240883066318929,
          0.32466442440636456,
          0.2871029768139124,
          0.31854915036819875,
          0.2605845988728106,
          0.8155067379120737,
          0.5889910673722625,
          0.592485788045451,
          0.6424143272452056,
          0.9441257987637073,
          0.23125513270497322,
          0.18583371839486063,
          0.10617917822673917,
          0.13270583585835993
         ],
         "showlegend": false,
         "subplot": "polar",
         "theta": [
          23.520577512681484,
          314.2687663715333,
          223.3290466479957,
          146.35622528381646,
          240.87501481175423,
          129.0140054281801,
          282.36981170251966,
          15.808606753125787,
          66.14021692425013,
          169.5603076647967,
          336.1002159677446,
          96.96818028576672,
          45.27463607490063,
          248.5970441903919,
          199.96548229828477,
          269.4070226792246,
          89.4096065685153,
          250.35792815499008,
          115.34665508195758,
          116.03476566262543,
          333.29905182123184,
          209.21720615588129,
          275.0610885210335,
          303.3549435529858,
          212.40200389176607,
          90.51241214387119,
          257.80824741348624,
          78.0104034114629,
          151.72293551266193,
          224.21868382953107,
          289.6858204342425,
          335.24277769960463,
          269.5349046215415,
          192.09964158944786,
          220.90114591643214,
          204.89101943559945,
          309.11051139235497,
          178.95982987247407,
          115.80295013263822,
          30.553999850526452,
          61.58566776663065,
          248.6237211059779,
          324.35839807614684,
          307.5421685446054,
          353.081179484725,
          295.2662821020931,
          73.20045674219728,
          275.24327614344656,
          79.20714061707258,
          270.7201029639691,
          184.3705709092319,
          309.527159454301,
          340.0751405954361,
          18.384088492020965,
          139.88165142014623,
          110.81458912231028,
          178.94328374415636,
          294.3587120901793,
          320.2263759635389,
          253.43517978675663,
          197.61902131140232,
          166.43283217214048,
          174.95580235496163,
          351.8993627373129,
          171.74479600042105,
          111.54707106761634,
          93.45329431816936,
          149.7094210702926,
          279.09149900078773,
          62.358756428584456,
          74.02875976637006,
          206.33458734489977,
          163.9847395196557,
          103.53342513553798,
          259.4582015834749,
          27.975203739479184,
          230.9889268130064,
          88.38788970373571,
          217.09358090534806,
          217.74094470776618,
          290.9741647168994,
          296.50986718945205,
          51.667992901057005,
          190.86810213513672,
          132.69095867872238,
          302.97917059622705,
          48.92115505412221,
          10.60093299485743,
          202.97773528844118,
          159.81546278111637,
          318.1702079437673,
          230.36206950433552,
          308.72617430984974,
          160.2775728609413,
          191.95082852616906,
          197.83699178136885,
          103.72935321182013,
          226.63937511853874,
          110.85365591570735,
          46.597563000395894
         ],
         "type": "scatterpolar"
        }
       ],
       "layout": {
        "legend": {
         "tracegroupgap": 0
        },
        "margin": {
         "t": 60
        },
        "polar": {
         "angularaxis": {
          "direction": "clockwise",
          "rotation": 90
         },
         "domain": {
          "x": [
           0,
           1
          ],
          "y": [
           0,
           1
          ]
         }
        },
        "template": {
         "data": {
          "bar": [
           {
            "error_x": {
             "color": "#2a3f5f"
            },
            "error_y": {
             "color": "#2a3f5f"
            },
            "marker": {
             "line": {
              "color": "#E5ECF6",
              "width": 0.5
             },
             "pattern": {
              "fillmode": "overlay",
              "size": 10,
              "solidity": 0.2
             }
            },
            "type": "bar"
           }
          ],
          "barpolar": [
           {
            "marker": {
             "line": {
              "color": "#E5ECF6",
              "width": 0.5
             },
             "pattern": {
              "fillmode": "overlay",
              "size": 10,
              "solidity": 0.2
             }
            },
            "type": "barpolar"
           }
          ],
          "carpet": [
           {
            "aaxis": {
             "endlinecolor": "#2a3f5f",
             "gridcolor": "white",
             "linecolor": "white",
             "minorgridcolor": "white",
             "startlinecolor": "#2a3f5f"
            },
            "baxis": {
             "endlinecolor": "#2a3f5f",
             "gridcolor": "white",
             "linecolor": "white",
             "minorgridcolor": "white",
             "startlinecolor": "#2a3f5f"
            },
            "type": "carpet"
           }
          ],
          "choropleth": [
           {
            "colorbar": {
             "outlinewidth": 0,
             "ticks": ""
            },
            "type": "choropleth"
           }
          ],
          "contour": [
           {
            "colorbar": {
             "outlinewidth": 0,
             "ticks": ""
            },
            "colorscale": [
             [
              0,
              "#0d0887"
             ],
             [
              0.1111111111111111,
              "#46039f"
             ],
             [
              0.2222222222222222,
              "#7201a8"
             ],
             [
              0.3333333333333333,
              "#9c179e"
             ],
             [
              0.4444444444444444,
              "#bd3786"
             ],
             [
              0.5555555555555556,
              "#d8576b"
             ],
             [
              0.6666666666666666,
              "#ed7953"
             ],
             [
              0.7777777777777778,
              "#fb9f3a"
             ],
             [
              0.8888888888888888,
              "#fdca26"
             ],
             [
              1,
              "#f0f921"
             ]
            ],
            "type": "contour"
           }
          ],
          "contourcarpet": [
           {
            "colorbar": {
             "outlinewidth": 0,
             "ticks": ""
            },
            "type": "contourcarpet"
           }
          ],
          "heatmap": [
           {
            "colorbar": {
             "outlinewidth": 0,
             "ticks": ""
            },
            "colorscale": [
             [
              0,
              "#0d0887"
             ],
             [
              0.1111111111111111,
              "#46039f"
             ],
             [
              0.2222222222222222,
              "#7201a8"
             ],
             [
              0.3333333333333333,
              "#9c179e"
             ],
             [
              0.4444444444444444,
              "#bd3786"
             ],
             [
              0.5555555555555556,
              "#d8576b"
             ],
             [
              0.6666666666666666,
              "#ed7953"
             ],
             [
              0.7777777777777778,
              "#fb9f3a"
             ],
             [
              0.8888888888888888,
              "#fdca26"
             ],
             [
              1,
              "#f0f921"
             ]
            ],
            "type": "heatmap"
           }
          ],
          "heatmapgl": [
           {
            "colorbar": {
             "outlinewidth": 0,
             "ticks": ""
            },
            "colorscale": [
             [
              0,
              "#0d0887"
             ],
             [
              0.1111111111111111,
              "#46039f"
             ],
             [
              0.2222222222222222,
              "#7201a8"
             ],
             [
              0.3333333333333333,
              "#9c179e"
             ],
             [
              0.4444444444444444,
              "#bd3786"
             ],
             [
              0.5555555555555556,
              "#d8576b"
             ],
             [
              0.6666666666666666,
              "#ed7953"
             ],
             [
              0.7777777777777778,
              "#fb9f3a"
             ],
             [
              0.8888888888888888,
              "#fdca26"
             ],
             [
              1,
              "#f0f921"
             ]
            ],
            "type": "heatmapgl"
           }
          ],
          "histogram": [
           {
            "marker": {
             "pattern": {
              "fillmode": "overlay",
              "size": 10,
              "solidity": 0.2
             }
            },
            "type": "histogram"
           }
          ],
          "histogram2d": [
           {
            "colorbar": {
             "outlinewidth": 0,
             "ticks": ""
            },
            "colorscale": [
             [
              0,
              "#0d0887"
             ],
             [
              0.1111111111111111,
              "#46039f"
             ],
             [
              0.2222222222222222,
              "#7201a8"
             ],
             [
              0.3333333333333333,
              "#9c179e"
             ],
             [
              0.4444444444444444,
              "#bd3786"
             ],
             [
              0.5555555555555556,
              "#d8576b"
             ],
             [
              0.6666666666666666,
              "#ed7953"
             ],
             [
              0.7777777777777778,
              "#fb9f3a"
             ],
             [
              0.8888888888888888,
              "#fdca26"
             ],
             [
              1,
              "#f0f921"
             ]
            ],
            "type": "histogram2d"
           }
          ],
          "histogram2dcontour": [
           {
            "colorbar": {
             "outlinewidth": 0,
             "ticks": ""
            },
            "colorscale": [
             [
              0,
              "#0d0887"
             ],
             [
              0.1111111111111111,
              "#46039f"
             ],
             [
              0.2222222222222222,
              "#7201a8"
             ],
             [
              0.3333333333333333,
              "#9c179e"
             ],
             [
              0.4444444444444444,
              "#bd3786"
             ],
             [
              0.5555555555555556,
              "#d8576b"
             ],
             [
              0.6666666666666666,
              "#ed7953"
             ],
             [
              0.7777777777777778,
              "#fb9f3a"
             ],
             [
              0.8888888888888888,
              "#fdca26"
             ],
             [
              1,
              "#f0f921"
             ]
            ],
            "type": "histogram2dcontour"
           }
          ],
          "mesh3d": [
           {
            "colorbar": {
             "outlinewidth": 0,
             "ticks": ""
            },
            "type": "mesh3d"
           }
          ],
          "parcoords": [
           {
            "line": {
             "colorbar": {
              "outlinewidth": 0,
              "ticks": ""
             }
            },
            "type": "parcoords"
           }
          ],
          "pie": [
           {
            "automargin": true,
            "type": "pie"
           }
          ],
          "scatter": [
           {
            "fillpattern": {
             "fillmode": "overlay",
             "size": 10,
             "solidity": 0.2
            },
            "type": "scatter"
           }
          ],
          "scatter3d": [
           {
            "line": {
             "colorbar": {
              "outlinewidth": 0,
              "ticks": ""
             }
            },
            "marker": {
             "colorbar": {
              "outlinewidth": 0,
              "ticks": ""
             }
            },
            "type": "scatter3d"
           }
          ],
          "scattercarpet": [
           {
            "marker": {
             "colorbar": {
              "outlinewidth": 0,
              "ticks": ""
             }
            },
            "type": "scattercarpet"
           }
          ],
          "scattergeo": [
           {
            "marker": {
             "colorbar": {
              "outlinewidth": 0,
              "ticks": ""
             }
            },
            "type": "scattergeo"
           }
          ],
          "scattergl": [
           {
            "marker": {
             "colorbar": {
              "outlinewidth": 0,
              "ticks": ""
             }
            },
            "type": "scattergl"
           }
          ],
          "scattermapbox": [
           {
            "marker": {
             "colorbar": {
              "outlinewidth": 0,
              "ticks": ""
             }
            },
            "type": "scattermapbox"
           }
          ],
          "scatterpolar": [
           {
            "marker": {
             "colorbar": {
              "outlinewidth": 0,
              "ticks": ""
             }
            },
            "type": "scatterpolar"
           }
          ],
          "scatterpolargl": [
           {
            "marker": {
             "colorbar": {
              "outlinewidth": 0,
              "ticks": ""
             }
            },
            "type": "scatterpolargl"
           }
          ],
          "scatterternary": [
           {
            "marker": {
             "colorbar": {
              "outlinewidth": 0,
              "ticks": ""
             }
            },
            "type": "scatterternary"
           }
          ],
          "surface": [
           {
            "colorbar": {
             "outlinewidth": 0,
             "ticks": ""
            },
            "colorscale": [
             [
              0,
              "#0d0887"
             ],
             [
              0.1111111111111111,
              "#46039f"
             ],
             [
              0.2222222222222222,
              "#7201a8"
             ],
             [
              0.3333333333333333,
              "#9c179e"
             ],
             [
              0.4444444444444444,
              "#bd3786"
             ],
             [
              0.5555555555555556,
              "#d8576b"
             ],
             [
              0.6666666666666666,
              "#ed7953"
             ],
             [
              0.7777777777777778,
              "#fb9f3a"
             ],
             [
              0.8888888888888888,
              "#fdca26"
             ],
             [
              1,
              "#f0f921"
             ]
            ],
            "type": "surface"
           }
          ],
          "table": [
           {
            "cells": {
             "fill": {
              "color": "#EBF0F8"
             },
             "line": {
              "color": "white"
             }
            },
            "header": {
             "fill": {
              "color": "#C8D4E3"
             },
             "line": {
              "color": "white"
             }
            },
            "type": "table"
           }
          ]
         },
         "layout": {
          "annotationdefaults": {
           "arrowcolor": "#2a3f5f",
           "arrowhead": 0,
           "arrowwidth": 1
          },
          "autotypenumbers": "strict",
          "coloraxis": {
           "colorbar": {
            "outlinewidth": 0,
            "ticks": ""
           }
          },
          "colorscale": {
           "diverging": [
            [
             0,
             "#8e0152"
            ],
            [
             0.1,
             "#c51b7d"
            ],
            [
             0.2,
             "#de77ae"
            ],
            [
             0.3,
             "#f1b6da"
            ],
            [
             0.4,
             "#fde0ef"
            ],
            [
             0.5,
             "#f7f7f7"
            ],
            [
             0.6,
             "#e6f5d0"
            ],
            [
             0.7,
             "#b8e186"
            ],
            [
             0.8,
             "#7fbc41"
            ],
            [
             0.9,
             "#4d9221"
            ],
            [
             1,
             "#276419"
            ]
           ],
           "sequential": [
            [
             0,
             "#0d0887"
            ],
            [
             0.1111111111111111,
             "#46039f"
            ],
            [
             0.2222222222222222,
             "#7201a8"
            ],
            [
             0.3333333333333333,
             "#9c179e"
            ],
            [
             0.4444444444444444,
             "#bd3786"
            ],
            [
             0.5555555555555556,
             "#d8576b"
            ],
            [
             0.6666666666666666,
             "#ed7953"
            ],
            [
             0.7777777777777778,
             "#fb9f3a"
            ],
            [
             0.8888888888888888,
             "#fdca26"
            ],
            [
             1,
             "#f0f921"
            ]
           ],
           "sequentialminus": [
            [
             0,
             "#0d0887"
            ],
            [
             0.1111111111111111,
             "#46039f"
            ],
            [
             0.2222222222222222,
             "#7201a8"
            ],
            [
             0.3333333333333333,
             "#9c179e"
            ],
            [
             0.4444444444444444,
             "#bd3786"
            ],
            [
             0.5555555555555556,
             "#d8576b"
            ],
            [
             0.6666666666666666,
             "#ed7953"
            ],
            [
             0.7777777777777778,
             "#fb9f3a"
            ],
            [
             0.8888888888888888,
             "#fdca26"
            ],
            [
             1,
             "#f0f921"
            ]
           ]
          },
          "colorway": [
           "#636efa",
           "#EF553B",
           "#00cc96",
           "#ab63fa",
           "#FFA15A",
           "#19d3f3",
           "#FF6692",
           "#B6E880",
           "#FF97FF",
           "#FECB52"
          ],
          "font": {
           "color": "#2a3f5f"
          },
          "geo": {
           "bgcolor": "white",
           "lakecolor": "white",
           "landcolor": "#E5ECF6",
           "showlakes": true,
           "showland": true,
           "subunitcolor": "white"
          },
          "hoverlabel": {
           "align": "left"
          },
          "hovermode": "closest",
          "mapbox": {
           "style": "light"
          },
          "paper_bgcolor": "white",
          "plot_bgcolor": "#E5ECF6",
          "polar": {
           "angularaxis": {
            "gridcolor": "white",
            "linecolor": "white",
            "ticks": ""
           },
           "bgcolor": "#E5ECF6",
           "radialaxis": {
            "gridcolor": "white",
            "linecolor": "white",
            "ticks": ""
           }
          },
          "scene": {
           "xaxis": {
            "backgroundcolor": "#E5ECF6",
            "gridcolor": "white",
            "gridwidth": 2,
            "linecolor": "white",
            "showbackground": true,
            "ticks": "",
            "zerolinecolor": "white"
           },
           "yaxis": {
            "backgroundcolor": "#E5ECF6",
            "gridcolor": "white",
            "gridwidth": 2,
            "linecolor": "white",
            "showbackground": true,
            "ticks": "",
            "zerolinecolor": "white"
           },
           "zaxis": {
            "backgroundcolor": "#E5ECF6",
            "gridcolor": "white",
            "gridwidth": 2,
            "linecolor": "white",
            "showbackground": true,
            "ticks": "",
            "zerolinecolor": "white"
           }
          },
          "shapedefaults": {
           "line": {
            "color": "#2a3f5f"
           }
          },
          "ternary": {
           "aaxis": {
            "gridcolor": "white",
            "linecolor": "white",
            "ticks": ""
           },
           "baxis": {
            "gridcolor": "white",
            "linecolor": "white",
            "ticks": ""
           },
           "bgcolor": "#E5ECF6",
           "caxis": {
            "gridcolor": "white",
            "linecolor": "white",
            "ticks": ""
           }
          },
          "title": {
           "x": 0.05
          },
          "xaxis": {
           "automargin": true,
           "gridcolor": "white",
           "linecolor": "white",
           "ticks": "",
           "title": {
            "standoff": 15
           },
           "zerolinecolor": "white",
           "zerolinewidth": 2
          },
          "yaxis": {
           "automargin": true,
           "gridcolor": "white",
           "linecolor": "white",
           "ticks": "",
           "title": {
            "standoff": 15
           },
           "zerolinecolor": "white",
           "zerolinewidth": 2
          }
         }
        }
       }
      },
      "text/html": [
       "<div>                            <div id=\"b8a44a6f-c011-4f09-a008-ff420b6dd0a5\" class=\"plotly-graph-div\" style=\"height:525px; width:100%;\"></div>            <script type=\"text/javascript\">                require([\"plotly\"], function(Plotly) {                    window.PLOTLYENV=window.PLOTLYENV || {};                                    if (document.getElementById(\"b8a44a6f-c011-4f09-a008-ff420b6dd0a5\")) {                    Plotly.newPlot(                        \"b8a44a6f-c011-4f09-a008-ff420b6dd0a5\",                        [{\"hovertemplate\":\"r=%{r}<br>theta=%{theta}<extra></extra>\",\"legendgroup\":\"\",\"marker\":{\"color\":\"#636efa\",\"symbol\":\"circle\"},\"mode\":\"markers\",\"name\":\"\",\"r\":[0.2142903469502926,0.8758254086133093,0.5243400414474308,0.34355825767852366,0.5449303174391389,0.37270335550419986,0.28888860112056136,0.5348481752444059,0.3949666675180197,0.12831840454600751,0.4283949160017073,0.28362571471370757,0.32885180693119764,0.29000012460164726,0.6934705297462642,0.26959387329407036,0.9780127853155136,0.9675452781375498,0.5401598778553307,0.8567551171872765,0.5475041242316365,0.5384546376299113,0.44176890095695853,0.6159333542454988,0.7025434616953135,0.3916463644709438,0.4008889705874026,0.9498349691275507,0.2880550092086196,0.0002709503751248121,0.23974112747237086,0.3362739209551364,0.5843458212912083,0.4642527212854475,0.4969656323082745,0.9551859034691006,0.05203987751156092,0.9131829037796706,0.008981829043477774,0.7150565676856786,0.7693949770182371,0.4101892539765686,0.504043320659548,0.9443888070527464,0.015127445571124554,0.24740724894218147,0.7871134574525058,0.26383410510607064,0.6998696550726891,0.7736778405960649,0.34368613781407475,0.4046129456255585,0.5993853555992246,0.14509677211754024,0.4406769215129316,0.9888492852915078,0.5926678199321032,0.6390404568519443,0.0525094554759562,0.5374440888408571,0.358045800589025,0.4222934197168797,0.1905222120694816,0.22111292672343552,0.23042229935526848,0.9139023011084646,0.46382053988054395,0.12021263525821269,0.17277114931493998,0.13338142330758274,0.9496990269981325,0.008982039289548993,0.06501640938222408,0.6748949193861336,0.7017591767944396,0.9298217373434454,0.7634195713326335,0.19804042461328208,0.4738473962061107,0.07323794928379357,0.633599579334259,0.575859330361709,0.4879382965154946,0.7290754264686257,0.5103106619790196,0.09069860051386058,0.3240883066318929,0.32466442440636456,0.2871029768139124,0.31854915036819875,0.2605845988728106,0.8155067379120737,0.5889910673722625,0.592485788045451,0.6424143272452056,0.9441257987637073,0.23125513270497322,0.18583371839486063,0.10617917822673917,0.13270583585835993],\"showlegend\":false,\"subplot\":\"polar\",\"theta\":[23.520577512681484,314.2687663715333,223.3290466479957,146.35622528381646,240.87501481175423,129.0140054281801,282.36981170251966,15.808606753125787,66.14021692425013,169.5603076647967,336.1002159677446,96.96818028576672,45.27463607490063,248.5970441903919,199.96548229828477,269.4070226792246,89.4096065685153,250.35792815499008,115.34665508195758,116.03476566262543,333.29905182123184,209.21720615588129,275.0610885210335,303.3549435529858,212.40200389176607,90.51241214387119,257.80824741348624,78.0104034114629,151.72293551266193,224.21868382953107,289.6858204342425,335.24277769960463,269.5349046215415,192.09964158944786,220.90114591643214,204.89101943559945,309.11051139235497,178.95982987247407,115.80295013263822,30.553999850526452,61.58566776663065,248.6237211059779,324.35839807614684,307.5421685446054,353.081179484725,295.2662821020931,73.20045674219728,275.24327614344656,79.20714061707258,270.7201029639691,184.3705709092319,309.527159454301,340.0751405954361,18.384088492020965,139.88165142014623,110.81458912231028,178.94328374415636,294.3587120901793,320.2263759635389,253.43517978675663,197.61902131140232,166.43283217214048,174.95580235496163,351.8993627373129,171.74479600042105,111.54707106761634,93.45329431816936,149.7094210702926,279.09149900078773,62.358756428584456,74.02875976637006,206.33458734489977,163.9847395196557,103.53342513553798,259.4582015834749,27.975203739479184,230.9889268130064,88.38788970373571,217.09358090534806,217.74094470776618,290.9741647168994,296.50986718945205,51.667992901057005,190.86810213513672,132.69095867872238,302.97917059622705,48.92115505412221,10.60093299485743,202.97773528844118,159.81546278111637,318.1702079437673,230.36206950433552,308.72617430984974,160.2775728609413,191.95082852616906,197.83699178136885,103.72935321182013,226.63937511853874,110.85365591570735,46.597563000395894],\"type\":\"scatterpolar\"}],                        {\"template\":{\"data\":{\"histogram2dcontour\":[{\"type\":\"histogram2dcontour\",\"colorbar\":{\"outlinewidth\":0,\"ticks\":\"\"},\"colorscale\":[[0.0,\"#0d0887\"],[0.1111111111111111,\"#46039f\"],[0.2222222222222222,\"#7201a8\"],[0.3333333333333333,\"#9c179e\"],[0.4444444444444444,\"#bd3786\"],[0.5555555555555556,\"#d8576b\"],[0.6666666666666666,\"#ed7953\"],[0.7777777777777778,\"#fb9f3a\"],[0.8888888888888888,\"#fdca26\"],[1.0,\"#f0f921\"]]}],\"choropleth\":[{\"type\":\"choropleth\",\"colorbar\":{\"outlinewidth\":0,\"ticks\":\"\"}}],\"histogram2d\":[{\"type\":\"histogram2d\",\"colorbar\":{\"outlinewidth\":0,\"ticks\":\"\"},\"colorscale\":[[0.0,\"#0d0887\"],[0.1111111111111111,\"#46039f\"],[0.2222222222222222,\"#7201a8\"],[0.3333333333333333,\"#9c179e\"],[0.4444444444444444,\"#bd3786\"],[0.5555555555555556,\"#d8576b\"],[0.6666666666666666,\"#ed7953\"],[0.7777777777777778,\"#fb9f3a\"],[0.8888888888888888,\"#fdca26\"],[1.0,\"#f0f921\"]]}],\"heatmap\":[{\"type\":\"heatmap\",\"colorbar\":{\"outlinewidth\":0,\"ticks\":\"\"},\"colorscale\":[[0.0,\"#0d0887\"],[0.1111111111111111,\"#46039f\"],[0.2222222222222222,\"#7201a8\"],[0.3333333333333333,\"#9c179e\"],[0.4444444444444444,\"#bd3786\"],[0.5555555555555556,\"#d8576b\"],[0.6666666666666666,\"#ed7953\"],[0.7777777777777778,\"#fb9f3a\"],[0.8888888888888888,\"#fdca26\"],[1.0,\"#f0f921\"]]}],\"heatmapgl\":[{\"type\":\"heatmapgl\",\"colorbar\":{\"outlinewidth\":0,\"ticks\":\"\"},\"colorscale\":[[0.0,\"#0d0887\"],[0.1111111111111111,\"#46039f\"],[0.2222222222222222,\"#7201a8\"],[0.3333333333333333,\"#9c179e\"],[0.4444444444444444,\"#bd3786\"],[0.5555555555555556,\"#d8576b\"],[0.6666666666666666,\"#ed7953\"],[0.7777777777777778,\"#fb9f3a\"],[0.8888888888888888,\"#fdca26\"],[1.0,\"#f0f921\"]]}],\"contourcarpet\":[{\"type\":\"contourcarpet\",\"colorbar\":{\"outlinewidth\":0,\"ticks\":\"\"}}],\"contour\":[{\"type\":\"contour\",\"colorbar\":{\"outlinewidth\":0,\"ticks\":\"\"},\"colorscale\":[[0.0,\"#0d0887\"],[0.1111111111111111,\"#46039f\"],[0.2222222222222222,\"#7201a8\"],[0.3333333333333333,\"#9c179e\"],[0.4444444444444444,\"#bd3786\"],[0.5555555555555556,\"#d8576b\"],[0.6666666666666666,\"#ed7953\"],[0.7777777777777778,\"#fb9f3a\"],[0.8888888888888888,\"#fdca26\"],[1.0,\"#f0f921\"]]}],\"surface\":[{\"type\":\"surface\",\"colorbar\":{\"outlinewidth\":0,\"ticks\":\"\"},\"colorscale\":[[0.0,\"#0d0887\"],[0.1111111111111111,\"#46039f\"],[0.2222222222222222,\"#7201a8\"],[0.3333333333333333,\"#9c179e\"],[0.4444444444444444,\"#bd3786\"],[0.5555555555555556,\"#d8576b\"],[0.6666666666666666,\"#ed7953\"],[0.7777777777777778,\"#fb9f3a\"],[0.8888888888888888,\"#fdca26\"],[1.0,\"#f0f921\"]]}],\"mesh3d\":[{\"type\":\"mesh3d\",\"colorbar\":{\"outlinewidth\":0,\"ticks\":\"\"}}],\"scatter\":[{\"fillpattern\":{\"fillmode\":\"overlay\",\"size\":10,\"solidity\":0.2},\"type\":\"scatter\"}],\"parcoords\":[{\"type\":\"parcoords\",\"line\":{\"colorbar\":{\"outlinewidth\":0,\"ticks\":\"\"}}}],\"scatterpolargl\":[{\"type\":\"scatterpolargl\",\"marker\":{\"colorbar\":{\"outlinewidth\":0,\"ticks\":\"\"}}}],\"bar\":[{\"error_x\":{\"color\":\"#2a3f5f\"},\"error_y\":{\"color\":\"#2a3f5f\"},\"marker\":{\"line\":{\"color\":\"#E5ECF6\",\"width\":0.5},\"pattern\":{\"fillmode\":\"overlay\",\"size\":10,\"solidity\":0.2}},\"type\":\"bar\"}],\"scattergeo\":[{\"type\":\"scattergeo\",\"marker\":{\"colorbar\":{\"outlinewidth\":0,\"ticks\":\"\"}}}],\"scatterpolar\":[{\"type\":\"scatterpolar\",\"marker\":{\"colorbar\":{\"outlinewidth\":0,\"ticks\":\"\"}}}],\"histogram\":[{\"marker\":{\"pattern\":{\"fillmode\":\"overlay\",\"size\":10,\"solidity\":0.2}},\"type\":\"histogram\"}],\"scattergl\":[{\"type\":\"scattergl\",\"marker\":{\"colorbar\":{\"outlinewidth\":0,\"ticks\":\"\"}}}],\"scatter3d\":[{\"type\":\"scatter3d\",\"line\":{\"colorbar\":{\"outlinewidth\":0,\"ticks\":\"\"}},\"marker\":{\"colorbar\":{\"outlinewidth\":0,\"ticks\":\"\"}}}],\"scattermapbox\":[{\"type\":\"scattermapbox\",\"marker\":{\"colorbar\":{\"outlinewidth\":0,\"ticks\":\"\"}}}],\"scatterternary\":[{\"type\":\"scatterternary\",\"marker\":{\"colorbar\":{\"outlinewidth\":0,\"ticks\":\"\"}}}],\"scattercarpet\":[{\"type\":\"scattercarpet\",\"marker\":{\"colorbar\":{\"outlinewidth\":0,\"ticks\":\"\"}}}],\"carpet\":[{\"aaxis\":{\"endlinecolor\":\"#2a3f5f\",\"gridcolor\":\"white\",\"linecolor\":\"white\",\"minorgridcolor\":\"white\",\"startlinecolor\":\"#2a3f5f\"},\"baxis\":{\"endlinecolor\":\"#2a3f5f\",\"gridcolor\":\"white\",\"linecolor\":\"white\",\"minorgridcolor\":\"white\",\"startlinecolor\":\"#2a3f5f\"},\"type\":\"carpet\"}],\"table\":[{\"cells\":{\"fill\":{\"color\":\"#EBF0F8\"},\"line\":{\"color\":\"white\"}},\"header\":{\"fill\":{\"color\":\"#C8D4E3\"},\"line\":{\"color\":\"white\"}},\"type\":\"table\"}],\"barpolar\":[{\"marker\":{\"line\":{\"color\":\"#E5ECF6\",\"width\":0.5},\"pattern\":{\"fillmode\":\"overlay\",\"size\":10,\"solidity\":0.2}},\"type\":\"barpolar\"}],\"pie\":[{\"automargin\":true,\"type\":\"pie\"}]},\"layout\":{\"autotypenumbers\":\"strict\",\"colorway\":[\"#636efa\",\"#EF553B\",\"#00cc96\",\"#ab63fa\",\"#FFA15A\",\"#19d3f3\",\"#FF6692\",\"#B6E880\",\"#FF97FF\",\"#FECB52\"],\"font\":{\"color\":\"#2a3f5f\"},\"hovermode\":\"closest\",\"hoverlabel\":{\"align\":\"left\"},\"paper_bgcolor\":\"white\",\"plot_bgcolor\":\"#E5ECF6\",\"polar\":{\"bgcolor\":\"#E5ECF6\",\"angularaxis\":{\"gridcolor\":\"white\",\"linecolor\":\"white\",\"ticks\":\"\"},\"radialaxis\":{\"gridcolor\":\"white\",\"linecolor\":\"white\",\"ticks\":\"\"}},\"ternary\":{\"bgcolor\":\"#E5ECF6\",\"aaxis\":{\"gridcolor\":\"white\",\"linecolor\":\"white\",\"ticks\":\"\"},\"baxis\":{\"gridcolor\":\"white\",\"linecolor\":\"white\",\"ticks\":\"\"},\"caxis\":{\"gridcolor\":\"white\",\"linecolor\":\"white\",\"ticks\":\"\"}},\"coloraxis\":{\"colorbar\":{\"outlinewidth\":0,\"ticks\":\"\"}},\"colorscale\":{\"sequential\":[[0.0,\"#0d0887\"],[0.1111111111111111,\"#46039f\"],[0.2222222222222222,\"#7201a8\"],[0.3333333333333333,\"#9c179e\"],[0.4444444444444444,\"#bd3786\"],[0.5555555555555556,\"#d8576b\"],[0.6666666666666666,\"#ed7953\"],[0.7777777777777778,\"#fb9f3a\"],[0.8888888888888888,\"#fdca26\"],[1.0,\"#f0f921\"]],\"sequentialminus\":[[0.0,\"#0d0887\"],[0.1111111111111111,\"#46039f\"],[0.2222222222222222,\"#7201a8\"],[0.3333333333333333,\"#9c179e\"],[0.4444444444444444,\"#bd3786\"],[0.5555555555555556,\"#d8576b\"],[0.6666666666666666,\"#ed7953\"],[0.7777777777777778,\"#fb9f3a\"],[0.8888888888888888,\"#fdca26\"],[1.0,\"#f0f921\"]],\"diverging\":[[0,\"#8e0152\"],[0.1,\"#c51b7d\"],[0.2,\"#de77ae\"],[0.3,\"#f1b6da\"],[0.4,\"#fde0ef\"],[0.5,\"#f7f7f7\"],[0.6,\"#e6f5d0\"],[0.7,\"#b8e186\"],[0.8,\"#7fbc41\"],[0.9,\"#4d9221\"],[1,\"#276419\"]]},\"xaxis\":{\"gridcolor\":\"white\",\"linecolor\":\"white\",\"ticks\":\"\",\"title\":{\"standoff\":15},\"zerolinecolor\":\"white\",\"automargin\":true,\"zerolinewidth\":2},\"yaxis\":{\"gridcolor\":\"white\",\"linecolor\":\"white\",\"ticks\":\"\",\"title\":{\"standoff\":15},\"zerolinecolor\":\"white\",\"automargin\":true,\"zerolinewidth\":2},\"scene\":{\"xaxis\":{\"backgroundcolor\":\"#E5ECF6\",\"gridcolor\":\"white\",\"linecolor\":\"white\",\"showbackground\":true,\"ticks\":\"\",\"zerolinecolor\":\"white\",\"gridwidth\":2},\"yaxis\":{\"backgroundcolor\":\"#E5ECF6\",\"gridcolor\":\"white\",\"linecolor\":\"white\",\"showbackground\":true,\"ticks\":\"\",\"zerolinecolor\":\"white\",\"gridwidth\":2},\"zaxis\":{\"backgroundcolor\":\"#E5ECF6\",\"gridcolor\":\"white\",\"linecolor\":\"white\",\"showbackground\":true,\"ticks\":\"\",\"zerolinecolor\":\"white\",\"gridwidth\":2}},\"shapedefaults\":{\"line\":{\"color\":\"#2a3f5f\"}},\"annotationdefaults\":{\"arrowcolor\":\"#2a3f5f\",\"arrowhead\":0,\"arrowwidth\":1},\"geo\":{\"bgcolor\":\"white\",\"landcolor\":\"#E5ECF6\",\"subunitcolor\":\"white\",\"showland\":true,\"showlakes\":true,\"lakecolor\":\"white\"},\"title\":{\"x\":0.05},\"mapbox\":{\"style\":\"light\"}}},\"polar\":{\"domain\":{\"x\":[0.0,1.0],\"y\":[0.0,1.0]},\"angularaxis\":{\"direction\":\"clockwise\",\"rotation\":90}},\"legend\":{\"tracegroupgap\":0},\"margin\":{\"t\":60}},                        {\"responsive\": true}                    ).then(function(){\n",
       "                            \n",
       "var gd = document.getElementById('b8a44a6f-c011-4f09-a008-ff420b6dd0a5');\n",
       "var x = new MutationObserver(function (mutations, observer) {{\n",
       "        var display = window.getComputedStyle(gd).display;\n",
       "        if (!display || display === 'none') {{\n",
       "            console.log([gd, 'removed!']);\n",
       "            Plotly.purge(gd);\n",
       "            observer.disconnect();\n",
       "        }}\n",
       "}});\n",
       "\n",
       "// Listen for the removal of the full notebook cells\n",
       "var notebookContainer = gd.closest('#notebook-container');\n",
       "if (notebookContainer) {{\n",
       "    x.observe(notebookContainer, {childList: true});\n",
       "}}\n",
       "\n",
       "// Listen for the clearing of the current output cell\n",
       "var outputEl = gd.closest('.output');\n",
       "if (outputEl) {{\n",
       "    x.observe(outputEl, {childList: true});\n",
       "}}\n",
       "\n",
       "                        })                };                });            </script>        </div>"
      ]
     },
     "metadata": {},
     "output_type": "display_data"
    },
    {
     "name": "stdout",
     "output_type": "stream",
     "text": [
      "Media:  0.46508194292429833\n",
      "Varianza:  0.0744990267403551\n",
      "Media:  0.5009450793126597\n",
      "Varianza:  0.0715895979629206\n",
      "Uniforme\n"
     ]
    },
    {
     "data": {
      "application/vnd.plotly.v1+json": {
       "config": {
        "plotlyServerURL": "https://plot.ly"
       },
       "data": [
        {
         "hovertemplate": "r=%{r}<br>theta=%{theta}<extra></extra>",
         "legendgroup": "",
         "marker": {
          "color": "#636efa",
          "symbol": "circle"
         },
         "mode": "markers",
         "name": "",
         "r": [
          0.2142903469502926,
          0.8758254086133093,
          0.5243400414474308,
          0.34355825767852366,
          0.5449303174391389,
          0.37270335550419986,
          0.28888860112056136,
          0.5348481752444059,
          0.3949666675180197,
          0.12831840454600751,
          0.4283949160017073,
          0.28362571471370757,
          0.32885180693119764,
          0.29000012460164726,
          0.6934705297462642,
          0.26959387329407036,
          0.9780127853155136,
          0.9675452781375498,
          0.5401598778553307,
          0.8567551171872765,
          0.5475041242316365,
          0.5384546376299113,
          0.44176890095695853,
          0.6159333542454988,
          0.7025434616953135,
          0.3916463644709438,
          0.4008889705874026,
          0.9498349691275507,
          0.2880550092086196,
          0.0002709503751248121,
          0.23974112747237086,
          0.3362739209551364,
          0.5843458212912083,
          0.4642527212854475,
          0.4969656323082745,
          0.9551859034691006,
          0.05203987751156092,
          0.9131829037796706,
          0.008981829043477774,
          0.7150565676856786,
          0.7693949770182371,
          0.4101892539765686,
          0.504043320659548,
          0.9443888070527464,
          0.015127445571124554,
          0.24740724894218147,
          0.7871134574525058,
          0.26383410510607064,
          0.6998696550726891,
          0.7736778405960649,
          0.34368613781407475,
          0.4046129456255585,
          0.5993853555992246,
          0.14509677211754024,
          0.4406769215129316,
          0.9888492852915078,
          0.5926678199321032,
          0.6390404568519443,
          0.0525094554759562,
          0.5374440888408571,
          0.358045800589025,
          0.4222934197168797,
          0.1905222120694816,
          0.22111292672343552,
          0.23042229935526848,
          0.9139023011084646,
          0.46382053988054395,
          0.12021263525821269,
          0.17277114931493998,
          0.13338142330758274,
          0.9496990269981325,
          0.008982039289548993,
          0.06501640938222408,
          0.6748949193861336,
          0.7017591767944396,
          0.9298217373434454,
          0.7634195713326335,
          0.19804042461328208,
          0.4738473962061107,
          0.07323794928379357,
          0.633599579334259,
          0.575859330361709,
          0.4879382965154946,
          0.7290754264686257,
          0.5103106619790196,
          0.09069860051386058,
          0.3240883066318929,
          0.32466442440636456,
          0.2871029768139124,
          0.31854915036819875,
          0.2605845988728106,
          0.8155067379120737,
          0.5889910673722625,
          0.592485788045451,
          0.6424143272452056,
          0.9441257987637073,
          0.23125513270497322,
          0.18583371839486063,
          0.10617917822673917,
          0.13270583585835993
         ],
         "showlegend": false,
         "subplot": "polar",
         "theta": [
          192.19631787389517,
          220.99351557902992,
          236.50365499779582,
          211.31967631168664,
          329.1971804201603,
          301.7233375366777,
          203.39770870283246,
          96.063052425161,
          37.3224613443017,
          134.95359401218593,
          196.05760401114821,
          348.3011267054826,
          137.91391365230083,
          42.106566270813346,
          197.20639580860734,
          220.96779235638678,
          259.55648493021727,
          183.06294011883438,
          285.3857730142772,
          318.8110600132495,
          264.6530243754387,
          100.38299730978906,
          53.58154686167836,
          69.27440539933741,
          344.6318023279309,
          215.75436945073307,
          186.7944516800344,
          39.66717948205769,
          216.91184230148792,
          109.29135440848768,
          196.6812581755221,
          196.2490811292082,
          106.75106551498175,
          22.31079521588981,
          81.39119921252131,
          50.85369226522744,
          167.1022479236126,
          234.209521478042,
          88.72270809486508,
          250.67607552744448,
          119.60178975015879,
          254.06835327856243,
          50.72546934708953,
          216.84943442232907,
          269.81629751622677,
          217.60766758583486,
          207.8727819956839,
          207.43583598174155,
          99.87197857350111,
          130.11952715925872,
          130.9292353503406,
          70.4559959191829,
          91.5918481349945,
          246.00137195549905,
          358.6386972852051,
          2.583126286044717,
          283.2657488062978,
          205.5162730347365,
          299.3576150201261,
          79.12584562785923,
          313.1781826168299,
          39.404748966917396,
          74.7586284019053,
          90.9251516405493,
          33.018955551087856,
          121.97314473800361,
          33.72949568554759,
          233.7904563266784,
          224.30163457989693,
          123.2835731562227,
          34.59233181551099,
          46.099683651700616,
          160.9148171916604,
          341.0704187583178,
          323.7681592069566,
          280.1884297002107,
          10.931213423609734,
          243.00840421579778,
          169.01177102699876,
          243.15318533219397,
          320.7995403930545,
          299.957219241187,
          215.34190697595477,
          152.69362133927643,
          275.04422932863235,
          320.80771199427545,
          221.79174156859517,
          143.61893610097468,
          114.59794510155916,
          189.55464298836887,
          127.10468491539359,
          250.64326574094594,
          226.89191825687885,
          355.2210014965385,
          242.5004960037768,
          23.095156783238053,
          310.8290895447135,
          235.25888445787132,
          59.63670847937465,
          117.16610130853951
         ],
         "type": "scatterpolar"
        }
       ],
       "layout": {
        "legend": {
         "tracegroupgap": 0
        },
        "margin": {
         "t": 60
        },
        "polar": {
         "angularaxis": {
          "direction": "clockwise",
          "rotation": 90
         },
         "domain": {
          "x": [
           0,
           1
          ],
          "y": [
           0,
           1
          ]
         }
        },
        "template": {
         "data": {
          "bar": [
           {
            "error_x": {
             "color": "#2a3f5f"
            },
            "error_y": {
             "color": "#2a3f5f"
            },
            "marker": {
             "line": {
              "color": "#E5ECF6",
              "width": 0.5
             },
             "pattern": {
              "fillmode": "overlay",
              "size": 10,
              "solidity": 0.2
             }
            },
            "type": "bar"
           }
          ],
          "barpolar": [
           {
            "marker": {
             "line": {
              "color": "#E5ECF6",
              "width": 0.5
             },
             "pattern": {
              "fillmode": "overlay",
              "size": 10,
              "solidity": 0.2
             }
            },
            "type": "barpolar"
           }
          ],
          "carpet": [
           {
            "aaxis": {
             "endlinecolor": "#2a3f5f",
             "gridcolor": "white",
             "linecolor": "white",
             "minorgridcolor": "white",
             "startlinecolor": "#2a3f5f"
            },
            "baxis": {
             "endlinecolor": "#2a3f5f",
             "gridcolor": "white",
             "linecolor": "white",
             "minorgridcolor": "white",
             "startlinecolor": "#2a3f5f"
            },
            "type": "carpet"
           }
          ],
          "choropleth": [
           {
            "colorbar": {
             "outlinewidth": 0,
             "ticks": ""
            },
            "type": "choropleth"
           }
          ],
          "contour": [
           {
            "colorbar": {
             "outlinewidth": 0,
             "ticks": ""
            },
            "colorscale": [
             [
              0,
              "#0d0887"
             ],
             [
              0.1111111111111111,
              "#46039f"
             ],
             [
              0.2222222222222222,
              "#7201a8"
             ],
             [
              0.3333333333333333,
              "#9c179e"
             ],
             [
              0.4444444444444444,
              "#bd3786"
             ],
             [
              0.5555555555555556,
              "#d8576b"
             ],
             [
              0.6666666666666666,
              "#ed7953"
             ],
             [
              0.7777777777777778,
              "#fb9f3a"
             ],
             [
              0.8888888888888888,
              "#fdca26"
             ],
             [
              1,
              "#f0f921"
             ]
            ],
            "type": "contour"
           }
          ],
          "contourcarpet": [
           {
            "colorbar": {
             "outlinewidth": 0,
             "ticks": ""
            },
            "type": "contourcarpet"
           }
          ],
          "heatmap": [
           {
            "colorbar": {
             "outlinewidth": 0,
             "ticks": ""
            },
            "colorscale": [
             [
              0,
              "#0d0887"
             ],
             [
              0.1111111111111111,
              "#46039f"
             ],
             [
              0.2222222222222222,
              "#7201a8"
             ],
             [
              0.3333333333333333,
              "#9c179e"
             ],
             [
              0.4444444444444444,
              "#bd3786"
             ],
             [
              0.5555555555555556,
              "#d8576b"
             ],
             [
              0.6666666666666666,
              "#ed7953"
             ],
             [
              0.7777777777777778,
              "#fb9f3a"
             ],
             [
              0.8888888888888888,
              "#fdca26"
             ],
             [
              1,
              "#f0f921"
             ]
            ],
            "type": "heatmap"
           }
          ],
          "heatmapgl": [
           {
            "colorbar": {
             "outlinewidth": 0,
             "ticks": ""
            },
            "colorscale": [
             [
              0,
              "#0d0887"
             ],
             [
              0.1111111111111111,
              "#46039f"
             ],
             [
              0.2222222222222222,
              "#7201a8"
             ],
             [
              0.3333333333333333,
              "#9c179e"
             ],
             [
              0.4444444444444444,
              "#bd3786"
             ],
             [
              0.5555555555555556,
              "#d8576b"
             ],
             [
              0.6666666666666666,
              "#ed7953"
             ],
             [
              0.7777777777777778,
              "#fb9f3a"
             ],
             [
              0.8888888888888888,
              "#fdca26"
             ],
             [
              1,
              "#f0f921"
             ]
            ],
            "type": "heatmapgl"
           }
          ],
          "histogram": [
           {
            "marker": {
             "pattern": {
              "fillmode": "overlay",
              "size": 10,
              "solidity": 0.2
             }
            },
            "type": "histogram"
           }
          ],
          "histogram2d": [
           {
            "colorbar": {
             "outlinewidth": 0,
             "ticks": ""
            },
            "colorscale": [
             [
              0,
              "#0d0887"
             ],
             [
              0.1111111111111111,
              "#46039f"
             ],
             [
              0.2222222222222222,
              "#7201a8"
             ],
             [
              0.3333333333333333,
              "#9c179e"
             ],
             [
              0.4444444444444444,
              "#bd3786"
             ],
             [
              0.5555555555555556,
              "#d8576b"
             ],
             [
              0.6666666666666666,
              "#ed7953"
             ],
             [
              0.7777777777777778,
              "#fb9f3a"
             ],
             [
              0.8888888888888888,
              "#fdca26"
             ],
             [
              1,
              "#f0f921"
             ]
            ],
            "type": "histogram2d"
           }
          ],
          "histogram2dcontour": [
           {
            "colorbar": {
             "outlinewidth": 0,
             "ticks": ""
            },
            "colorscale": [
             [
              0,
              "#0d0887"
             ],
             [
              0.1111111111111111,
              "#46039f"
             ],
             [
              0.2222222222222222,
              "#7201a8"
             ],
             [
              0.3333333333333333,
              "#9c179e"
             ],
             [
              0.4444444444444444,
              "#bd3786"
             ],
             [
              0.5555555555555556,
              "#d8576b"
             ],
             [
              0.6666666666666666,
              "#ed7953"
             ],
             [
              0.7777777777777778,
              "#fb9f3a"
             ],
             [
              0.8888888888888888,
              "#fdca26"
             ],
             [
              1,
              "#f0f921"
             ]
            ],
            "type": "histogram2dcontour"
           }
          ],
          "mesh3d": [
           {
            "colorbar": {
             "outlinewidth": 0,
             "ticks": ""
            },
            "type": "mesh3d"
           }
          ],
          "parcoords": [
           {
            "line": {
             "colorbar": {
              "outlinewidth": 0,
              "ticks": ""
             }
            },
            "type": "parcoords"
           }
          ],
          "pie": [
           {
            "automargin": true,
            "type": "pie"
           }
          ],
          "scatter": [
           {
            "fillpattern": {
             "fillmode": "overlay",
             "size": 10,
             "solidity": 0.2
            },
            "type": "scatter"
           }
          ],
          "scatter3d": [
           {
            "line": {
             "colorbar": {
              "outlinewidth": 0,
              "ticks": ""
             }
            },
            "marker": {
             "colorbar": {
              "outlinewidth": 0,
              "ticks": ""
             }
            },
            "type": "scatter3d"
           }
          ],
          "scattercarpet": [
           {
            "marker": {
             "colorbar": {
              "outlinewidth": 0,
              "ticks": ""
             }
            },
            "type": "scattercarpet"
           }
          ],
          "scattergeo": [
           {
            "marker": {
             "colorbar": {
              "outlinewidth": 0,
              "ticks": ""
             }
            },
            "type": "scattergeo"
           }
          ],
          "scattergl": [
           {
            "marker": {
             "colorbar": {
              "outlinewidth": 0,
              "ticks": ""
             }
            },
            "type": "scattergl"
           }
          ],
          "scattermapbox": [
           {
            "marker": {
             "colorbar": {
              "outlinewidth": 0,
              "ticks": ""
             }
            },
            "type": "scattermapbox"
           }
          ],
          "scatterpolar": [
           {
            "marker": {
             "colorbar": {
              "outlinewidth": 0,
              "ticks": ""
             }
            },
            "type": "scatterpolar"
           }
          ],
          "scatterpolargl": [
           {
            "marker": {
             "colorbar": {
              "outlinewidth": 0,
              "ticks": ""
             }
            },
            "type": "scatterpolargl"
           }
          ],
          "scatterternary": [
           {
            "marker": {
             "colorbar": {
              "outlinewidth": 0,
              "ticks": ""
             }
            },
            "type": "scatterternary"
           }
          ],
          "surface": [
           {
            "colorbar": {
             "outlinewidth": 0,
             "ticks": ""
            },
            "colorscale": [
             [
              0,
              "#0d0887"
             ],
             [
              0.1111111111111111,
              "#46039f"
             ],
             [
              0.2222222222222222,
              "#7201a8"
             ],
             [
              0.3333333333333333,
              "#9c179e"
             ],
             [
              0.4444444444444444,
              "#bd3786"
             ],
             [
              0.5555555555555556,
              "#d8576b"
             ],
             [
              0.6666666666666666,
              "#ed7953"
             ],
             [
              0.7777777777777778,
              "#fb9f3a"
             ],
             [
              0.8888888888888888,
              "#fdca26"
             ],
             [
              1,
              "#f0f921"
             ]
            ],
            "type": "surface"
           }
          ],
          "table": [
           {
            "cells": {
             "fill": {
              "color": "#EBF0F8"
             },
             "line": {
              "color": "white"
             }
            },
            "header": {
             "fill": {
              "color": "#C8D4E3"
             },
             "line": {
              "color": "white"
             }
            },
            "type": "table"
           }
          ]
         },
         "layout": {
          "annotationdefaults": {
           "arrowcolor": "#2a3f5f",
           "arrowhead": 0,
           "arrowwidth": 1
          },
          "autotypenumbers": "strict",
          "coloraxis": {
           "colorbar": {
            "outlinewidth": 0,
            "ticks": ""
           }
          },
          "colorscale": {
           "diverging": [
            [
             0,
             "#8e0152"
            ],
            [
             0.1,
             "#c51b7d"
            ],
            [
             0.2,
             "#de77ae"
            ],
            [
             0.3,
             "#f1b6da"
            ],
            [
             0.4,
             "#fde0ef"
            ],
            [
             0.5,
             "#f7f7f7"
            ],
            [
             0.6,
             "#e6f5d0"
            ],
            [
             0.7,
             "#b8e186"
            ],
            [
             0.8,
             "#7fbc41"
            ],
            [
             0.9,
             "#4d9221"
            ],
            [
             1,
             "#276419"
            ]
           ],
           "sequential": [
            [
             0,
             "#0d0887"
            ],
            [
             0.1111111111111111,
             "#46039f"
            ],
            [
             0.2222222222222222,
             "#7201a8"
            ],
            [
             0.3333333333333333,
             "#9c179e"
            ],
            [
             0.4444444444444444,
             "#bd3786"
            ],
            [
             0.5555555555555556,
             "#d8576b"
            ],
            [
             0.6666666666666666,
             "#ed7953"
            ],
            [
             0.7777777777777778,
             "#fb9f3a"
            ],
            [
             0.8888888888888888,
             "#fdca26"
            ],
            [
             1,
             "#f0f921"
            ]
           ],
           "sequentialminus": [
            [
             0,
             "#0d0887"
            ],
            [
             0.1111111111111111,
             "#46039f"
            ],
            [
             0.2222222222222222,
             "#7201a8"
            ],
            [
             0.3333333333333333,
             "#9c179e"
            ],
            [
             0.4444444444444444,
             "#bd3786"
            ],
            [
             0.5555555555555556,
             "#d8576b"
            ],
            [
             0.6666666666666666,
             "#ed7953"
            ],
            [
             0.7777777777777778,
             "#fb9f3a"
            ],
            [
             0.8888888888888888,
             "#fdca26"
            ],
            [
             1,
             "#f0f921"
            ]
           ]
          },
          "colorway": [
           "#636efa",
           "#EF553B",
           "#00cc96",
           "#ab63fa",
           "#FFA15A",
           "#19d3f3",
           "#FF6692",
           "#B6E880",
           "#FF97FF",
           "#FECB52"
          ],
          "font": {
           "color": "#2a3f5f"
          },
          "geo": {
           "bgcolor": "white",
           "lakecolor": "white",
           "landcolor": "#E5ECF6",
           "showlakes": true,
           "showland": true,
           "subunitcolor": "white"
          },
          "hoverlabel": {
           "align": "left"
          },
          "hovermode": "closest",
          "mapbox": {
           "style": "light"
          },
          "paper_bgcolor": "white",
          "plot_bgcolor": "#E5ECF6",
          "polar": {
           "angularaxis": {
            "gridcolor": "white",
            "linecolor": "white",
            "ticks": ""
           },
           "bgcolor": "#E5ECF6",
           "radialaxis": {
            "gridcolor": "white",
            "linecolor": "white",
            "ticks": ""
           }
          },
          "scene": {
           "xaxis": {
            "backgroundcolor": "#E5ECF6",
            "gridcolor": "white",
            "gridwidth": 2,
            "linecolor": "white",
            "showbackground": true,
            "ticks": "",
            "zerolinecolor": "white"
           },
           "yaxis": {
            "backgroundcolor": "#E5ECF6",
            "gridcolor": "white",
            "gridwidth": 2,
            "linecolor": "white",
            "showbackground": true,
            "ticks": "",
            "zerolinecolor": "white"
           },
           "zaxis": {
            "backgroundcolor": "#E5ECF6",
            "gridcolor": "white",
            "gridwidth": 2,
            "linecolor": "white",
            "showbackground": true,
            "ticks": "",
            "zerolinecolor": "white"
           }
          },
          "shapedefaults": {
           "line": {
            "color": "#2a3f5f"
           }
          },
          "ternary": {
           "aaxis": {
            "gridcolor": "white",
            "linecolor": "white",
            "ticks": ""
           },
           "baxis": {
            "gridcolor": "white",
            "linecolor": "white",
            "ticks": ""
           },
           "bgcolor": "#E5ECF6",
           "caxis": {
            "gridcolor": "white",
            "linecolor": "white",
            "ticks": ""
           }
          },
          "title": {
           "x": 0.05
          },
          "xaxis": {
           "automargin": true,
           "gridcolor": "white",
           "linecolor": "white",
           "ticks": "",
           "title": {
            "standoff": 15
           },
           "zerolinecolor": "white",
           "zerolinewidth": 2
          },
          "yaxis": {
           "automargin": true,
           "gridcolor": "white",
           "linecolor": "white",
           "ticks": "",
           "title": {
            "standoff": 15
           },
           "zerolinecolor": "white",
           "zerolinewidth": 2
          }
         }
        }
       }
      },
      "text/html": [
       "<div>                            <div id=\"163824c6-175a-4feb-9b49-4a9e8a7e156d\" class=\"plotly-graph-div\" style=\"height:525px; width:100%;\"></div>            <script type=\"text/javascript\">                require([\"plotly\"], function(Plotly) {                    window.PLOTLYENV=window.PLOTLYENV || {};                                    if (document.getElementById(\"163824c6-175a-4feb-9b49-4a9e8a7e156d\")) {                    Plotly.newPlot(                        \"163824c6-175a-4feb-9b49-4a9e8a7e156d\",                        [{\"hovertemplate\":\"r=%{r}<br>theta=%{theta}<extra></extra>\",\"legendgroup\":\"\",\"marker\":{\"color\":\"#636efa\",\"symbol\":\"circle\"},\"mode\":\"markers\",\"name\":\"\",\"r\":[0.2142903469502926,0.8758254086133093,0.5243400414474308,0.34355825767852366,0.5449303174391389,0.37270335550419986,0.28888860112056136,0.5348481752444059,0.3949666675180197,0.12831840454600751,0.4283949160017073,0.28362571471370757,0.32885180693119764,0.29000012460164726,0.6934705297462642,0.26959387329407036,0.9780127853155136,0.9675452781375498,0.5401598778553307,0.8567551171872765,0.5475041242316365,0.5384546376299113,0.44176890095695853,0.6159333542454988,0.7025434616953135,0.3916463644709438,0.4008889705874026,0.9498349691275507,0.2880550092086196,0.0002709503751248121,0.23974112747237086,0.3362739209551364,0.5843458212912083,0.4642527212854475,0.4969656323082745,0.9551859034691006,0.05203987751156092,0.9131829037796706,0.008981829043477774,0.7150565676856786,0.7693949770182371,0.4101892539765686,0.504043320659548,0.9443888070527464,0.015127445571124554,0.24740724894218147,0.7871134574525058,0.26383410510607064,0.6998696550726891,0.7736778405960649,0.34368613781407475,0.4046129456255585,0.5993853555992246,0.14509677211754024,0.4406769215129316,0.9888492852915078,0.5926678199321032,0.6390404568519443,0.0525094554759562,0.5374440888408571,0.358045800589025,0.4222934197168797,0.1905222120694816,0.22111292672343552,0.23042229935526848,0.9139023011084646,0.46382053988054395,0.12021263525821269,0.17277114931493998,0.13338142330758274,0.9496990269981325,0.008982039289548993,0.06501640938222408,0.6748949193861336,0.7017591767944396,0.9298217373434454,0.7634195713326335,0.19804042461328208,0.4738473962061107,0.07323794928379357,0.633599579334259,0.575859330361709,0.4879382965154946,0.7290754264686257,0.5103106619790196,0.09069860051386058,0.3240883066318929,0.32466442440636456,0.2871029768139124,0.31854915036819875,0.2605845988728106,0.8155067379120737,0.5889910673722625,0.592485788045451,0.6424143272452056,0.9441257987637073,0.23125513270497322,0.18583371839486063,0.10617917822673917,0.13270583585835993],\"showlegend\":false,\"subplot\":\"polar\",\"theta\":[192.19631787389517,220.99351557902992,236.50365499779582,211.31967631168664,329.1971804201603,301.7233375366777,203.39770870283246,96.063052425161,37.3224613443017,134.95359401218593,196.05760401114821,348.3011267054826,137.91391365230083,42.106566270813346,197.20639580860734,220.96779235638678,259.55648493021727,183.06294011883438,285.3857730142772,318.8110600132495,264.6530243754387,100.38299730978906,53.58154686167836,69.27440539933741,344.6318023279309,215.75436945073307,186.7944516800344,39.66717948205769,216.91184230148792,109.29135440848768,196.6812581755221,196.2490811292082,106.75106551498175,22.31079521588981,81.39119921252131,50.85369226522744,167.1022479236126,234.209521478042,88.72270809486508,250.67607552744448,119.60178975015879,254.06835327856243,50.72546934708953,216.84943442232907,269.81629751622677,217.60766758583486,207.8727819956839,207.43583598174155,99.87197857350111,130.11952715925872,130.9292353503406,70.4559959191829,91.5918481349945,246.00137195549905,358.6386972852051,2.583126286044717,283.2657488062978,205.5162730347365,299.3576150201261,79.12584562785923,313.1781826168299,39.404748966917396,74.7586284019053,90.9251516405493,33.018955551087856,121.97314473800361,33.72949568554759,233.7904563266784,224.30163457989693,123.2835731562227,34.59233181551099,46.099683651700616,160.9148171916604,341.0704187583178,323.7681592069566,280.1884297002107,10.931213423609734,243.00840421579778,169.01177102699876,243.15318533219397,320.7995403930545,299.957219241187,215.34190697595477,152.69362133927643,275.04422932863235,320.80771199427545,221.79174156859517,143.61893610097468,114.59794510155916,189.55464298836887,127.10468491539359,250.64326574094594,226.89191825687885,355.2210014965385,242.5004960037768,23.095156783238053,310.8290895447135,235.25888445787132,59.63670847937465,117.16610130853951],\"type\":\"scatterpolar\"}],                        {\"template\":{\"data\":{\"histogram2dcontour\":[{\"type\":\"histogram2dcontour\",\"colorbar\":{\"outlinewidth\":0,\"ticks\":\"\"},\"colorscale\":[[0.0,\"#0d0887\"],[0.1111111111111111,\"#46039f\"],[0.2222222222222222,\"#7201a8\"],[0.3333333333333333,\"#9c179e\"],[0.4444444444444444,\"#bd3786\"],[0.5555555555555556,\"#d8576b\"],[0.6666666666666666,\"#ed7953\"],[0.7777777777777778,\"#fb9f3a\"],[0.8888888888888888,\"#fdca26\"],[1.0,\"#f0f921\"]]}],\"choropleth\":[{\"type\":\"choropleth\",\"colorbar\":{\"outlinewidth\":0,\"ticks\":\"\"}}],\"histogram2d\":[{\"type\":\"histogram2d\",\"colorbar\":{\"outlinewidth\":0,\"ticks\":\"\"},\"colorscale\":[[0.0,\"#0d0887\"],[0.1111111111111111,\"#46039f\"],[0.2222222222222222,\"#7201a8\"],[0.3333333333333333,\"#9c179e\"],[0.4444444444444444,\"#bd3786\"],[0.5555555555555556,\"#d8576b\"],[0.6666666666666666,\"#ed7953\"],[0.7777777777777778,\"#fb9f3a\"],[0.8888888888888888,\"#fdca26\"],[1.0,\"#f0f921\"]]}],\"heatmap\":[{\"type\":\"heatmap\",\"colorbar\":{\"outlinewidth\":0,\"ticks\":\"\"},\"colorscale\":[[0.0,\"#0d0887\"],[0.1111111111111111,\"#46039f\"],[0.2222222222222222,\"#7201a8\"],[0.3333333333333333,\"#9c179e\"],[0.4444444444444444,\"#bd3786\"],[0.5555555555555556,\"#d8576b\"],[0.6666666666666666,\"#ed7953\"],[0.7777777777777778,\"#fb9f3a\"],[0.8888888888888888,\"#fdca26\"],[1.0,\"#f0f921\"]]}],\"heatmapgl\":[{\"type\":\"heatmapgl\",\"colorbar\":{\"outlinewidth\":0,\"ticks\":\"\"},\"colorscale\":[[0.0,\"#0d0887\"],[0.1111111111111111,\"#46039f\"],[0.2222222222222222,\"#7201a8\"],[0.3333333333333333,\"#9c179e\"],[0.4444444444444444,\"#bd3786\"],[0.5555555555555556,\"#d8576b\"],[0.6666666666666666,\"#ed7953\"],[0.7777777777777778,\"#fb9f3a\"],[0.8888888888888888,\"#fdca26\"],[1.0,\"#f0f921\"]]}],\"contourcarpet\":[{\"type\":\"contourcarpet\",\"colorbar\":{\"outlinewidth\":0,\"ticks\":\"\"}}],\"contour\":[{\"type\":\"contour\",\"colorbar\":{\"outlinewidth\":0,\"ticks\":\"\"},\"colorscale\":[[0.0,\"#0d0887\"],[0.1111111111111111,\"#46039f\"],[0.2222222222222222,\"#7201a8\"],[0.3333333333333333,\"#9c179e\"],[0.4444444444444444,\"#bd3786\"],[0.5555555555555556,\"#d8576b\"],[0.6666666666666666,\"#ed7953\"],[0.7777777777777778,\"#fb9f3a\"],[0.8888888888888888,\"#fdca26\"],[1.0,\"#f0f921\"]]}],\"surface\":[{\"type\":\"surface\",\"colorbar\":{\"outlinewidth\":0,\"ticks\":\"\"},\"colorscale\":[[0.0,\"#0d0887\"],[0.1111111111111111,\"#46039f\"],[0.2222222222222222,\"#7201a8\"],[0.3333333333333333,\"#9c179e\"],[0.4444444444444444,\"#bd3786\"],[0.5555555555555556,\"#d8576b\"],[0.6666666666666666,\"#ed7953\"],[0.7777777777777778,\"#fb9f3a\"],[0.8888888888888888,\"#fdca26\"],[1.0,\"#f0f921\"]]}],\"mesh3d\":[{\"type\":\"mesh3d\",\"colorbar\":{\"outlinewidth\":0,\"ticks\":\"\"}}],\"scatter\":[{\"fillpattern\":{\"fillmode\":\"overlay\",\"size\":10,\"solidity\":0.2},\"type\":\"scatter\"}],\"parcoords\":[{\"type\":\"parcoords\",\"line\":{\"colorbar\":{\"outlinewidth\":0,\"ticks\":\"\"}}}],\"scatterpolargl\":[{\"type\":\"scatterpolargl\",\"marker\":{\"colorbar\":{\"outlinewidth\":0,\"ticks\":\"\"}}}],\"bar\":[{\"error_x\":{\"color\":\"#2a3f5f\"},\"error_y\":{\"color\":\"#2a3f5f\"},\"marker\":{\"line\":{\"color\":\"#E5ECF6\",\"width\":0.5},\"pattern\":{\"fillmode\":\"overlay\",\"size\":10,\"solidity\":0.2}},\"type\":\"bar\"}],\"scattergeo\":[{\"type\":\"scattergeo\",\"marker\":{\"colorbar\":{\"outlinewidth\":0,\"ticks\":\"\"}}}],\"scatterpolar\":[{\"type\":\"scatterpolar\",\"marker\":{\"colorbar\":{\"outlinewidth\":0,\"ticks\":\"\"}}}],\"histogram\":[{\"marker\":{\"pattern\":{\"fillmode\":\"overlay\",\"size\":10,\"solidity\":0.2}},\"type\":\"histogram\"}],\"scattergl\":[{\"type\":\"scattergl\",\"marker\":{\"colorbar\":{\"outlinewidth\":0,\"ticks\":\"\"}}}],\"scatter3d\":[{\"type\":\"scatter3d\",\"line\":{\"colorbar\":{\"outlinewidth\":0,\"ticks\":\"\"}},\"marker\":{\"colorbar\":{\"outlinewidth\":0,\"ticks\":\"\"}}}],\"scattermapbox\":[{\"type\":\"scattermapbox\",\"marker\":{\"colorbar\":{\"outlinewidth\":0,\"ticks\":\"\"}}}],\"scatterternary\":[{\"type\":\"scatterternary\",\"marker\":{\"colorbar\":{\"outlinewidth\":0,\"ticks\":\"\"}}}],\"scattercarpet\":[{\"type\":\"scattercarpet\",\"marker\":{\"colorbar\":{\"outlinewidth\":0,\"ticks\":\"\"}}}],\"carpet\":[{\"aaxis\":{\"endlinecolor\":\"#2a3f5f\",\"gridcolor\":\"white\",\"linecolor\":\"white\",\"minorgridcolor\":\"white\",\"startlinecolor\":\"#2a3f5f\"},\"baxis\":{\"endlinecolor\":\"#2a3f5f\",\"gridcolor\":\"white\",\"linecolor\":\"white\",\"minorgridcolor\":\"white\",\"startlinecolor\":\"#2a3f5f\"},\"type\":\"carpet\"}],\"table\":[{\"cells\":{\"fill\":{\"color\":\"#EBF0F8\"},\"line\":{\"color\":\"white\"}},\"header\":{\"fill\":{\"color\":\"#C8D4E3\"},\"line\":{\"color\":\"white\"}},\"type\":\"table\"}],\"barpolar\":[{\"marker\":{\"line\":{\"color\":\"#E5ECF6\",\"width\":0.5},\"pattern\":{\"fillmode\":\"overlay\",\"size\":10,\"solidity\":0.2}},\"type\":\"barpolar\"}],\"pie\":[{\"automargin\":true,\"type\":\"pie\"}]},\"layout\":{\"autotypenumbers\":\"strict\",\"colorway\":[\"#636efa\",\"#EF553B\",\"#00cc96\",\"#ab63fa\",\"#FFA15A\",\"#19d3f3\",\"#FF6692\",\"#B6E880\",\"#FF97FF\",\"#FECB52\"],\"font\":{\"color\":\"#2a3f5f\"},\"hovermode\":\"closest\",\"hoverlabel\":{\"align\":\"left\"},\"paper_bgcolor\":\"white\",\"plot_bgcolor\":\"#E5ECF6\",\"polar\":{\"bgcolor\":\"#E5ECF6\",\"angularaxis\":{\"gridcolor\":\"white\",\"linecolor\":\"white\",\"ticks\":\"\"},\"radialaxis\":{\"gridcolor\":\"white\",\"linecolor\":\"white\",\"ticks\":\"\"}},\"ternary\":{\"bgcolor\":\"#E5ECF6\",\"aaxis\":{\"gridcolor\":\"white\",\"linecolor\":\"white\",\"ticks\":\"\"},\"baxis\":{\"gridcolor\":\"white\",\"linecolor\":\"white\",\"ticks\":\"\"},\"caxis\":{\"gridcolor\":\"white\",\"linecolor\":\"white\",\"ticks\":\"\"}},\"coloraxis\":{\"colorbar\":{\"outlinewidth\":0,\"ticks\":\"\"}},\"colorscale\":{\"sequential\":[[0.0,\"#0d0887\"],[0.1111111111111111,\"#46039f\"],[0.2222222222222222,\"#7201a8\"],[0.3333333333333333,\"#9c179e\"],[0.4444444444444444,\"#bd3786\"],[0.5555555555555556,\"#d8576b\"],[0.6666666666666666,\"#ed7953\"],[0.7777777777777778,\"#fb9f3a\"],[0.8888888888888888,\"#fdca26\"],[1.0,\"#f0f921\"]],\"sequentialminus\":[[0.0,\"#0d0887\"],[0.1111111111111111,\"#46039f\"],[0.2222222222222222,\"#7201a8\"],[0.3333333333333333,\"#9c179e\"],[0.4444444444444444,\"#bd3786\"],[0.5555555555555556,\"#d8576b\"],[0.6666666666666666,\"#ed7953\"],[0.7777777777777778,\"#fb9f3a\"],[0.8888888888888888,\"#fdca26\"],[1.0,\"#f0f921\"]],\"diverging\":[[0,\"#8e0152\"],[0.1,\"#c51b7d\"],[0.2,\"#de77ae\"],[0.3,\"#f1b6da\"],[0.4,\"#fde0ef\"],[0.5,\"#f7f7f7\"],[0.6,\"#e6f5d0\"],[0.7,\"#b8e186\"],[0.8,\"#7fbc41\"],[0.9,\"#4d9221\"],[1,\"#276419\"]]},\"xaxis\":{\"gridcolor\":\"white\",\"linecolor\":\"white\",\"ticks\":\"\",\"title\":{\"standoff\":15},\"zerolinecolor\":\"white\",\"automargin\":true,\"zerolinewidth\":2},\"yaxis\":{\"gridcolor\":\"white\",\"linecolor\":\"white\",\"ticks\":\"\",\"title\":{\"standoff\":15},\"zerolinecolor\":\"white\",\"automargin\":true,\"zerolinewidth\":2},\"scene\":{\"xaxis\":{\"backgroundcolor\":\"#E5ECF6\",\"gridcolor\":\"white\",\"linecolor\":\"white\",\"showbackground\":true,\"ticks\":\"\",\"zerolinecolor\":\"white\",\"gridwidth\":2},\"yaxis\":{\"backgroundcolor\":\"#E5ECF6\",\"gridcolor\":\"white\",\"linecolor\":\"white\",\"showbackground\":true,\"ticks\":\"\",\"zerolinecolor\":\"white\",\"gridwidth\":2},\"zaxis\":{\"backgroundcolor\":\"#E5ECF6\",\"gridcolor\":\"white\",\"linecolor\":\"white\",\"showbackground\":true,\"ticks\":\"\",\"zerolinecolor\":\"white\",\"gridwidth\":2}},\"shapedefaults\":{\"line\":{\"color\":\"#2a3f5f\"}},\"annotationdefaults\":{\"arrowcolor\":\"#2a3f5f\",\"arrowhead\":0,\"arrowwidth\":1},\"geo\":{\"bgcolor\":\"white\",\"landcolor\":\"#E5ECF6\",\"subunitcolor\":\"white\",\"showland\":true,\"showlakes\":true,\"lakecolor\":\"white\"},\"title\":{\"x\":0.05},\"mapbox\":{\"style\":\"light\"}}},\"polar\":{\"domain\":{\"x\":[0.0,1.0],\"y\":[0.0,1.0]},\"angularaxis\":{\"direction\":\"clockwise\",\"rotation\":90}},\"legend\":{\"tracegroupgap\":0},\"margin\":{\"t\":60}},                        {\"responsive\": true}                    ).then(function(){\n",
       "                            \n",
       "var gd = document.getElementById('163824c6-175a-4feb-9b49-4a9e8a7e156d');\n",
       "var x = new MutationObserver(function (mutations, observer) {{\n",
       "        var display = window.getComputedStyle(gd).display;\n",
       "        if (!display || display === 'none') {{\n",
       "            console.log([gd, 'removed!']);\n",
       "            Plotly.purge(gd);\n",
       "            observer.disconnect();\n",
       "        }}\n",
       "}});\n",
       "\n",
       "// Listen for the removal of the full notebook cells\n",
       "var notebookContainer = gd.closest('#notebook-container');\n",
       "if (notebookContainer) {{\n",
       "    x.observe(notebookContainer, {childList: true});\n",
       "}}\n",
       "\n",
       "// Listen for the clearing of the current output cell\n",
       "var outputEl = gd.closest('.output');\n",
       "if (outputEl) {{\n",
       "    x.observe(outputEl, {childList: true});\n",
       "}}\n",
       "\n",
       "                        })                };                });            </script>        </div>"
      ]
     },
     "metadata": {},
     "output_type": "display_data"
    }
   ],
   "source": [
    "import plotly.express as px\n",
    "import numpy as np\n",
    "\n",
    "def generate_pseudo_random_numbers(n, X0, a, c, m):\n",
    "    random_numbers = np.array([])\n",
    "    for i in range(n):\n",
    "        X0 = (a * X0 + c) % m\n",
    "        random_numbers = np.append(random_numbers, X0/m)\n",
    "    return random_numbers\n",
    "\n",
    "n=100\n",
    "X0=123456789\n",
    "a=1664525\n",
    "c=1013904223\n",
    "m=2**(32)\n",
    "lambd=0.5\n",
    "\n",
    "radio2=generate_pseudo_random_numbers(n,X0,a,c,m) # genera n numeros aleatorios entre 0 y 1\n",
    "theta2=generate_pseudo_random_numbers(n,987654321,a,c,m)*360 # genera n numeros aleatorios entre 0 y 360\n",
    "fig = px.scatter_polar(r=radio2, theta=theta2)\n",
    "fig.show()\n",
    "\n",
    "\n",
    "a1=0\n",
    "b1=1\n",
    "def uniforme(n, X0, a, c, m,a1,b1):\n",
    "    uniforme = np.array([])\n",
    "    random_numbers = generate_pseudo_random_numbers(n, X0, a, c, m)\n",
    "    #Uniforme a1+(b1-a1)*random_numbers\n",
    "    uniforme = a1+(b1-a1)*random_numbers\n",
    "    media = np.mean(uniforme)\n",
    "    varianza = np.var(uniforme)\n",
    "    print(\"Media: \", media)\n",
    "    print(\"Varianza: \", varianza)\n",
    "    return uniforme\n",
    "\n",
    "radio3=uniforme(n,X0,a,c,m,a1,b1) # genera n numeros aleatorios entre 0 y 1\n",
    "theta3=uniforme(n,987054321,a,c,m,a1,b1)*360 # genera n numeros aleatorios entre 0 y 360\n",
    "fig1 = px.scatter_polar(r=radio3, theta=theta3)\n",
    "print(\"Uniforme\")\n",
    "fig1.show()"
   ]
  },
  {
   "cell_type": "code",
   "execution_count": 84,
   "metadata": {},
   "outputs": [
    {
     "name": "stdout",
     "output_type": "stream",
     "text": [
      "Media:  0.4867588990824297\n",
      "Varianza:  0.082258228843561\n",
      "Media:  0.5009061101945117\n",
      "Varianza:  0.08096069045741298\n"
     ]
    },
    {
     "data": {
      "application/vnd.plotly.v1+json": {
       "config": {
        "plotlyServerURL": "https://plot.ly"
       },
       "data": [
        {
         "hovertemplate": "r=%{r}<br>theta=%{theta}<extra></extra>",
         "legendgroup": "",
         "marker": {
          "color": "#636efa",
          "symbol": "circle"
         },
         "mode": "markers",
         "name": "",
         "r": [
          0.4823359059056489,
          4.1721334172374664,
          1.4861041056505293,
          0.8418426579532531,
          1.5746094465436193,
          0.9326714660313942,
          0.681852364592929,
          1.5307828436702997,
          1.0049434549148646,
          0.27466212916404525,
          1.1186138772745309,
          0.6671050075834138,
          0.7975306246865095,
          0.6849809688841384,
          2.3648827546373163,
          0.6283091231699146,
          7.63458829052502,
          6.855818668955917,
          1.5537528209344629,
          3.8863992922011303,
          1.585953260415501,
          1.5463498730868,
          1.1659644926972657,
          1.9138783696025532,
          2.424974308801486,
          0.9939978574362314,
          1.0246166801848726,
          5.984874182373289,
          0.6795092613586883,
          0.000541974177619153,
          0.5481925639065942,
          0.8197714923583925,
          1.7558033312482049,
          1.2481854480711196,
          1.374193571571216,
          6.210465068694064,
          0.10688568499496029,
          4.887903431292827,
          0.01804481767981152,
          2.5109292030430193,
          2.934097778312936,
          1.0559071259834159,
          1.4025333922219685,
          5.7787415719703565,
          0.0304860650956202,
          0.5684620654699216,
          3.093991838569802,
          0.6125995699621517,
          2.4070768311906936,
          2.971591621319173,
          0.8422323120077214,
          1.0370871467475031,
          1.8295106005017852,
          0.31353400042869456,
          1.1620560296857823,
          8.992503367427904,
          1.7962525183598463,
          2.0379787915427783,
          0.1078766429389983,
          1.5419756806868026,
          0.8864766366367529,
          1.097378371549799,
          0.42273189097343655,
          0.49977841464219874,
          0.5238267106083166,
          4.904545187808051,
          1.2465727205864354,
          0.25615006336518825,
          0.37934779663111023,
          0.2863126672240791,
          5.979461716180053,
          0.01804524198301742,
          0.13445259997774345,
          2.247213647889819,
          2.4197079745538854,
          5.3134333293369576,
          2.8829340998641997,
          0.44139415428140144,
          1.2843279740806193,
          0.15211686767036384,
          2.0080569961552652,
          1.7153802215163607,
          1.3386202931715157,
          2.61182964658985,
          1.4279681859636595,
          0.190157334341379,
          0.7833856851688549,
          0.7850911252392686,
          0.6768365930149833,
          0.767062302618957,
          0.6037908069478644,
          3.380284672034118,
          1.7782806616692814,
          1.795358941894577,
          2.0567606029775463,
          5.769305043395841,
          0.5259922731461893,
          0.4111813133702863,
          0.22449989393685219,
          0.2847541401598268,
          1.0808525627473486,
          1.8612185564801769,
          2.6909209308220654,
          0.050933274771039885,
          4.24215383668603,
          2.028916696508975,
          1.4007389914819954,
          5.77010484370483,
          1.0761723816206599,
          0.06234902326509233,
          1.3683496459080846,
          3.0190237464171354,
          1.4762908070520697,
          6.881653784134972,
          4.253121108773214,
          0.14411464395038992,
          0.16615139828045408,
          2.4446830835607054,
          1.6977576640185983,
          0.71967926228751,
          0.7081510333388847,
          0.05669764570822223,
          8.237180024986182,
          2.3012372480202203,
          0.8999645180125095,
          1.0466552336174115,
          1.1553603592391737,
          4.74605363187164,
          1.3612702591252746,
          0.013508604977803155,
          0.12043645180777318,
          2.2624231653943907,
          0.9391361981721535,
          5.00478505807269,
          0.4721802181139151,
          0.02554494620104577,
          0.30404267785395855,
          0.6522886494663942,
          3.725319886218944,
          1.745584531147393,
          1.0011143519535655,
          0.32453371359372984,
          0.704792401959133,
          1.8469756679161884,
          5.497588072997144,
          0.7406275573470239,
          0.9660738826037908,
          0.11517110176398543,
          0.40955745850901776,
          0.8165594918225504,
          4.049245107215606,
          0.5513735638634161,
          1.2560192756030202,
          1.9920136885773347,
          2.0085862036962747,
          5.36951192311786,
          2.0308355068052233,
          0.6554282106840341,
          0.2697887691981235,
          2.1068295573477944,
          2.7947613477238993,
          4.06367134342446,
          4.774768096372777,
          3.5378777979746197,
          2.4832108966925674,
          2.2435126913451198,
          1.0104156386987504,
          3.9521966224537337,
          0.21590654630500397,
          3.713287487320121,
          0.24093272817277725,
          0.7994657895113705,
          2.3754912728885493,
          1.2900886488174446,
          0.053577613362787574,
          4.757285741734622,
          0.6421501132027004,
          2.585921843024337,
          3.3114276897279176,
          2.468964449177196,
          3.049833237078629,
          0.8352450284304392,
          0.20626608550767173,
          0.2128558776114677,
          6.447236854220103,
          0.5905443849556142,
          0.15666834769745386,
          0.5512492843323233,
          6.109945103002028,
          0.2929941472521165,
          6.167804870363979,
          3.9354453119727104,
          1.6950237403384487,
          0.06151581997613633,
          0.4360548683125765,
          0.113210711926982,
          0.3758131723629811,
          1.3604386933223303,
          1.537825730498151,
          0.2143685188493013,
          0.8512552204041777,
          3.7384539031228057,
          0.3280646125133953,
          1.65152710056713,
          4.541639528497489,
          1.170694454175012,
          1.5314101252081433,
          0.43481905932068954,
          2.8970362695297194,
          0.2260932201780033,
          5.202499844745821,
          1.1594388936694613,
          4.709803482085505,
          0.21312638702789005,
          0.8667827040188835,
          1.3192399734046538,
          0.6470568820240198,
          0.7067076215544335,
          1.9705852717675636,
          0.40274035214702625,
          1.1018597094620057,
          1.0944888112518623,
          4.169211707374209,
          0.883457844788717,
          0.8347678624801761,
          1.4449219995324116,
          1.0740459979405836,
          0.4728780479552982,
          1.7268623084203685,
          0.021319074417062045,
          0.1471228710779431,
          4.696386173178858,
          3.071691643077489,
          0.12720953482983527,
          0.582506139926941,
          1.5825615535527198,
          0.333893758359452,
          0.008538518393321488,
          0.9464251379707588,
          0.2348051940301157,
          1.2421919864608202,
          0.2328387686056429,
          1.2093737731329273,
          0.1039102165566216,
          2.189160847631293,
          0.014018992566417946,
          5.093382869071638,
          1.9791131952104202,
          0.5484376746865967,
          1.078888673703872,
          0.12117998312896332,
          0.4924727294723239,
          2.723983840636624,
          0.19764542399973262,
          1.5808496967584662,
          0.22364531519254685,
          0.6604887537154573,
          0.23431145227110522,
          0.02796018286886797,
          1.567357577524424,
          3.579755449464309,
          4.177075563050594,
          2.066198457616064,
          0.17000926114696377,
          2.1312078445180838,
          1.5292691139174468,
          0.3614568101611568,
          1.162350807919277,
          0.44397155097801677,
          1.9659163368592343,
          3.3204568582854765,
          1.1516006988282603,
          0.5773463455148496,
          0.3405370068921077,
          0.137226550985695,
          2.6452983492301945,
          0.583628564604408,
          1.2600596393634331,
          0.7237180322977768,
          1.085448248678349,
          0.006852480025441796,
          1.5502068846479726,
          1.8124356459207085,
          2.415829034394647,
          0.4110035213190438,
          1.982668821545356,
          0.7870953511427345,
          0.4739846595456518,
          1.1563014923744683,
          0.9349791725049899,
          0.9919611904747268,
          2.3487265309565037,
          4.921521328975743,
          2.8229672168606257,
          0.21807643985728778,
          0.1776869375511249,
          1.4927516714829965,
          1.7023563022456658,
          0.18880728482850384,
          0.6910259939993013,
          0.8428326774179895,
          0.6856666448815849,
          3.1623964456737306,
          0.21348663372506718,
          3.676747746544791,
          1.140102803571552,
          0.9888528358664666,
          0.1492385169623169,
          5.516707073301982,
          4.736365362428329,
          0.43737073629032597,
          0.9472873094569935,
          0.09889729526814017,
          3.8821122998539073,
          4.942405685874658,
          4.149772022678887,
          1.8302841705637276,
          0.0328298702428545,
          0.6424950051802942,
          5.000409703532305,
          2.3441890220327894,
          1.9536691228500325,
          4.607068878361691,
          2.2922225685248767,
          4.2467054984248644,
          0.8088092875548697,
          1.3821156067706397,
          0.01588612446838126,
          0.6883143211951024,
          2.7865739483587393,
          2.2841503254072637,
          0.08057195021866825,
          1.298135431720899,
          1.369434089959297,
          10.166409212582783,
          0.3650103922010623,
          2.964387311985046,
          4.545490894239944,
          0.009558019320628296,
          0.08035002705984177,
          0.12836677045283365,
          2.8822247381194543,
          1.3945321003430526,
          2.1978324615300626,
          0.40549389353521514,
          3.4904325336593383,
          0.32029792687206,
          4.110214862653428,
          1.067272653955386,
          2.8723523417102332,
          0.3483568929457599,
          1.895815127454209,
          2.6837036668487575,
          5.868508469374091,
          3.7593760216872627,
          5.490889133220524,
          4.014104183550675,
          0.7211982153329467,
          0.17676406162565092,
          1.752763756778738,
          0.3836267332806275,
          4.825312900969897,
          0.09140059989593968,
          1.4349216804965454,
          0.13919969661288703,
          0.5918648049499856,
          2.9860764434935425,
          3.6733062635407916,
          1.0700722207075966,
          0.6098899618210977,
          1.1711485868236546,
          0.0007556954190360909,
          0.11149149479487823,
          1.360791685194082,
          0.7878967322558011,
          0.19117535952933817,
          1.5817717903281163,
          0.3701481903007826,
          4.1906149675291,
          2.5330537185476802,
          2.0113630258654402,
          4.3816587520894545,
          1.1920951515613,
          3.4412213332504025,
          0.24658428005355557,
          0.43408256961278724,
          1.355446008161768,
          0.6066174754017429,
          0.17518932606598442,
          0.9547107946851758,
          0.7621488442552161,
          0.41297317409269674,
          2.5993515739167816,
          0.3361792365590589,
          2.707643988699399,
          1.1227168230407134,
          0.34564356031886945,
          0.21260630461246188,
          0.46828510102602555,
          1.26800934572617,
          6.504821961918404,
          0.03346990013315674,
          0.4248533853867146,
          2.4750959627592244,
          1.0734075028645451,
          1.678279872138366,
          7.403589196268369,
          0.19943952729058162,
          1.8467606820260463,
          4.167615989065648,
          0.29981718438003235,
          0.7961893593178204,
          3.7436157932710823,
          5.363212422412727,
          0.7530287714471139,
          0.4735442063309539,
          0.4026059811454189,
          8.485144504524982,
          0.09673588744374238,
          3.932123504168301,
          3.5060671062056605,
          0.6899815132362023,
          3.870286222968892,
          3.5584331548875348,
          3.534773674421222,
          3.873866960677495,
          3.0777754357025606,
          1.0304280097000966,
          0.9418093552835548,
          0.15563792313487074,
          0.13910989490855727,
          1.5570022742117178,
          1.15183398339596,
          1.0497545394637315,
          2.3317732967884353,
          0.7525639921786655,
          2.5905487773983586,
          1.2803102665845618,
          6.56879103960914,
          2.88018302003085,
          0.31541506912417794,
          0.44424580308077133,
          1.1053398913039005,
          1.4199267660759605,
          0.4767711852169618,
          5.805705806626656,
          1.981459048017489,
          1.780979416532657,
          0.2688265233518304,
          2.4169169699520183,
          2.2662699125312575,
          0.7766687659879579,
          1.2473183369725023,
          3.061156507801931,
          1.658732517519166,
          0.3801665228074728,
          2.327615009959713,
          2.1034315149420806,
          2.054429972775464,
          5.385090202021713,
          5.040650157404415,
          2.685639495752247,
          3.5069369342486683,
          2.296512967300989,
          2.381454435190593,
          1.209950768837725,
          0.7900773701540174,
          0.854472051836198,
          2.0745602574267172,
          2.477630699937512,
          0.003476184660499795,
          3.4454838654239146,
          0.7061774000030852,
          2.154832764067496,
          2.2545569433864974,
          6.176184677538747,
          1.280687565884514,
          1.3759906392692622,
          7.1230360396932175,
          4.719510745332363,
          6.568846452532908,
          1.3498392006072775,
          1.3994799607570338,
          1.981280603725247,
          1.1723479623201627,
          1.9085820074545288,
          1.415087214135553,
          1.419461577708024,
          3.6477132924879094,
          1.165395508356136,
          0.5257331836581051,
          1.0562250852215846,
          1.6908754108547028,
          0.3707624574957925,
          2.1991182460518406,
          2.1808505095289545,
          1.0763388819289514,
          5.454101378606142,
          1.1981993903464696,
          2.6871037591390508,
          4.8266379713872665,
          3.199652332684043,
          0.021157035174895075,
          2.022481923123356,
          1.4161517375949775,
          0.085505238068819,
          0.68448782149734,
          0.5851420802579322,
          5.893403634592669,
          2.232564990365474,
          1.9529554990801814,
          0.5696450516415876,
          1.5400359668828156,
          0.6244792298885621,
          1.8079308805722687,
          0.33146059650589405,
          0.6887463053129931,
          1.64770595254208,
          6.210135879140716,
          2.9675174125315578,
          0.31515932655993445,
          1.0109774073704447,
          5.194864017441144,
          0.2532820773733199,
          2.321745882701199,
          6.328285221701043,
          1.27013610439441,
          1.0002839328759747,
          0.22585843219607435,
          1.01299311319147,
          0.8921360073782192,
          3.2723137700953657,
          0.8187646485159507,
          0.6280560202271176,
          0.2322202893632201,
          0.48281259499280677,
          1.6131958049968207,
          1.0118863042305217,
          0.24444289751186107,
          4.30383148891498,
          1.5228160456696993,
          0.1454160567044156,
          1.6785854266384765,
          3.742207273375583,
          1.4747373085078426,
          2.4988182811521296,
          7.65754517307076,
          2.139025112220886,
          1.8909741370180086,
          1.068081302029262,
          0.9562650390677536,
          1.5764940365564597,
          3.2319353801537463,
          5.988092611596452,
          1.6012098257419076,
          0.5260219989591914,
          0.45679961965119875,
          0.476633751982947,
          3.449185423916736,
          5.092485461840294,
          0.22042017007842193,
          0.3367444443449174,
          0.7289249151490902,
          0.5871085340120413,
          3.376348931439471,
          2.238786089322469,
          1.9504334971103603,
          0.45566352738334026,
          1.5627122793918793,
          0.0851668854244717,
          1.2107207640875945,
          0.4789023754701627,
          2.438993221425762,
          3.276106959410787,
          1.3568966275607792,
          0.14595476503192542,
          1.079305419620026,
          0.6339012586242705,
          1.9945027690772448,
          0.6974147239898515,
          0.18055231444277128,
          7.745335476329218,
          1.2220507861331356,
          0.08695671837145771,
          0.7868880386147988,
          3.2221776897839285,
          0.9765247022692926,
          3.3302285275354784,
          2.0274361914491457,
          1.6205919956363364,
          0.02139360206993983,
          1.154946469575043,
          1.7045702762954487,
          0.6724191773007495,
          1.3550081084913044,
          0.4096060975692458,
          0.7695805482247113,
          1.7099472947284498,
          0.16090208428172534,
          4.455573566778403,
          4.75852146686481,
          1.6323631531121066,
          0.12916733839641853,
          1.386988444453159,
          1.4501876294482898,
          1.426819446721361,
          3.0972520633452807,
          1.13025367973488,
          1.6058868619982798,
          0.3348871655531393,
          1.3265813191452307,
          1.8807630923155882,
          1.2930843427646672,
          0.16662325477155648,
          0.13475262617024308,
          0.26318138542061364,
          1.6692623799140047,
          4.883647400489067,
          0.35750534641696696,
          3.341211752062369,
          0.1624434904732827,
          0.26986079277366787,
          0.05798890549590174,
          0.6456910816000877,
          1.4153191354348447,
          2.0046052198634055,
          0.16189356115026607,
          0.18216117520709174,
          4.5688644430785175,
          1.6115216918485795,
          0.45369325688264966,
          0.4683715715223188,
          1.0601944360578823,
          3.1541669815192392,
          0.322511842978582,
          4.507103425294028,
          1.8214145885411672,
          0.8006450152285536,
          1.5791380434822806,
          1.742333528436748,
          0.17398563959505023,
          0.8238848120847018,
          1.1028753677494305,
          1.5395334920857684,
          1.9324595138150815,
          1.6148570272026015,
          0.6725601013858797,
          0.6758885584866,
          2.406459380264585,
          1.4617420644778574,
          0.14140470874434596,
          0.16507518817856945,
          0.43969900052570365,
          1.7317419850817437,
          1.6903402504711518,
          4.710153268330092,
          2.590760879931755,
          3.2878296582942355,
          0.3806579480515412,
          3.665001047949249,
          2.272574014327489,
          0.4587931875059372,
          5.4087572081685025,
          2.566431879295069,
          0.31303430598270443,
          3.9568420706698126,
          0.9400578709258652,
          1.1507437481659177,
          0.34950322953187357,
          5.247614832530572,
          1.662994778565405,
          0.7478385071321965,
          11.047260585948266,
          1.661733942467878,
          0.6729875274446114,
          1.0276302410504456,
          1.1346662775118745,
          0.5887893645195913,
          1.0325376465744311,
          2.233826048181109,
          0.5259061965941038,
          0.24000913391968282,
          2.6813760599215066,
          0.8565667445196515,
          0.5590015071968114,
          0.17677252880348993,
          0.07026762391453883,
          5.584284628241009,
          4.234138524393567,
          0.4019872149125299,
          3.701373459722051,
          2.5078368917521963,
          4.043320050124925,
          0.30481095324206264,
          1.0351830686260877,
          2.0686119150017572,
          1.4941627739526173,
          0.3057885753377023,
          3.8714533577057355,
          0.12066656741688299,
          9.457568333515718,
          1.3102345808039515,
          0.8402179520841204,
          1.6227034342997746,
          0.2177980905223134,
          0.837657856510475,
          3.947251399842341,
          5.05646008997898,
          4.845779100030255,
          0.10735343998963741,
          4.731302176460793,
          0.1270197045576132,
          9.907262003608269,
          1.2270381554982681,
          0.6166915840734493,
          0.5631769371323213,
          0.09047237957376317,
          0.794177075589642,
          1.4754467911881395,
          0.2779620547843234,
          1.1761547145567446,
          4.597726882312194,
          0.21883270949808517,
          0.9310563726661513,
          2.754284328180794,
          9.102627755794026,
          6.215909154545673,
          3.4803228720473665,
          0.7198324858524439,
          0.6522292378080351,
          0.34612132662827844,
          1.732718703743063,
          1.2179435030437098,
          2.2965258013526957,
          0.17544116632863008,
          0.976260864455027,
          0.09431490899340667,
          5.792179807314483,
          4.481250987432092,
          0.4429719253190465,
          0.2727228077474186,
          3.5511749806534216,
          1.3278815062850857,
          4.1470233636989695,
          0.3149556386481281,
          1.7464584502261231,
          0.43092004452467186,
          0.6767568478984505,
          0.006883792263565067,
          1.4267288351690404,
          3.6238622111206222,
          0.9301952688785876,
          2.59271497635818,
          4.016614841189249,
          5.206462838566076,
          3.999186982690405,
          2.2872637613362907,
          0.9949870784902554,
          0.27732056095117175,
          2.805914808726741,
          1.5870386533341863,
          0.4005267454803275,
          0.7300833533050253,
          2.4927438964407127,
          1.382642617206049,
          2.718618219417597,
          2.364176321159843,
          0.03512627864484672,
          0.6963376510022207,
          1.0594969365855966,
          0.16743658548483076,
          2.651545077865688,
          0.5289176876317367,
          1.3490194529989674,
          0.07048944982441228,
          0.3787437162349877,
          0.3930021901604607,
          3.0074397436528337,
          1.4741450457894947,
          4.252194673022363,
          0.22073303258472243,
          0.8565155631236938,
          1.333239942838771,
          2.4047765355448156,
          3.9129229508769368,
          2.793101771079744,
          0.5313252000951828,
          2.0122113937297024,
          0.2298005113012946,
          0.01442529066890358,
          2.2311857495943896,
          1.6664510646922446,
          2.191193965971866,
          0.0553690229814801,
          2.945277393585352,
          0.12377369592907733,
          2.0558181070865507,
          0.9768163898108564,
          3.0298075218718648,
          3.2583117088118003,
          0.31222467629816963,
          1.5812999181999703,
          0.147674537909293,
          1.072990135008966,
          1.214595708697995,
          5.925858716087229,
          2.1096702082509875,
          2.1493992020687234,
          4.7729088135164615,
          1.8485004130387457,
          2.402073034298862,
          0.7838934218647469,
          4.78414458797585,
          0.15661044652398526,
          2.2917970149372024,
          0.6778843405655962,
          3.2456489713871624,
          12.022722756788701,
          4.650445675765465,
          1.445469281943342,
          1.5859505271407903,
          1.4230923827800017,
          1.5210054756529343,
          0.06249020728582864,
          0.9790273729880797,
          0.5948338947820828,
          1.3110323415602918,
          0.24541406298875093,
          8.507408736610872,
          3.8329671596510484,
          2.137382403541235,
          0.5513803023231628,
          2.569085957931961,
          5.0716886369295695,
          1.2673425213648712,
          1.4659614535851195,
          0.21767589736939036,
          0.2914279255981565,
          2.026453389718397,
          2.2502457327419045,
          1.3070135254083608,
          4.2938738485012315,
          1.9920305159339364,
          3.283496244535022,
          1.6189835511621322,
          1.156282135805278,
          0.8215588170480217,
          1.2005316477961219,
          0.8560294266082619,
          3.2595474753436364,
          2.875059867208279,
          2.611391005578788,
          1.8054147163292489,
          1.7701097177393248,
          3.9656822928823043,
          1.658211014781024,
          2.9498175178300823,
          1.7279704021553293,
          3.3939405453608,
          0.609695623334833,
          0.46653715748878893,
          4.576972628537497,
          0.8241815012015182,
          6.6716577625942906,
          8.247190191564693,
          4.086169617488407,
          3.5572793413697905,
          2.5205827141719666,
          1.6492046705084544,
          16.74495327245641,
          1.361581647443715,
          0.4623638170114277,
          0.9141802398141131,
          2.4594440559372788,
          2.236475384625532,
          1.0424870895701435,
          2.8623217573907995,
          2.4305834977157392,
          0.1404049839625696,
          2.084131277347322,
          0.23994736199446556,
          0.30363191272460505,
          1.8170568148010278,
          4.4522984843624425,
          5.155666792352619,
          5.873648641554394,
          0.033566458334884246,
          0.4907358266385306,
          0.45974107568341194,
          6.64008868374005,
          1.894051922962974,
          2.9958689496125137,
          1.667244970290968,
          3.1706099961844787,
          1.5623624624228525,
          2.7788644760133323,
          2.4631659942306436,
          1.3736722354170507,
          2.1925925726663347,
          0.13571833091547233,
          0.696504606964531,
          1.401821213802343,
          5.2874096890632405,
          4.17168687329095,
          0.9263626913624866,
          1.1318486936821486,
          2.0254786731069285,
          0.19674142422364047,
          3.454766117477448,
          2.086469752504145,
          0.4333109146155491,
          1.277694662471633,
          1.5668286195750982,
          2.7136955406054972,
          0.3048817684794082,
          0.017484234834412166,
          0.681218456854298,
          0.7389806931407269,
          1.6137888672837466,
          2.3249495475113746,
          1.0384519458623995,
          2.1091096063229355,
          0.3335357277310012,
          3.447123563602228,
          4.465895850656536,
          0.800094878561225,
          2.3504404576027236,
          1.4561859767275,
          1.4115581513764248,
          2.2022480482955498,
          1.1460005332471324,
          0.03506703104374403,
          3.6930550400277613,
          1.9698151473832257,
          3.8224618639204695,
          5.925997534219165,
          1.9395551506106234,
          2.2663499980294826,
          3.0728901641950404,
          2.6130367771344947,
          1.8956657842068154,
          1.674195582125539,
          2.701322866847753,
          2.176741405618945,
          4.873301746648637,
          0.2312123090732658,
          0.17787072363733514,
          1.287144420730218,
          1.4638701913742276,
          1.053913184073335,
          0.5358118165759884,
          0.7356433265899759,
          1.06800498821693,
          0.31555572828009826,
          0.39963757956401613,
          1.2104068857072214,
          1.8454267869852587,
          3.2718484139580606,
          4.809484380838045,
          0.7752047268413577,
          3.388287975483627,
          0.03085979829023654,
          1.63111163287643,
          1.0644024574155304,
          3.4945464367047947,
          0.8988661775221881,
          0.9441587526030416,
          0.7992129160136767,
          1.7106346571394706,
          0.8067674725707504,
          3.5892416219777274,
          0.13222023111913353,
          1.7505745049290626,
          0.6351534006461662,
          1.1327004881352707,
          0.2079095095022297,
          0.7813498418788072,
          1.4126107391317209,
          0.14559245466416626,
          0.1580062976000724,
          1.484479646083873,
          0.0022082011686594856,
          0.0504442328920038,
          0.11251331847879723,
          1.8488926123527774,
          0.4877797986898497,
          4.372291467864417,
          1.936316013322631,
          2.314753548814051,
          0.08194413373381984,
          0.05121120818717493,
          0.8975417475910812,
          4.693221431862245,
          5.5878660000316875,
          1.0182602568087826,
          1.3198155964186367,
          5.714108202290499,
          2.547406281893693,
          3.402287682418045,
          1.665084116731739
         ],
         "showlegend": false,
         "subplot": "polar",
         "theta": [
          48.64826579981265,
          1485.5922128120094,
          697.3400123435081,
          375.6916854368295,
          796.2701715458734,
          319.49780567445316,
          1104.5863119307025,
          32.33243021665237,
          146.16094045804704,
          458.47329312404116,
          1952.8089183797927,
          225.95689374062314,
          96.77061609928808,
          844.524123126538,
          583.7144427707,
          993.4036807832894,
          205.55842848187618,
          855.9956616446942,
          278.1084539159899,
          280.13637494331715,
          1873.011567139981,
          626.5898507253872,
          1039.80363971253,
          1331.4955050866906,
          641.9604210324662,
          208.49882281502025,
          906.6622001032572,
          175.84837396024437,
          394.00905407301974,
          702.0420546377461,
          1175.8539975690742,
          1927.4304779184695,
          994.420757927727,
          549.1679995455554,
          684.6618028544113,
          606.2227640457988,
          1408.6423007101757,
          494.91726508937273,
          279.45255646926665,
          63.85793411389723,
          135.08721648092234,
          844.6965573243598,
          1665.065147399464,
          1386.7879643800554,
          2845.3382799246842,
          1235.3917129403926,
          163.67077099582136,
          1041.349644573263,
          178.91048820226703,
          1003.91593398342,
          516.7639963137402,
          1414.5614285884526,
          2083.7778213826437,
          37.74023371052271,
          354.1958507878219,
          264.8928888576792,
          494.85146384752255,
          1225.3673841213613,
          1586.0880370818654,
          876.4924254820171,
          573.234290556579,
          446.7452102318219,
          479.1667166755009,
          2731.796134891645,
          466.7799751662058,
          267.01244974878745,
          216.399274097761,
          387.08189855062045,
          1074.8052954503225,
          136.95490859328424,
          165.75320470343905,
          612.95503518057,
          437.69629127300107,
          244.15609517998837,
          918.3819497568096,
          58.243952009485994,
          738.8681703217526,
          202.8449145887892,
          665.2180996824295,
          668.487098073152,
          1189.1686842284073,
          1249.3580590338265,
          111.54735641938768,
          543.9061153363369,
          331.0513375265042,
          1326.7349296069233,
          105.16149408641421,
          21.520298902302308,
          597.3958243490437,
          422.54237103901454,
          1549.796556363739,
          735.3782040779137,
          1403.225013560466,
          424.2063550914032,
          548.5301334196198,
          574.2014245556925,
          244.70635061623145,
          714.9939172882346,
          265.0057778759825,
          99.80346639933082,
          473.66998566816426,
          112.48023805342943,
          466.5361360280157,
          463.516706141039,
          238.32457976559337,
          345.55478726551837,
          100.84142323155938,
          2525.3665536310173,
          152.58102764435466,
          2761.296681711721,
          72.66642654020178,
          113.01425437700355,
          67.79881868231155,
          1347.0823651442374,
          600.5751983933745,
          295.41193969690335,
          1863.0943997785491,
          303.03418507630505,
          229.82057763578425,
          1807.7489872175074,
          282.0378425869972,
          5.278772855448684,
          245.05004993648186,
          96.24765121363923,
          303.6025198600841,
          451.9539027099667,
          1040.544454395263,
          913.4253885916593,
          1150.7670013575516,
          412.59256276967193,
          170.97533769450212,
          24.339971640762005,
          1470.4043470767347,
          1967.0009912227097,
          99.62196498415388,
          113.68808996549905,
          2595.4258333360276,
          80.88817121966983,
          53.769335517610166,
          162.69859623314807,
          29.05220674279849,
          252.99888605013467,
          466.3771233043804,
          119.19943408202771,
          915.8790808535038,
          227.03144625035003,
          1289.2394329595452,
          395.3662451730221,
          132.94311347673016,
          899.2774583905581,
          15.295606292167179,
          234.26465927063106,
          355.7050474891069,
          368.37334059106945,
          1630.5390607532138,
          1665.233283517801,
          291.79265635289386,
          832.9045990893889,
          430.9925591161971,
          426.8603421012575,
          160.57304106646433,
          150.724492092329,
          96.82103639009978,
          644.1618377912657,
          775.1545543865855,
          1289.630172986634,
          83.5114358628131,
          293.15118763189105,
          1909.8887150116673,
          684.1952595672682,
          840.2032490168748,
          64.78390654575726,
          1877.2062506602185,
          976.2198489368892,
          3577.4718059507236,
          240.65285896160438,
          1924.2505205580906,
          47.48797663162945,
          874.4532238766028,
          54.17508415008698,
          475.55041742979296,
          1483.6944313711901,
          579.1208557667592,
          1154.4358469784815,
          431.8754678260386,
          546.3624377546503,
          872.8859964608209,
          309.63849683583294,
          468.0393913488774,
          542.2231502740494,
          273.23940461217285,
          637.7736202187435,
          223.30346333179872,
          1427.7566864802163,
          1735.9612204310065,
          377.5832192188271,
          363.6062903308355,
          1618.731864523394,
          275.35570736586436,
          140.8607853828138,
          718.0230772820795,
          51.17976778875513,
          286.36719315218653,
          613.8265170290153,
          1801.880655068171,
          96.20414419905111,
          305.3287574740014,
          66.21539810829022,
          550.6470423602908,
          888.0781679031348,
          728.298289162453,
          894.4837206398362,
          60.62425045701322,
          512.7773131604199,
          3764.341108136025,
          599.4424723815326,
          232.58728660456555,
          283.17847827706663,
          1705.7352046968697,
          489.38501877774263,
          1025.9420942267768,
          839.6566425194447,
          555.6618105122157,
          1545.7269058601414,
          308.23174506169227,
          2114.1719299715933,
          97.68829610782285,
          187.26163486764491,
          440.49146566393523,
          2012.4609233806143,
          672.8760916084947,
          164.45950737451432,
          725.2288840515315,
          763.6929112672258,
          560.3454223553224,
          214.86442726770537,
          380.2512618661805,
          527.0043116547898,
          839.6017540162935,
          1.7386725410686126,
          1818.0920207045583,
          163.60997955683212,
          1145.9695887248392,
          1691.1845946479657,
          0.2378761286168123,
          57.57302291994701,
          400.6944758670396,
          37.18311149259382,
          893.8422173402546,
          917.0957785659575,
          1732.9859131045096,
          3866.2298210946956,
          480.40832122528775,
          92.64709569306223,
          989.3101287187003,
          2473.027375436656,
          336.13636400967584,
          428.6819764961775,
          30.0471425685444,
          2023.9585685070801,
          34.173142707808715,
          579.2871593895763,
          1103.6787814997779,
          291.65182992406164,
          617.6573108613363,
          601.4051691334165,
          60.13967804741676,
          335.6457794780774,
          96.97824301826255,
          220.80202587572091,
          712.9790768588263,
          317.9443917873425,
          40.33983406473778,
          45.53770742172017,
          37.06453548338447,
          319.47510428503784,
          83.8478783888047,
          1136.666814503982,
          1538.3201157112164,
          91.19529162584503,
          821.4605853576642,
          802.8663035181692,
          275.5922406774027,
          125.27549840238547,
          254.25673781997233,
          35.98315165193101,
          19.54099582260841,
          328.118420235224,
          1353.8202909081833,
          1583.2899005403322,
          697.900988562281,
          602.8577388238997,
          155.7779496675745,
          65.99305665905248,
          673.8289969723859,
          1491.330667734926,
          132.4704991288344,
          13.834863926949685,
          1678.61773168632,
          1129.1147561887046,
          89.33805617965338,
          2432.3665559153133,
          184.521624846076,
          334.30836789128864,
          475.9745908427658,
          269.45826914915733,
          2469.180161770209,
          1814.7651074474184,
          80.25325473057315,
          744.9593048194461,
          305.76578122003053,
          18.948255612671304,
          149.00140102543833,
          118.44857518041346,
          2014.0008607747645,
          1922.412374372571,
          122.84460787497854,
          2333.451499638027,
          1767.3969694985508,
          489.10433560239835,
          1395.9633509406078,
          262.45923221615396,
          555.5526928304265,
          234.44936428125726,
          1034.1732567788658,
          778.4230466566058,
          1126.300598052205,
          539.404023638446,
          163.167340591643,
          198.32109551975316,
          133.0369334942407,
          21.72676649151109,
          1033.056932721101,
          492.7715514588143,
          3734.139474944419,
          122.31349761968774,
          289.7009077187709,
          500.54604016646897,
          1241.6137028765304,
          617.1596611251778,
          515.1030376536048,
          343.79380784493975,
          1021.9102005459508,
          388.4676218371456,
          268.3253810375084,
          113.1279745123747,
          1104.1789234924092,
          1613.068072521039,
          319.6069100886131,
          680.065127732346,
          366.3536197774886,
          765.4585887779681,
          45.904687961359514,
          207.77599328356857,
          131.3241097997661,
          344.183475314857,
          414.16393873733597,
          121.50328523695936,
          4823.308536106547,
          348.6225208977987,
          574.6915085982498,
          464.920349378377,
          198.20720111774295,
          199.89503357918787,
          1055.337151866226,
          3322.498463988354,
          1657.4590003890823,
          897.4506850115677,
          255.71733085989754,
          839.6775394845173,
          639.8178982265541,
          436.4520139548852,
          817.5142151320464,
          520.2953972786489,
          7.573120898367764,
          286.4641859031694,
          171.37015463860257,
          766.8877951051909,
          50.826868086480374,
          230.45094113670046,
          534.5762631919087,
          13.96275940031619,
          1853.7998240650372,
          34.81622341786562,
          879.4843672331393,
          1134.5802887374357,
          633.9396438566896,
          279.4912339300673,
          960.1001225210758,
          178.5374119823972,
          1368.4958491767125,
          1867.3394571611323,
          123.10271857842335,
          2967.0086768833203,
          831.0429879820748,
          184.17395551897886,
          137.83525109004975,
          1374.6762398820172,
          323.85192085373643,
          1934.426747010919,
          790.963062542485,
          431.4629853803191,
          2129.6946271420034,
          1255.188647269071,
          1119.8583264783106,
          289.01265887821774,
          2133.9585480213555,
          148.74872806418986,
          96.9408451010053,
          864.7849426821617,
          168.24895157217418,
          2002.576891957829,
          665.9876676412806,
          457.5862008707013,
          350.3804710159041,
          1020.9490639558462,
          669.5910055806917,
          524.0380073971771,
          615.5155445250954,
          848.0348072100389,
          2.607851955557003,
          224.59463816096417,
          1800.4444706166382,
          17.299400055814544,
          37.45569092719354,
          29.71994761497588,
          226.62043375561916,
          387.50230359843385,
          300.4082513337906,
          994.842125219888,
          210.9599214386174,
          654.0464626008763,
          249.05022491544284,
          1526.0530217315218,
          238.5701792288903,
          72.99125375275516,
          1365.6449623828416,
          1496.8718688000924,
          333.04485431721923,
          1194.575158116566,
          331.13250006299,
          267.3588587930841,
          1257.5851373193752,
          359.4062398362331,
          1495.034592801112,
          521.6966289136592,
          102.34111377790386,
          1039.8372211944811,
          125.14281755066492,
          531.5521577542208,
          693.8220291684801,
          179.47951589035287,
          381.65065819123265,
          471.0537598103173,
          932.3582277010161,
          2051.502266889288,
          293.28314042842453,
          1988.9137848796056,
          2499.4395751954244,
          1597.0920906414292,
          2351.1752992159427,
          687.1348974123111,
          1664.8140840315511,
          344.48644924825265,
          682.4162640608822,
          630.446008508475,
          812.0490679996,
          1228.8292929464274,
          863.1044365584407,
          2319.635069147356,
          20.379301298747617,
          374.4395897488942,
          291.63948205536104,
          555.069525551244,
          980.4529966604671,
          1110.9407472178677,
          2070.550792063466,
          2551.670302699266,
          2472.887305545649,
          1960.3678751203163,
          302.16504311939025,
          396.63383797722923,
          1687.5728220824374,
          1082.686945246867,
          2326.8806399903383,
          1164.6662786397314,
          1006.9569068474738,
          292.45172205030644,
          152.67566928566262,
          2809.345137749518,
          2262.345002323128,
          331.039153740219,
          41.82891799508103,
          754.6489545843152,
          61.6966595547409,
          1345.9457431948226,
          737.3843773958215,
          830.3720309426376,
          1813.5589917604307,
          824.9145762952433,
          4993.963165282875,
          129.29791000106076,
          707.7712222991912,
          612.4546391901896,
          485.5013149731258,
          424.45391302718286,
          3300.863769571964,
          1703.276538029754,
          982.9578816902603,
          1813.0944649575854,
          114.12641173447072,
          20.01509443609373,
          887.2421909475189,
          312.9650069438397,
          279.32712845388056,
          337.37999453220664,
          470.24559308446385,
          2067.827844810115,
          404.8745698727828,
          200.3434512970857,
          1529.9109723943673,
          487.12225744961535,
          682.0599260372167,
          166.87003157076037,
          2607.3295124460365,
          274.73766634677264,
          21.5697192607323,
          427.32672031692846,
          2531.811982931771,
          1241.6086747491104,
          503.97032768073336,
          525.4362717701721,
          201.89911915990373,
          1282.6729612233917,
          1242.3048999707762,
          257.9424104788563,
          356.3523817955876,
          87.43360275581861,
          1136.6842212807562,
          144.09252133675,
          559.253993695794,
          886.6328694680333,
          341.39350850391577,
          850.1087730616284,
          353.43833404720806,
          2241.858697628432,
          449.5782478561008,
          126.69884655797279,
          707.1539589138458,
          346.7636787039476,
          110.01950128911453,
          79.11590140515368,
          974.0928485806064,
          1197.2192646794165,
          523.6877443955682,
          374.07737110587874,
          354.3005883525034,
          309.0236150703683,
          402.6058399044382,
          544.5577171357597,
          1061.7180063042026,
          116.83688164539367,
          702.4819966606888,
          255.03220785161542,
          1015.2113987499002,
          53.2670711339889,
          185.49456400761775,
          2531.0964885255366,
          777.4148812677546,
          735.747943569336,
          640.0685312582303,
          823.7714043792326,
          1821.6713841384683,
          2167.1018801717264,
          1244.816164312716,
          458.5175782592962,
          68.66601305161976,
          361.70922731199556,
          714.2214840546529,
          406.68913775643045,
          1546.3750442037597,
          321.7107023099026,
          183.8240896248174,
          977.1976495552775,
          152.2358869879593,
          246.29332321389384,
          437.52258327187604,
          665.8478769304553,
          264.19659599931475,
          972.3222288031118,
          388.2962714771484,
          288.613959357131,
          1130.787884991533,
          297.6806344932725,
          139.83130124297082,
          104.67341937020164,
          825.058450456932,
          1023.3279233353054,
          374.4956309964261,
          311.23458540565923,
          4.30722801829207,
          103.61934667163388,
          8.427248826968718,
          89.2366162422506,
          1173.3681492254598,
          537.7397035414541,
          72.86390152240322,
          1132.245057896173,
          80.05777999877517,
          308.4075563391072,
          1216.4244167859092,
          691.818339127119,
          600.9154945679983,
          1561.779845915668,
          2565.016439735685,
          337.85925908720316,
          923.0188390837307,
          255.60549374761658,
          387.06731568576197,
          61.42725320824776,
          45.617293632218484,
          1012.0213666882954,
          635.8615896049797,
          2590.6420967690715,
          321.1938084119581,
          614.2556646526356,
          1042.5468093842185,
          238.65748661820643,
          0.2320162722861116,
          550.105581625574,
          1493.921389850954,
          667.8091917650964,
          170.7634800119326,
          925.0881807992176,
          1667.7833806299743,
          1307.3606332453958,
          414.61727952894466,
          623.0927091477502,
          223.40263229592443,
          2771.6893424877435,
          253.28632559353863,
          6.91658839443874,
          931.7841925586295,
          249.00250404519903,
          1214.2956999917142,
          947.8683667865537,
          705.0493919608625,
          671.2322788688184,
          1735.121934908135,
          181.35521891818885,
          640.6296885360696,
          1031.7718632246538,
          269.40855732115955,
          1801.9591537507706,
          2888.411091117721,
          463.1940723543333,
          343.58660196690386,
          586.139392920474,
          849.5578247961812,
          102.27916336401256,
          522.3697730845856,
          1175.3385554113825,
          79.12388744174564,
          239.16510026753028,
          106.74834118744815,
          575.8559590694808,
          257.55349441415274,
          1297.2893895038546,
          363.5924038734296,
          528.2988765500813,
          1391.2104886874629,
          199.24575222979075,
          83.05096965378758,
          65.89453076646836,
          1047.264032714691,
          134.46125082668607,
          658.40498054851,
          415.0627282895546,
          344.8025718237581,
          411.3899681085309,
          373.30768341428177,
          445.9410901279156,
          332.37427917028555,
          164.21191450773625,
          35.645370614680246,
          17.528528266015368,
          76.38941014442428,
          978.5285064583493,
          292.55257416599426,
          505.7908469259747,
          2460.559734214945,
          179.34602076922639,
          1427.5048172871946,
          974.25971943032,
          525.3807109947253,
          286.1889707759765,
          932.0769255731828,
          1071.3995867751157,
          437.595766592336,
          974.4741063941989,
          629.9232613531811,
          17.767343720852622,
          1300.5429016250644,
          829.9919877359026,
          598.4273064608095,
          1183.828855908312,
          34.10354553180624,
          80.66346482570712,
          908.143476381952,
          266.26644818933175,
          355.94601412365273,
          206.24947706358608,
          1966.2723955868746,
          407.4036146394775,
          315.3125947551657,
          680.9401897009404,
          636.4865660518233,
          101.28885426293428,
          1613.3210117666017,
          618.6654997769799,
          240.83851296784104,
          116.63069677008556,
          255.80774775672276,
          180.05145435790735,
          500.48489324683123,
          239.45540645794856,
          488.5390551572036,
          55.08763107712056,
          3670.0529020019585,
          604.4489366737333,
          1212.415498499211,
          1275.0821987884565,
          186.94279560027283,
          24.97325661417412,
          727.2803597070215,
          256.2799953512534,
          220.02378050011527,
          1718.2743348773392,
          341.07417209129056,
          71.48487711525166,
          1133.3638537029149,
          386.5104454674672,
          1015.8951875714367,
          1260.1845853574673,
          265.31112236492004,
          600.3899561163732,
          303.9015436122157,
          1264.645865474345,
          612.7190683254921,
          597.7155431274988,
          1041.7547701025676,
          783.8259678353229,
          1468.731953017928,
          969.3996923144148,
          77.36076501474457,
          2160.7937107276966,
          920.8255506702053,
          101.80409374825624,
          318.92127031347303,
          200.81104053609056,
          27.76657956013537,
          93.53674739632211,
          21.524510105327053,
          9.2337506795077,
          1605.3236135306206,
          1016.1955108410613,
          105.1779843864397,
          2559.215102539599,
          348.6892806410117,
          749.891464207731,
          231.4493251259795,
          228.3741124290053,
          237.7991111311549,
          647.1660134476421,
          551.2370828248081,
          294.69869717334296,
          380.0039586575813,
          266.81447301004357,
          301.74588512213137,
          293.3572779592499,
          2815.709377693154,
          1753.0468144651536,
          609.2567533638022,
          629.3085590020942,
          265.37457456085247,
          28.840203730031448,
          488.43444575922103,
          325.5092216122048,
          739.8628595599229,
          1019.2451425343254,
          363.54469385550794,
          2179.8061774381545,
          23.6019900750787,
          736.8585106893677,
          2246.314966704385,
          1338.7283737094756,
          445.9172192148381,
          784.1161337861307,
          797.4294347323683,
          463.2774563334354,
          826.2390432725878,
          1142.908305071873,
          2272.7001522494465,
          1769.338418587595,
          448.9729946133233,
          421.99949861783153,
          958.9343662603733,
          296.5840217690598,
          164.2255416663905,
          97.96098599764726,
          583.6156949801306,
          214.53553225696936,
          83.22038190529409,
          23.350828552183202,
          701.5433497944126,
          1175.5472555772756,
          361.58320736559705,
          285.4417703769619,
          247.64659256540557,
          588.4506542669212,
          168.18035463118514,
          360.0806310269512,
          1339.384669372904,
          874.5583746149545,
          187.9076217167356,
          305.00332251849136,
          759.4512918351027,
          526.5614897734923,
          118.64213811834051,
          490.9096037845851,
          17.28275096542919,
          462.561506790952,
          490.57832541872153,
          736.892684188945,
          306.16301496324644,
          416.50074576731026,
          431.61294552334584,
          293.0500604862024,
          279.594580330825,
          1096.0808642491193,
          946.5285440357216,
          494.6249380061495,
          359.72803028022497,
          322.6637098812218,
          642.0730988765954,
          32.2625338609447,
          826.8278506342501,
          841.832712302571,
          503.65585281730415,
          366.54169311070905,
          14.820557895439272,
          1063.4968640247,
          155.50301342239197,
          30.077337314420898,
          1593.853156480058,
          360.50807407160147,
          2333.7783329777285,
          460.3100702015926,
          342.4451952548485,
          1476.4864846917342,
          508.7592020424578,
          209.76755531799398,
          414.9604580462244,
          536.9392453927651,
          945.4848369445438,
          3037.2265204321175,
          49.46673076499769,
          372.9138409922169,
          143.00900019843937,
          365.9389943861677,
          167.88735037120432,
          6.764790710504703,
          85.74185814330521,
          1758.3284002563005,
          455.4778985071451,
          37.3756552031819,
          344.6063150534234,
          293.68305253796217,
          2483.2463158636883,
          482.2749627806618,
          633.5539648260741,
          599.1964981895076,
          1708.2957275712574,
          346.1919066442617,
          162.56870461264708,
          450.48703388853954,
          815.1616857351983,
          267.10231693621756,
          724.8945167993063,
          230.33125559855083,
          660.8214301328176,
          341.62059440481096,
          365.0356894093147,
          168.29084558756182,
          669.8887778414324,
          56.75933201153509,
          1553.014602622252,
          115.2349494734396,
          424.2398623610224,
          510.27348246819025,
          389.6692261619972,
          550.2833395306378,
          220.03367060190035,
          1003.4853068225002,
          565.9517570468038,
          1560.0393522487398,
          656.3257470671022,
          334.82969159025237,
          1045.1302299235326,
          587.4620173371878,
          115.52887730333785,
          302.1944926780727,
          134.80703047617914,
          758.9066934647976,
          1523.7967900913732,
          1711.1745768143933,
          781.4431768230788,
          158.39011846348052,
          257.418838193513,
          98.77729591872725,
          963.867983397194,
          12.582375872046551,
          3056.131671115889,
          120.7269035003635,
          18.06670280521659,
          1634.1285026292414,
          803.7429951389245,
          445.7696697489798,
          16.68640667912778,
          2366.333880151765,
          519.2106016245954,
          639.5847354769229,
          1023.6146765052486,
          375.26151440375975,
          266.86321629377335,
          101.50418152153252,
          260.6102508249301,
          2021.938601560928,
          1159.9939887226183,
          8.507449612546573,
          321.6284809607065,
          716.5685221904284,
          305.30707484091636,
          241.96973072826958,
          330.2510573756137,
          0.38955054461856176,
          609.5455785468318,
          5.227594746429979,
          1288.4676167881396,
          551.3472850303199,
          1188.005752988653,
          1784.8787331064746,
          1299.7488562861843,
          3089.063878783639,
          373.07561167350605,
          2283.592665325967,
          1782.4693050877638,
          90.65080085192467,
          195.7180190243932,
          1738.6970448487934,
          1137.107170671385,
          1087.4642912939983,
          4.382292305981645,
          709.3695005410179,
          705.8950086649786,
          422.4188836967852,
          93.82526601540236,
          779.0506570110854,
          982.159871519044,
          690.7875983014115,
          254.5155536793996,
          254.16072189121928,
          80.50672888517838,
          960.1360927725735,
          105.32881249422744,
          196.797375351218,
          1429.9015346182987,
          456.6598091732199,
          274.6258286233663,
          473.52273094666845,
          1162.090910346418,
          559.6815891985068,
          161.85381283531038,
          101.9252854007321,
          609.3927665012855,
          470.3577987027496,
          1921.2454658947388,
          148.5710160430535,
          1885.5383440777975,
          2024.6155827686398,
          315.1443353477545,
          560.977914032939,
          395.2743360043738,
          447.5476175481483,
          320.4192606500651,
          975.3313264982437,
          223.65154279519408,
          1331.7342690855155,
          403.309641199855,
          201.4735238060009
         ],
         "type": "scatterpolar"
        }
       ],
       "layout": {
        "legend": {
         "tracegroupgap": 0
        },
        "margin": {
         "t": 60
        },
        "polar": {
         "angularaxis": {
          "direction": "clockwise",
          "rotation": 90
         },
         "domain": {
          "x": [
           0,
           1
          ],
          "y": [
           0,
           1
          ]
         }
        },
        "template": {
         "data": {
          "bar": [
           {
            "error_x": {
             "color": "#2a3f5f"
            },
            "error_y": {
             "color": "#2a3f5f"
            },
            "marker": {
             "line": {
              "color": "#E5ECF6",
              "width": 0.5
             },
             "pattern": {
              "fillmode": "overlay",
              "size": 10,
              "solidity": 0.2
             }
            },
            "type": "bar"
           }
          ],
          "barpolar": [
           {
            "marker": {
             "line": {
              "color": "#E5ECF6",
              "width": 0.5
             },
             "pattern": {
              "fillmode": "overlay",
              "size": 10,
              "solidity": 0.2
             }
            },
            "type": "barpolar"
           }
          ],
          "carpet": [
           {
            "aaxis": {
             "endlinecolor": "#2a3f5f",
             "gridcolor": "white",
             "linecolor": "white",
             "minorgridcolor": "white",
             "startlinecolor": "#2a3f5f"
            },
            "baxis": {
             "endlinecolor": "#2a3f5f",
             "gridcolor": "white",
             "linecolor": "white",
             "minorgridcolor": "white",
             "startlinecolor": "#2a3f5f"
            },
            "type": "carpet"
           }
          ],
          "choropleth": [
           {
            "colorbar": {
             "outlinewidth": 0,
             "ticks": ""
            },
            "type": "choropleth"
           }
          ],
          "contour": [
           {
            "colorbar": {
             "outlinewidth": 0,
             "ticks": ""
            },
            "colorscale": [
             [
              0,
              "#0d0887"
             ],
             [
              0.1111111111111111,
              "#46039f"
             ],
             [
              0.2222222222222222,
              "#7201a8"
             ],
             [
              0.3333333333333333,
              "#9c179e"
             ],
             [
              0.4444444444444444,
              "#bd3786"
             ],
             [
              0.5555555555555556,
              "#d8576b"
             ],
             [
              0.6666666666666666,
              "#ed7953"
             ],
             [
              0.7777777777777778,
              "#fb9f3a"
             ],
             [
              0.8888888888888888,
              "#fdca26"
             ],
             [
              1,
              "#f0f921"
             ]
            ],
            "type": "contour"
           }
          ],
          "contourcarpet": [
           {
            "colorbar": {
             "outlinewidth": 0,
             "ticks": ""
            },
            "type": "contourcarpet"
           }
          ],
          "heatmap": [
           {
            "colorbar": {
             "outlinewidth": 0,
             "ticks": ""
            },
            "colorscale": [
             [
              0,
              "#0d0887"
             ],
             [
              0.1111111111111111,
              "#46039f"
             ],
             [
              0.2222222222222222,
              "#7201a8"
             ],
             [
              0.3333333333333333,
              "#9c179e"
             ],
             [
              0.4444444444444444,
              "#bd3786"
             ],
             [
              0.5555555555555556,
              "#d8576b"
             ],
             [
              0.6666666666666666,
              "#ed7953"
             ],
             [
              0.7777777777777778,
              "#fb9f3a"
             ],
             [
              0.8888888888888888,
              "#fdca26"
             ],
             [
              1,
              "#f0f921"
             ]
            ],
            "type": "heatmap"
           }
          ],
          "heatmapgl": [
           {
            "colorbar": {
             "outlinewidth": 0,
             "ticks": ""
            },
            "colorscale": [
             [
              0,
              "#0d0887"
             ],
             [
              0.1111111111111111,
              "#46039f"
             ],
             [
              0.2222222222222222,
              "#7201a8"
             ],
             [
              0.3333333333333333,
              "#9c179e"
             ],
             [
              0.4444444444444444,
              "#bd3786"
             ],
             [
              0.5555555555555556,
              "#d8576b"
             ],
             [
              0.6666666666666666,
              "#ed7953"
             ],
             [
              0.7777777777777778,
              "#fb9f3a"
             ],
             [
              0.8888888888888888,
              "#fdca26"
             ],
             [
              1,
              "#f0f921"
             ]
            ],
            "type": "heatmapgl"
           }
          ],
          "histogram": [
           {
            "marker": {
             "pattern": {
              "fillmode": "overlay",
              "size": 10,
              "solidity": 0.2
             }
            },
            "type": "histogram"
           }
          ],
          "histogram2d": [
           {
            "colorbar": {
             "outlinewidth": 0,
             "ticks": ""
            },
            "colorscale": [
             [
              0,
              "#0d0887"
             ],
             [
              0.1111111111111111,
              "#46039f"
             ],
             [
              0.2222222222222222,
              "#7201a8"
             ],
             [
              0.3333333333333333,
              "#9c179e"
             ],
             [
              0.4444444444444444,
              "#bd3786"
             ],
             [
              0.5555555555555556,
              "#d8576b"
             ],
             [
              0.6666666666666666,
              "#ed7953"
             ],
             [
              0.7777777777777778,
              "#fb9f3a"
             ],
             [
              0.8888888888888888,
              "#fdca26"
             ],
             [
              1,
              "#f0f921"
             ]
            ],
            "type": "histogram2d"
           }
          ],
          "histogram2dcontour": [
           {
            "colorbar": {
             "outlinewidth": 0,
             "ticks": ""
            },
            "colorscale": [
             [
              0,
              "#0d0887"
             ],
             [
              0.1111111111111111,
              "#46039f"
             ],
             [
              0.2222222222222222,
              "#7201a8"
             ],
             [
              0.3333333333333333,
              "#9c179e"
             ],
             [
              0.4444444444444444,
              "#bd3786"
             ],
             [
              0.5555555555555556,
              "#d8576b"
             ],
             [
              0.6666666666666666,
              "#ed7953"
             ],
             [
              0.7777777777777778,
              "#fb9f3a"
             ],
             [
              0.8888888888888888,
              "#fdca26"
             ],
             [
              1,
              "#f0f921"
             ]
            ],
            "type": "histogram2dcontour"
           }
          ],
          "mesh3d": [
           {
            "colorbar": {
             "outlinewidth": 0,
             "ticks": ""
            },
            "type": "mesh3d"
           }
          ],
          "parcoords": [
           {
            "line": {
             "colorbar": {
              "outlinewidth": 0,
              "ticks": ""
             }
            },
            "type": "parcoords"
           }
          ],
          "pie": [
           {
            "automargin": true,
            "type": "pie"
           }
          ],
          "scatter": [
           {
            "fillpattern": {
             "fillmode": "overlay",
             "size": 10,
             "solidity": 0.2
            },
            "type": "scatter"
           }
          ],
          "scatter3d": [
           {
            "line": {
             "colorbar": {
              "outlinewidth": 0,
              "ticks": ""
             }
            },
            "marker": {
             "colorbar": {
              "outlinewidth": 0,
              "ticks": ""
             }
            },
            "type": "scatter3d"
           }
          ],
          "scattercarpet": [
           {
            "marker": {
             "colorbar": {
              "outlinewidth": 0,
              "ticks": ""
             }
            },
            "type": "scattercarpet"
           }
          ],
          "scattergeo": [
           {
            "marker": {
             "colorbar": {
              "outlinewidth": 0,
              "ticks": ""
             }
            },
            "type": "scattergeo"
           }
          ],
          "scattergl": [
           {
            "marker": {
             "colorbar": {
              "outlinewidth": 0,
              "ticks": ""
             }
            },
            "type": "scattergl"
           }
          ],
          "scattermapbox": [
           {
            "marker": {
             "colorbar": {
              "outlinewidth": 0,
              "ticks": ""
             }
            },
            "type": "scattermapbox"
           }
          ],
          "scatterpolar": [
           {
            "marker": {
             "colorbar": {
              "outlinewidth": 0,
              "ticks": ""
             }
            },
            "type": "scatterpolar"
           }
          ],
          "scatterpolargl": [
           {
            "marker": {
             "colorbar": {
              "outlinewidth": 0,
              "ticks": ""
             }
            },
            "type": "scatterpolargl"
           }
          ],
          "scatterternary": [
           {
            "marker": {
             "colorbar": {
              "outlinewidth": 0,
              "ticks": ""
             }
            },
            "type": "scatterternary"
           }
          ],
          "surface": [
           {
            "colorbar": {
             "outlinewidth": 0,
             "ticks": ""
            },
            "colorscale": [
             [
              0,
              "#0d0887"
             ],
             [
              0.1111111111111111,
              "#46039f"
             ],
             [
              0.2222222222222222,
              "#7201a8"
             ],
             [
              0.3333333333333333,
              "#9c179e"
             ],
             [
              0.4444444444444444,
              "#bd3786"
             ],
             [
              0.5555555555555556,
              "#d8576b"
             ],
             [
              0.6666666666666666,
              "#ed7953"
             ],
             [
              0.7777777777777778,
              "#fb9f3a"
             ],
             [
              0.8888888888888888,
              "#fdca26"
             ],
             [
              1,
              "#f0f921"
             ]
            ],
            "type": "surface"
           }
          ],
          "table": [
           {
            "cells": {
             "fill": {
              "color": "#EBF0F8"
             },
             "line": {
              "color": "white"
             }
            },
            "header": {
             "fill": {
              "color": "#C8D4E3"
             },
             "line": {
              "color": "white"
             }
            },
            "type": "table"
           }
          ]
         },
         "layout": {
          "annotationdefaults": {
           "arrowcolor": "#2a3f5f",
           "arrowhead": 0,
           "arrowwidth": 1
          },
          "autotypenumbers": "strict",
          "coloraxis": {
           "colorbar": {
            "outlinewidth": 0,
            "ticks": ""
           }
          },
          "colorscale": {
           "diverging": [
            [
             0,
             "#8e0152"
            ],
            [
             0.1,
             "#c51b7d"
            ],
            [
             0.2,
             "#de77ae"
            ],
            [
             0.3,
             "#f1b6da"
            ],
            [
             0.4,
             "#fde0ef"
            ],
            [
             0.5,
             "#f7f7f7"
            ],
            [
             0.6,
             "#e6f5d0"
            ],
            [
             0.7,
             "#b8e186"
            ],
            [
             0.8,
             "#7fbc41"
            ],
            [
             0.9,
             "#4d9221"
            ],
            [
             1,
             "#276419"
            ]
           ],
           "sequential": [
            [
             0,
             "#0d0887"
            ],
            [
             0.1111111111111111,
             "#46039f"
            ],
            [
             0.2222222222222222,
             "#7201a8"
            ],
            [
             0.3333333333333333,
             "#9c179e"
            ],
            [
             0.4444444444444444,
             "#bd3786"
            ],
            [
             0.5555555555555556,
             "#d8576b"
            ],
            [
             0.6666666666666666,
             "#ed7953"
            ],
            [
             0.7777777777777778,
             "#fb9f3a"
            ],
            [
             0.8888888888888888,
             "#fdca26"
            ],
            [
             1,
             "#f0f921"
            ]
           ],
           "sequentialminus": [
            [
             0,
             "#0d0887"
            ],
            [
             0.1111111111111111,
             "#46039f"
            ],
            [
             0.2222222222222222,
             "#7201a8"
            ],
            [
             0.3333333333333333,
             "#9c179e"
            ],
            [
             0.4444444444444444,
             "#bd3786"
            ],
            [
             0.5555555555555556,
             "#d8576b"
            ],
            [
             0.6666666666666666,
             "#ed7953"
            ],
            [
             0.7777777777777778,
             "#fb9f3a"
            ],
            [
             0.8888888888888888,
             "#fdca26"
            ],
            [
             1,
             "#f0f921"
            ]
           ]
          },
          "colorway": [
           "#636efa",
           "#EF553B",
           "#00cc96",
           "#ab63fa",
           "#FFA15A",
           "#19d3f3",
           "#FF6692",
           "#B6E880",
           "#FF97FF",
           "#FECB52"
          ],
          "font": {
           "color": "#2a3f5f"
          },
          "geo": {
           "bgcolor": "white",
           "lakecolor": "white",
           "landcolor": "#E5ECF6",
           "showlakes": true,
           "showland": true,
           "subunitcolor": "white"
          },
          "hoverlabel": {
           "align": "left"
          },
          "hovermode": "closest",
          "mapbox": {
           "style": "light"
          },
          "paper_bgcolor": "white",
          "plot_bgcolor": "#E5ECF6",
          "polar": {
           "angularaxis": {
            "gridcolor": "white",
            "linecolor": "white",
            "ticks": ""
           },
           "bgcolor": "#E5ECF6",
           "radialaxis": {
            "gridcolor": "white",
            "linecolor": "white",
            "ticks": ""
           }
          },
          "scene": {
           "xaxis": {
            "backgroundcolor": "#E5ECF6",
            "gridcolor": "white",
            "gridwidth": 2,
            "linecolor": "white",
            "showbackground": true,
            "ticks": "",
            "zerolinecolor": "white"
           },
           "yaxis": {
            "backgroundcolor": "#E5ECF6",
            "gridcolor": "white",
            "gridwidth": 2,
            "linecolor": "white",
            "showbackground": true,
            "ticks": "",
            "zerolinecolor": "white"
           },
           "zaxis": {
            "backgroundcolor": "#E5ECF6",
            "gridcolor": "white",
            "gridwidth": 2,
            "linecolor": "white",
            "showbackground": true,
            "ticks": "",
            "zerolinecolor": "white"
           }
          },
          "shapedefaults": {
           "line": {
            "color": "#2a3f5f"
           }
          },
          "ternary": {
           "aaxis": {
            "gridcolor": "white",
            "linecolor": "white",
            "ticks": ""
           },
           "baxis": {
            "gridcolor": "white",
            "linecolor": "white",
            "ticks": ""
           },
           "bgcolor": "#E5ECF6",
           "caxis": {
            "gridcolor": "white",
            "linecolor": "white",
            "ticks": ""
           }
          },
          "title": {
           "x": 0.05
          },
          "xaxis": {
           "automargin": true,
           "gridcolor": "white",
           "linecolor": "white",
           "ticks": "",
           "title": {
            "standoff": 15
           },
           "zerolinecolor": "white",
           "zerolinewidth": 2
          },
          "yaxis": {
           "automargin": true,
           "gridcolor": "white",
           "linecolor": "white",
           "ticks": "",
           "title": {
            "standoff": 15
           },
           "zerolinecolor": "white",
           "zerolinewidth": 2
          }
         }
        }
       }
      },
      "text/html": [
       "<div>                            <div id=\"a414acaa-eb41-4597-b205-81e5639bcbbb\" class=\"plotly-graph-div\" style=\"height:525px; width:100%;\"></div>            <script type=\"text/javascript\">                require([\"plotly\"], function(Plotly) {                    window.PLOTLYENV=window.PLOTLYENV || {};                                    if (document.getElementById(\"a414acaa-eb41-4597-b205-81e5639bcbbb\")) {                    Plotly.newPlot(                        \"a414acaa-eb41-4597-b205-81e5639bcbbb\",                        [{\"hovertemplate\":\"r=%{r}<br>theta=%{theta}<extra></extra>\",\"legendgroup\":\"\",\"marker\":{\"color\":\"#636efa\",\"symbol\":\"circle\"},\"mode\":\"markers\",\"name\":\"\",\"r\":[0.4823359059056489,4.1721334172374664,1.4861041056505293,0.8418426579532531,1.5746094465436193,0.9326714660313942,0.681852364592929,1.5307828436702997,1.0049434549148646,0.27466212916404525,1.1186138772745309,0.6671050075834138,0.7975306246865095,0.6849809688841384,2.3648827546373163,0.6283091231699146,7.63458829052502,6.855818668955917,1.5537528209344629,3.8863992922011303,1.585953260415501,1.5463498730868,1.1659644926972657,1.9138783696025532,2.424974308801486,0.9939978574362314,1.0246166801848726,5.984874182373289,0.6795092613586883,0.000541974177619153,0.5481925639065942,0.8197714923583925,1.7558033312482049,1.2481854480711196,1.374193571571216,6.210465068694064,0.10688568499496029,4.887903431292827,0.01804481767981152,2.5109292030430193,2.934097778312936,1.0559071259834159,1.4025333922219685,5.7787415719703565,0.0304860650956202,0.5684620654699216,3.093991838569802,0.6125995699621517,2.4070768311906936,2.971591621319173,0.8422323120077214,1.0370871467475031,1.8295106005017852,0.31353400042869456,1.1620560296857823,8.992503367427904,1.7962525183598463,2.0379787915427783,0.1078766429389983,1.5419756806868026,0.8864766366367529,1.097378371549799,0.42273189097343655,0.49977841464219874,0.5238267106083166,4.904545187808051,1.2465727205864354,0.25615006336518825,0.37934779663111023,0.2863126672240791,5.979461716180053,0.01804524198301742,0.13445259997774345,2.247213647889819,2.4197079745538854,5.3134333293369576,2.8829340998641997,0.44139415428140144,1.2843279740806193,0.15211686767036384,2.0080569961552652,1.7153802215163607,1.3386202931715157,2.61182964658985,1.4279681859636595,0.190157334341379,0.7833856851688549,0.7850911252392686,0.6768365930149833,0.767062302618957,0.6037908069478644,3.380284672034118,1.7782806616692814,1.795358941894577,2.0567606029775463,5.769305043395841,0.5259922731461893,0.4111813133702863,0.22449989393685219,0.2847541401598268,1.0808525627473486,1.8612185564801769,2.6909209308220654,0.050933274771039885,4.24215383668603,2.028916696508975,1.4007389914819954,5.77010484370483,1.0761723816206599,0.06234902326509233,1.3683496459080846,3.0190237464171354,1.4762908070520697,6.881653784134972,4.253121108773214,0.14411464395038992,0.16615139828045408,2.4446830835607054,1.6977576640185983,0.71967926228751,0.7081510333388847,0.05669764570822223,8.237180024986182,2.3012372480202203,0.8999645180125095,1.0466552336174115,1.1553603592391737,4.74605363187164,1.3612702591252746,0.013508604977803155,0.12043645180777318,2.2624231653943907,0.9391361981721535,5.00478505807269,0.4721802181139151,0.02554494620104577,0.30404267785395855,0.6522886494663942,3.725319886218944,1.745584531147393,1.0011143519535655,0.32453371359372984,0.704792401959133,1.8469756679161884,5.497588072997144,0.7406275573470239,0.9660738826037908,0.11517110176398543,0.40955745850901776,0.8165594918225504,4.049245107215606,0.5513735638634161,1.2560192756030202,1.9920136885773347,2.0085862036962747,5.36951192311786,2.0308355068052233,0.6554282106840341,0.2697887691981235,2.1068295573477944,2.7947613477238993,4.06367134342446,4.774768096372777,3.5378777979746197,2.4832108966925674,2.2435126913451198,1.0104156386987504,3.9521966224537337,0.21590654630500397,3.713287487320121,0.24093272817277725,0.7994657895113705,2.3754912728885493,1.2900886488174446,0.053577613362787574,4.757285741734622,0.6421501132027004,2.585921843024337,3.3114276897279176,2.468964449177196,3.049833237078629,0.8352450284304392,0.20626608550767173,0.2128558776114677,6.447236854220103,0.5905443849556142,0.15666834769745386,0.5512492843323233,6.109945103002028,0.2929941472521165,6.167804870363979,3.9354453119727104,1.6950237403384487,0.06151581997613633,0.4360548683125765,0.113210711926982,0.3758131723629811,1.3604386933223303,1.537825730498151,0.2143685188493013,0.8512552204041777,3.7384539031228057,0.3280646125133953,1.65152710056713,4.541639528497489,1.170694454175012,1.5314101252081433,0.43481905932068954,2.8970362695297194,0.2260932201780033,5.202499844745821,1.1594388936694613,4.709803482085505,0.21312638702789005,0.8667827040188835,1.3192399734046538,0.6470568820240198,0.7067076215544335,1.9705852717675636,0.40274035214702625,1.1018597094620057,1.0944888112518623,4.169211707374209,0.883457844788717,0.8347678624801761,1.4449219995324116,1.0740459979405836,0.4728780479552982,1.7268623084203685,0.021319074417062045,0.1471228710779431,4.696386173178858,3.071691643077489,0.12720953482983527,0.582506139926941,1.5825615535527198,0.333893758359452,0.008538518393321488,0.9464251379707588,0.2348051940301157,1.2421919864608202,0.2328387686056429,1.2093737731329273,0.1039102165566216,2.189160847631293,0.014018992566417946,5.093382869071638,1.9791131952104202,0.5484376746865967,1.078888673703872,0.12117998312896332,0.4924727294723239,2.723983840636624,0.19764542399973262,1.5808496967584662,0.22364531519254685,0.6604887537154573,0.23431145227110522,0.02796018286886797,1.567357577524424,3.579755449464309,4.177075563050594,2.066198457616064,0.17000926114696377,2.1312078445180838,1.5292691139174468,0.3614568101611568,1.162350807919277,0.44397155097801677,1.9659163368592343,3.3204568582854765,1.1516006988282603,0.5773463455148496,0.3405370068921077,0.137226550985695,2.6452983492301945,0.583628564604408,1.2600596393634331,0.7237180322977768,1.085448248678349,0.006852480025441796,1.5502068846479726,1.8124356459207085,2.415829034394647,0.4110035213190438,1.982668821545356,0.7870953511427345,0.4739846595456518,1.1563014923744683,0.9349791725049899,0.9919611904747268,2.3487265309565037,4.921521328975743,2.8229672168606257,0.21807643985728778,0.1776869375511249,1.4927516714829965,1.7023563022456658,0.18880728482850384,0.6910259939993013,0.8428326774179895,0.6856666448815849,3.1623964456737306,0.21348663372506718,3.676747746544791,1.140102803571552,0.9888528358664666,0.1492385169623169,5.516707073301982,4.736365362428329,0.43737073629032597,0.9472873094569935,0.09889729526814017,3.8821122998539073,4.942405685874658,4.149772022678887,1.8302841705637276,0.0328298702428545,0.6424950051802942,5.000409703532305,2.3441890220327894,1.9536691228500325,4.607068878361691,2.2922225685248767,4.2467054984248644,0.8088092875548697,1.3821156067706397,0.01588612446838126,0.6883143211951024,2.7865739483587393,2.2841503254072637,0.08057195021866825,1.298135431720899,1.369434089959297,10.166409212582783,0.3650103922010623,2.964387311985046,4.545490894239944,0.009558019320628296,0.08035002705984177,0.12836677045283365,2.8822247381194543,1.3945321003430526,2.1978324615300626,0.40549389353521514,3.4904325336593383,0.32029792687206,4.110214862653428,1.067272653955386,2.8723523417102332,0.3483568929457599,1.895815127454209,2.6837036668487575,5.868508469374091,3.7593760216872627,5.490889133220524,4.014104183550675,0.7211982153329467,0.17676406162565092,1.752763756778738,0.3836267332806275,4.825312900969897,0.09140059989593968,1.4349216804965454,0.13919969661288703,0.5918648049499856,2.9860764434935425,3.6733062635407916,1.0700722207075966,0.6098899618210977,1.1711485868236546,0.0007556954190360909,0.11149149479487823,1.360791685194082,0.7878967322558011,0.19117535952933817,1.5817717903281163,0.3701481903007826,4.1906149675291,2.5330537185476802,2.0113630258654402,4.3816587520894545,1.1920951515613,3.4412213332504025,0.24658428005355557,0.43408256961278724,1.355446008161768,0.6066174754017429,0.17518932606598442,0.9547107946851758,0.7621488442552161,0.41297317409269674,2.5993515739167816,0.3361792365590589,2.707643988699399,1.1227168230407134,0.34564356031886945,0.21260630461246188,0.46828510102602555,1.26800934572617,6.504821961918404,0.03346990013315674,0.4248533853867146,2.4750959627592244,1.0734075028645451,1.678279872138366,7.403589196268369,0.19943952729058162,1.8467606820260463,4.167615989065648,0.29981718438003235,0.7961893593178204,3.7436157932710823,5.363212422412727,0.7530287714471139,0.4735442063309539,0.4026059811454189,8.485144504524982,0.09673588744374238,3.932123504168301,3.5060671062056605,0.6899815132362023,3.870286222968892,3.5584331548875348,3.534773674421222,3.873866960677495,3.0777754357025606,1.0304280097000966,0.9418093552835548,0.15563792313487074,0.13910989490855727,1.5570022742117178,1.15183398339596,1.0497545394637315,2.3317732967884353,0.7525639921786655,2.5905487773983586,1.2803102665845618,6.56879103960914,2.88018302003085,0.31541506912417794,0.44424580308077133,1.1053398913039005,1.4199267660759605,0.4767711852169618,5.805705806626656,1.981459048017489,1.780979416532657,0.2688265233518304,2.4169169699520183,2.2662699125312575,0.7766687659879579,1.2473183369725023,3.061156507801931,1.658732517519166,0.3801665228074728,2.327615009959713,2.1034315149420806,2.054429972775464,5.385090202021713,5.040650157404415,2.685639495752247,3.5069369342486683,2.296512967300989,2.381454435190593,1.209950768837725,0.7900773701540174,0.854472051836198,2.0745602574267172,2.477630699937512,0.003476184660499795,3.4454838654239146,0.7061774000030852,2.154832764067496,2.2545569433864974,6.176184677538747,1.280687565884514,1.3759906392692622,7.1230360396932175,4.719510745332363,6.568846452532908,1.3498392006072775,1.3994799607570338,1.981280603725247,1.1723479623201627,1.9085820074545288,1.415087214135553,1.419461577708024,3.6477132924879094,1.165395508356136,0.5257331836581051,1.0562250852215846,1.6908754108547028,0.3707624574957925,2.1991182460518406,2.1808505095289545,1.0763388819289514,5.454101378606142,1.1981993903464696,2.6871037591390508,4.8266379713872665,3.199652332684043,0.021157035174895075,2.022481923123356,1.4161517375949775,0.085505238068819,0.68448782149734,0.5851420802579322,5.893403634592669,2.232564990365474,1.9529554990801814,0.5696450516415876,1.5400359668828156,0.6244792298885621,1.8079308805722687,0.33146059650589405,0.6887463053129931,1.64770595254208,6.210135879140716,2.9675174125315578,0.31515932655993445,1.0109774073704447,5.194864017441144,0.2532820773733199,2.321745882701199,6.328285221701043,1.27013610439441,1.0002839328759747,0.22585843219607435,1.01299311319147,0.8921360073782192,3.2723137700953657,0.8187646485159507,0.6280560202271176,0.2322202893632201,0.48281259499280677,1.6131958049968207,1.0118863042305217,0.24444289751186107,4.30383148891498,1.5228160456696993,0.1454160567044156,1.6785854266384765,3.742207273375583,1.4747373085078426,2.4988182811521296,7.65754517307076,2.139025112220886,1.8909741370180086,1.068081302029262,0.9562650390677536,1.5764940365564597,3.2319353801537463,5.988092611596452,1.6012098257419076,0.5260219989591914,0.45679961965119875,0.476633751982947,3.449185423916736,5.092485461840294,0.22042017007842193,0.3367444443449174,0.7289249151490902,0.5871085340120413,3.376348931439471,2.238786089322469,1.9504334971103603,0.45566352738334026,1.5627122793918793,0.0851668854244717,1.2107207640875945,0.4789023754701627,2.438993221425762,3.276106959410787,1.3568966275607792,0.14595476503192542,1.079305419620026,0.6339012586242705,1.9945027690772448,0.6974147239898515,0.18055231444277128,7.745335476329218,1.2220507861331356,0.08695671837145771,0.7868880386147988,3.2221776897839285,0.9765247022692926,3.3302285275354784,2.0274361914491457,1.6205919956363364,0.02139360206993983,1.154946469575043,1.7045702762954487,0.6724191773007495,1.3550081084913044,0.4096060975692458,0.7695805482247113,1.7099472947284498,0.16090208428172534,4.455573566778403,4.75852146686481,1.6323631531121066,0.12916733839641853,1.386988444453159,1.4501876294482898,1.426819446721361,3.0972520633452807,1.13025367973488,1.6058868619982798,0.3348871655531393,1.3265813191452307,1.8807630923155882,1.2930843427646672,0.16662325477155648,0.13475262617024308,0.26318138542061364,1.6692623799140047,4.883647400489067,0.35750534641696696,3.341211752062369,0.1624434904732827,0.26986079277366787,0.05798890549590174,0.6456910816000877,1.4153191354348447,2.0046052198634055,0.16189356115026607,0.18216117520709174,4.5688644430785175,1.6115216918485795,0.45369325688264966,0.4683715715223188,1.0601944360578823,3.1541669815192392,0.322511842978582,4.507103425294028,1.8214145885411672,0.8006450152285536,1.5791380434822806,1.742333528436748,0.17398563959505023,0.8238848120847018,1.1028753677494305,1.5395334920857684,1.9324595138150815,1.6148570272026015,0.6725601013858797,0.6758885584866,2.406459380264585,1.4617420644778574,0.14140470874434596,0.16507518817856945,0.43969900052570365,1.7317419850817437,1.6903402504711518,4.710153268330092,2.590760879931755,3.2878296582942355,0.3806579480515412,3.665001047949249,2.272574014327489,0.4587931875059372,5.4087572081685025,2.566431879295069,0.31303430598270443,3.9568420706698126,0.9400578709258652,1.1507437481659177,0.34950322953187357,5.247614832530572,1.662994778565405,0.7478385071321965,11.047260585948266,1.661733942467878,0.6729875274446114,1.0276302410504456,1.1346662775118745,0.5887893645195913,1.0325376465744311,2.233826048181109,0.5259061965941038,0.24000913391968282,2.6813760599215066,0.8565667445196515,0.5590015071968114,0.17677252880348993,0.07026762391453883,5.584284628241009,4.234138524393567,0.4019872149125299,3.701373459722051,2.5078368917521963,4.043320050124925,0.30481095324206264,1.0351830686260877,2.0686119150017572,1.4941627739526173,0.3057885753377023,3.8714533577057355,0.12066656741688299,9.457568333515718,1.3102345808039515,0.8402179520841204,1.6227034342997746,0.2177980905223134,0.837657856510475,3.947251399842341,5.05646008997898,4.845779100030255,0.10735343998963741,4.731302176460793,0.1270197045576132,9.907262003608269,1.2270381554982681,0.6166915840734493,0.5631769371323213,0.09047237957376317,0.794177075589642,1.4754467911881395,0.2779620547843234,1.1761547145567446,4.597726882312194,0.21883270949808517,0.9310563726661513,2.754284328180794,9.102627755794026,6.215909154545673,3.4803228720473665,0.7198324858524439,0.6522292378080351,0.34612132662827844,1.732718703743063,1.2179435030437098,2.2965258013526957,0.17544116632863008,0.976260864455027,0.09431490899340667,5.792179807314483,4.481250987432092,0.4429719253190465,0.2727228077474186,3.5511749806534216,1.3278815062850857,4.1470233636989695,0.3149556386481281,1.7464584502261231,0.43092004452467186,0.6767568478984505,0.006883792263565067,1.4267288351690404,3.6238622111206222,0.9301952688785876,2.59271497635818,4.016614841189249,5.206462838566076,3.999186982690405,2.2872637613362907,0.9949870784902554,0.27732056095117175,2.805914808726741,1.5870386533341863,0.4005267454803275,0.7300833533050253,2.4927438964407127,1.382642617206049,2.718618219417597,2.364176321159843,0.03512627864484672,0.6963376510022207,1.0594969365855966,0.16743658548483076,2.651545077865688,0.5289176876317367,1.3490194529989674,0.07048944982441228,0.3787437162349877,0.3930021901604607,3.0074397436528337,1.4741450457894947,4.252194673022363,0.22073303258472243,0.8565155631236938,1.333239942838771,2.4047765355448156,3.9129229508769368,2.793101771079744,0.5313252000951828,2.0122113937297024,0.2298005113012946,0.01442529066890358,2.2311857495943896,1.6664510646922446,2.191193965971866,0.0553690229814801,2.945277393585352,0.12377369592907733,2.0558181070865507,0.9768163898108564,3.0298075218718648,3.2583117088118003,0.31222467629816963,1.5812999181999703,0.147674537909293,1.072990135008966,1.214595708697995,5.925858716087229,2.1096702082509875,2.1493992020687234,4.7729088135164615,1.8485004130387457,2.402073034298862,0.7838934218647469,4.78414458797585,0.15661044652398526,2.2917970149372024,0.6778843405655962,3.2456489713871624,12.022722756788701,4.650445675765465,1.445469281943342,1.5859505271407903,1.4230923827800017,1.5210054756529343,0.06249020728582864,0.9790273729880797,0.5948338947820828,1.3110323415602918,0.24541406298875093,8.507408736610872,3.8329671596510484,2.137382403541235,0.5513803023231628,2.569085957931961,5.0716886369295695,1.2673425213648712,1.4659614535851195,0.21767589736939036,0.2914279255981565,2.026453389718397,2.2502457327419045,1.3070135254083608,4.2938738485012315,1.9920305159339364,3.283496244535022,1.6189835511621322,1.156282135805278,0.8215588170480217,1.2005316477961219,0.8560294266082619,3.2595474753436364,2.875059867208279,2.611391005578788,1.8054147163292489,1.7701097177393248,3.9656822928823043,1.658211014781024,2.9498175178300823,1.7279704021553293,3.3939405453608,0.609695623334833,0.46653715748878893,4.576972628537497,0.8241815012015182,6.6716577625942906,8.247190191564693,4.086169617488407,3.5572793413697905,2.5205827141719666,1.6492046705084544,16.74495327245641,1.361581647443715,0.4623638170114277,0.9141802398141131,2.4594440559372788,2.236475384625532,1.0424870895701435,2.8623217573907995,2.4305834977157392,0.1404049839625696,2.084131277347322,0.23994736199446556,0.30363191272460505,1.8170568148010278,4.4522984843624425,5.155666792352619,5.873648641554394,0.033566458334884246,0.4907358266385306,0.45974107568341194,6.64008868374005,1.894051922962974,2.9958689496125137,1.667244970290968,3.1706099961844787,1.5623624624228525,2.7788644760133323,2.4631659942306436,1.3736722354170507,2.1925925726663347,0.13571833091547233,0.696504606964531,1.401821213802343,5.2874096890632405,4.17168687329095,0.9263626913624866,1.1318486936821486,2.0254786731069285,0.19674142422364047,3.454766117477448,2.086469752504145,0.4333109146155491,1.277694662471633,1.5668286195750982,2.7136955406054972,0.3048817684794082,0.017484234834412166,0.681218456854298,0.7389806931407269,1.6137888672837466,2.3249495475113746,1.0384519458623995,2.1091096063229355,0.3335357277310012,3.447123563602228,4.465895850656536,0.800094878561225,2.3504404576027236,1.4561859767275,1.4115581513764248,2.2022480482955498,1.1460005332471324,0.03506703104374403,3.6930550400277613,1.9698151473832257,3.8224618639204695,5.925997534219165,1.9395551506106234,2.2663499980294826,3.0728901641950404,2.6130367771344947,1.8956657842068154,1.674195582125539,2.701322866847753,2.176741405618945,4.873301746648637,0.2312123090732658,0.17787072363733514,1.287144420730218,1.4638701913742276,1.053913184073335,0.5358118165759884,0.7356433265899759,1.06800498821693,0.31555572828009826,0.39963757956401613,1.2104068857072214,1.8454267869852587,3.2718484139580606,4.809484380838045,0.7752047268413577,3.388287975483627,0.03085979829023654,1.63111163287643,1.0644024574155304,3.4945464367047947,0.8988661775221881,0.9441587526030416,0.7992129160136767,1.7106346571394706,0.8067674725707504,3.5892416219777274,0.13222023111913353,1.7505745049290626,0.6351534006461662,1.1327004881352707,0.2079095095022297,0.7813498418788072,1.4126107391317209,0.14559245466416626,0.1580062976000724,1.484479646083873,0.0022082011686594856,0.0504442328920038,0.11251331847879723,1.8488926123527774,0.4877797986898497,4.372291467864417,1.936316013322631,2.314753548814051,0.08194413373381984,0.05121120818717493,0.8975417475910812,4.693221431862245,5.5878660000316875,1.0182602568087826,1.3198155964186367,5.714108202290499,2.547406281893693,3.402287682418045,1.665084116731739],\"showlegend\":false,\"subplot\":\"polar\",\"theta\":[48.64826579981265,1485.5922128120094,697.3400123435081,375.6916854368295,796.2701715458734,319.49780567445316,1104.5863119307025,32.33243021665237,146.16094045804704,458.47329312404116,1952.8089183797927,225.95689374062314,96.77061609928808,844.524123126538,583.7144427707,993.4036807832894,205.55842848187618,855.9956616446942,278.1084539159899,280.13637494331715,1873.011567139981,626.5898507253872,1039.80363971253,1331.4955050866906,641.9604210324662,208.49882281502025,906.6622001032572,175.84837396024437,394.00905407301974,702.0420546377461,1175.8539975690742,1927.4304779184695,994.420757927727,549.1679995455554,684.6618028544113,606.2227640457988,1408.6423007101757,494.91726508937273,279.45255646926665,63.85793411389723,135.08721648092234,844.6965573243598,1665.065147399464,1386.7879643800554,2845.3382799246842,1235.3917129403926,163.67077099582136,1041.349644573263,178.91048820226703,1003.91593398342,516.7639963137402,1414.5614285884526,2083.7778213826437,37.74023371052271,354.1958507878219,264.8928888576792,494.85146384752255,1225.3673841213613,1586.0880370818654,876.4924254820171,573.234290556579,446.7452102318219,479.1667166755009,2731.796134891645,466.7799751662058,267.01244974878745,216.399274097761,387.08189855062045,1074.8052954503225,136.95490859328424,165.75320470343905,612.95503518057,437.69629127300107,244.15609517998837,918.3819497568096,58.243952009485994,738.8681703217526,202.8449145887892,665.2180996824295,668.487098073152,1189.1686842284073,1249.3580590338265,111.54735641938768,543.9061153363369,331.0513375265042,1326.7349296069233,105.16149408641421,21.520298902302308,597.3958243490437,422.54237103901454,1549.796556363739,735.3782040779137,1403.225013560466,424.2063550914032,548.5301334196198,574.2014245556925,244.70635061623145,714.9939172882346,265.0057778759825,99.80346639933082,473.66998566816426,112.48023805342943,466.5361360280157,463.516706141039,238.32457976559337,345.55478726551837,100.84142323155938,2525.3665536310173,152.58102764435466,2761.296681711721,72.66642654020178,113.01425437700355,67.79881868231155,1347.0823651442374,600.5751983933745,295.41193969690335,1863.0943997785491,303.03418507630505,229.82057763578425,1807.7489872175074,282.0378425869972,5.278772855448684,245.05004993648186,96.24765121363923,303.6025198600841,451.9539027099667,1040.544454395263,913.4253885916593,1150.7670013575516,412.59256276967193,170.97533769450212,24.339971640762005,1470.4043470767347,1967.0009912227097,99.62196498415388,113.68808996549905,2595.4258333360276,80.88817121966983,53.769335517610166,162.69859623314807,29.05220674279849,252.99888605013467,466.3771233043804,119.19943408202771,915.8790808535038,227.03144625035003,1289.2394329595452,395.3662451730221,132.94311347673016,899.2774583905581,15.295606292167179,234.26465927063106,355.7050474891069,368.37334059106945,1630.5390607532138,1665.233283517801,291.79265635289386,832.9045990893889,430.9925591161971,426.8603421012575,160.57304106646433,150.724492092329,96.82103639009978,644.1618377912657,775.1545543865855,1289.630172986634,83.5114358628131,293.15118763189105,1909.8887150116673,684.1952595672682,840.2032490168748,64.78390654575726,1877.2062506602185,976.2198489368892,3577.4718059507236,240.65285896160438,1924.2505205580906,47.48797663162945,874.4532238766028,54.17508415008698,475.55041742979296,1483.6944313711901,579.1208557667592,1154.4358469784815,431.8754678260386,546.3624377546503,872.8859964608209,309.63849683583294,468.0393913488774,542.2231502740494,273.23940461217285,637.7736202187435,223.30346333179872,1427.7566864802163,1735.9612204310065,377.5832192188271,363.6062903308355,1618.731864523394,275.35570736586436,140.8607853828138,718.0230772820795,51.17976778875513,286.36719315218653,613.8265170290153,1801.880655068171,96.20414419905111,305.3287574740014,66.21539810829022,550.6470423602908,888.0781679031348,728.298289162453,894.4837206398362,60.62425045701322,512.7773131604199,3764.341108136025,599.4424723815326,232.58728660456555,283.17847827706663,1705.7352046968697,489.38501877774263,1025.9420942267768,839.6566425194447,555.6618105122157,1545.7269058601414,308.23174506169227,2114.1719299715933,97.68829610782285,187.26163486764491,440.49146566393523,2012.4609233806143,672.8760916084947,164.45950737451432,725.2288840515315,763.6929112672258,560.3454223553224,214.86442726770537,380.2512618661805,527.0043116547898,839.6017540162935,1.7386725410686126,1818.0920207045583,163.60997955683212,1145.9695887248392,1691.1845946479657,0.2378761286168123,57.57302291994701,400.6944758670396,37.18311149259382,893.8422173402546,917.0957785659575,1732.9859131045096,3866.2298210946956,480.40832122528775,92.64709569306223,989.3101287187003,2473.027375436656,336.13636400967584,428.6819764961775,30.0471425685444,2023.9585685070801,34.173142707808715,579.2871593895763,1103.6787814997779,291.65182992406164,617.6573108613363,601.4051691334165,60.13967804741676,335.6457794780774,96.97824301826255,220.80202587572091,712.9790768588263,317.9443917873425,40.33983406473778,45.53770742172017,37.06453548338447,319.47510428503784,83.8478783888047,1136.666814503982,1538.3201157112164,91.19529162584503,821.4605853576642,802.8663035181692,275.5922406774027,125.27549840238547,254.25673781997233,35.98315165193101,19.54099582260841,328.118420235224,1353.8202909081833,1583.2899005403322,697.900988562281,602.8577388238997,155.7779496675745,65.99305665905248,673.8289969723859,1491.330667734926,132.4704991288344,13.834863926949685,1678.61773168632,1129.1147561887046,89.33805617965338,2432.3665559153133,184.521624846076,334.30836789128864,475.9745908427658,269.45826914915733,2469.180161770209,1814.7651074474184,80.25325473057315,744.9593048194461,305.76578122003053,18.948255612671304,149.00140102543833,118.44857518041346,2014.0008607747645,1922.412374372571,122.84460787497854,2333.451499638027,1767.3969694985508,489.10433560239835,1395.9633509406078,262.45923221615396,555.5526928304265,234.44936428125726,1034.1732567788658,778.4230466566058,1126.300598052205,539.404023638446,163.167340591643,198.32109551975316,133.0369334942407,21.72676649151109,1033.056932721101,492.7715514588143,3734.139474944419,122.31349761968774,289.7009077187709,500.54604016646897,1241.6137028765304,617.1596611251778,515.1030376536048,343.79380784493975,1021.9102005459508,388.4676218371456,268.3253810375084,113.1279745123747,1104.1789234924092,1613.068072521039,319.6069100886131,680.065127732346,366.3536197774886,765.4585887779681,45.904687961359514,207.77599328356857,131.3241097997661,344.183475314857,414.16393873733597,121.50328523695936,4823.308536106547,348.6225208977987,574.6915085982498,464.920349378377,198.20720111774295,199.89503357918787,1055.337151866226,3322.498463988354,1657.4590003890823,897.4506850115677,255.71733085989754,839.6775394845173,639.8178982265541,436.4520139548852,817.5142151320464,520.2953972786489,7.573120898367764,286.4641859031694,171.37015463860257,766.8877951051909,50.826868086480374,230.45094113670046,534.5762631919087,13.96275940031619,1853.7998240650372,34.81622341786562,879.4843672331393,1134.5802887374357,633.9396438566896,279.4912339300673,960.1001225210758,178.5374119823972,1368.4958491767125,1867.3394571611323,123.10271857842335,2967.0086768833203,831.0429879820748,184.17395551897886,137.83525109004975,1374.6762398820172,323.85192085373643,1934.426747010919,790.963062542485,431.4629853803191,2129.6946271420034,1255.188647269071,1119.8583264783106,289.01265887821774,2133.9585480213555,148.74872806418986,96.9408451010053,864.7849426821617,168.24895157217418,2002.576891957829,665.9876676412806,457.5862008707013,350.3804710159041,1020.9490639558462,669.5910055806917,524.0380073971771,615.5155445250954,848.0348072100389,2.607851955557003,224.59463816096417,1800.4444706166382,17.299400055814544,37.45569092719354,29.71994761497588,226.62043375561916,387.50230359843385,300.4082513337906,994.842125219888,210.9599214386174,654.0464626008763,249.05022491544284,1526.0530217315218,238.5701792288903,72.99125375275516,1365.6449623828416,1496.8718688000924,333.04485431721923,1194.575158116566,331.13250006299,267.3588587930841,1257.5851373193752,359.4062398362331,1495.034592801112,521.6966289136592,102.34111377790386,1039.8372211944811,125.14281755066492,531.5521577542208,693.8220291684801,179.47951589035287,381.65065819123265,471.0537598103173,932.3582277010161,2051.502266889288,293.28314042842453,1988.9137848796056,2499.4395751954244,1597.0920906414292,2351.1752992159427,687.1348974123111,1664.8140840315511,344.48644924825265,682.4162640608822,630.446008508475,812.0490679996,1228.8292929464274,863.1044365584407,2319.635069147356,20.379301298747617,374.4395897488942,291.63948205536104,555.069525551244,980.4529966604671,1110.9407472178677,2070.550792063466,2551.670302699266,2472.887305545649,1960.3678751203163,302.16504311939025,396.63383797722923,1687.5728220824374,1082.686945246867,2326.8806399903383,1164.6662786397314,1006.9569068474738,292.45172205030644,152.67566928566262,2809.345137749518,2262.345002323128,331.039153740219,41.82891799508103,754.6489545843152,61.6966595547409,1345.9457431948226,737.3843773958215,830.3720309426376,1813.5589917604307,824.9145762952433,4993.963165282875,129.29791000106076,707.7712222991912,612.4546391901896,485.5013149731258,424.45391302718286,3300.863769571964,1703.276538029754,982.9578816902603,1813.0944649575854,114.12641173447072,20.01509443609373,887.2421909475189,312.9650069438397,279.32712845388056,337.37999453220664,470.24559308446385,2067.827844810115,404.8745698727828,200.3434512970857,1529.9109723943673,487.12225744961535,682.0599260372167,166.87003157076037,2607.3295124460365,274.73766634677264,21.5697192607323,427.32672031692846,2531.811982931771,1241.6086747491104,503.97032768073336,525.4362717701721,201.89911915990373,1282.6729612233917,1242.3048999707762,257.9424104788563,356.3523817955876,87.43360275581861,1136.6842212807562,144.09252133675,559.253993695794,886.6328694680333,341.39350850391577,850.1087730616284,353.43833404720806,2241.858697628432,449.5782478561008,126.69884655797279,707.1539589138458,346.7636787039476,110.01950128911453,79.11590140515368,974.0928485806064,1197.2192646794165,523.6877443955682,374.07737110587874,354.3005883525034,309.0236150703683,402.6058399044382,544.5577171357597,1061.7180063042026,116.83688164539367,702.4819966606888,255.03220785161542,1015.2113987499002,53.2670711339889,185.49456400761775,2531.0964885255366,777.4148812677546,735.747943569336,640.0685312582303,823.7714043792326,1821.6713841384683,2167.1018801717264,1244.816164312716,458.5175782592962,68.66601305161976,361.70922731199556,714.2214840546529,406.68913775643045,1546.3750442037597,321.7107023099026,183.8240896248174,977.1976495552775,152.2358869879593,246.29332321389384,437.52258327187604,665.8478769304553,264.19659599931475,972.3222288031118,388.2962714771484,288.613959357131,1130.787884991533,297.6806344932725,139.83130124297082,104.67341937020164,825.058450456932,1023.3279233353054,374.4956309964261,311.23458540565923,4.30722801829207,103.61934667163388,8.427248826968718,89.2366162422506,1173.3681492254598,537.7397035414541,72.86390152240322,1132.245057896173,80.05777999877517,308.4075563391072,1216.4244167859092,691.818339127119,600.9154945679983,1561.779845915668,2565.016439735685,337.85925908720316,923.0188390837307,255.60549374761658,387.06731568576197,61.42725320824776,45.617293632218484,1012.0213666882954,635.8615896049797,2590.6420967690715,321.1938084119581,614.2556646526356,1042.5468093842185,238.65748661820643,0.2320162722861116,550.105581625574,1493.921389850954,667.8091917650964,170.7634800119326,925.0881807992176,1667.7833806299743,1307.3606332453958,414.61727952894466,623.0927091477502,223.40263229592443,2771.6893424877435,253.28632559353863,6.91658839443874,931.7841925586295,249.00250404519903,1214.2956999917142,947.8683667865537,705.0493919608625,671.2322788688184,1735.121934908135,181.35521891818885,640.6296885360696,1031.7718632246538,269.40855732115955,1801.9591537507706,2888.411091117721,463.1940723543333,343.58660196690386,586.139392920474,849.5578247961812,102.27916336401256,522.3697730845856,1175.3385554113825,79.12388744174564,239.16510026753028,106.74834118744815,575.8559590694808,257.55349441415274,1297.2893895038546,363.5924038734296,528.2988765500813,1391.2104886874629,199.24575222979075,83.05096965378758,65.89453076646836,1047.264032714691,134.46125082668607,658.40498054851,415.0627282895546,344.8025718237581,411.3899681085309,373.30768341428177,445.9410901279156,332.37427917028555,164.21191450773625,35.645370614680246,17.528528266015368,76.38941014442428,978.5285064583493,292.55257416599426,505.7908469259747,2460.559734214945,179.34602076922639,1427.5048172871946,974.25971943032,525.3807109947253,286.1889707759765,932.0769255731828,1071.3995867751157,437.595766592336,974.4741063941989,629.9232613531811,17.767343720852622,1300.5429016250644,829.9919877359026,598.4273064608095,1183.828855908312,34.10354553180624,80.66346482570712,908.143476381952,266.26644818933175,355.94601412365273,206.24947706358608,1966.2723955868746,407.4036146394775,315.3125947551657,680.9401897009404,636.4865660518233,101.28885426293428,1613.3210117666017,618.6654997769799,240.83851296784104,116.63069677008556,255.80774775672276,180.05145435790735,500.48489324683123,239.45540645794856,488.5390551572036,55.08763107712056,3670.0529020019585,604.4489366737333,1212.415498499211,1275.0821987884565,186.94279560027283,24.97325661417412,727.2803597070215,256.2799953512534,220.02378050011527,1718.2743348773392,341.07417209129056,71.48487711525166,1133.3638537029149,386.5104454674672,1015.8951875714367,1260.1845853574673,265.31112236492004,600.3899561163732,303.9015436122157,1264.645865474345,612.7190683254921,597.7155431274988,1041.7547701025676,783.8259678353229,1468.731953017928,969.3996923144148,77.36076501474457,2160.7937107276966,920.8255506702053,101.80409374825624,318.92127031347303,200.81104053609056,27.76657956013537,93.53674739632211,21.524510105327053,9.2337506795077,1605.3236135306206,1016.1955108410613,105.1779843864397,2559.215102539599,348.6892806410117,749.891464207731,231.4493251259795,228.3741124290053,237.7991111311549,647.1660134476421,551.2370828248081,294.69869717334296,380.0039586575813,266.81447301004357,301.74588512213137,293.3572779592499,2815.709377693154,1753.0468144651536,609.2567533638022,629.3085590020942,265.37457456085247,28.840203730031448,488.43444575922103,325.5092216122048,739.8628595599229,1019.2451425343254,363.54469385550794,2179.8061774381545,23.6019900750787,736.8585106893677,2246.314966704385,1338.7283737094756,445.9172192148381,784.1161337861307,797.4294347323683,463.2774563334354,826.2390432725878,1142.908305071873,2272.7001522494465,1769.338418587595,448.9729946133233,421.99949861783153,958.9343662603733,296.5840217690598,164.2255416663905,97.96098599764726,583.6156949801306,214.53553225696936,83.22038190529409,23.350828552183202,701.5433497944126,1175.5472555772756,361.58320736559705,285.4417703769619,247.64659256540557,588.4506542669212,168.18035463118514,360.0806310269512,1339.384669372904,874.5583746149545,187.9076217167356,305.00332251849136,759.4512918351027,526.5614897734923,118.64213811834051,490.9096037845851,17.28275096542919,462.561506790952,490.57832541872153,736.892684188945,306.16301496324644,416.50074576731026,431.61294552334584,293.0500604862024,279.594580330825,1096.0808642491193,946.5285440357216,494.6249380061495,359.72803028022497,322.6637098812218,642.0730988765954,32.2625338609447,826.8278506342501,841.832712302571,503.65585281730415,366.54169311070905,14.820557895439272,1063.4968640247,155.50301342239197,30.077337314420898,1593.853156480058,360.50807407160147,2333.7783329777285,460.3100702015926,342.4451952548485,1476.4864846917342,508.7592020424578,209.76755531799398,414.9604580462244,536.9392453927651,945.4848369445438,3037.2265204321175,49.46673076499769,372.9138409922169,143.00900019843937,365.9389943861677,167.88735037120432,6.764790710504703,85.74185814330521,1758.3284002563005,455.4778985071451,37.3756552031819,344.6063150534234,293.68305253796217,2483.2463158636883,482.2749627806618,633.5539648260741,599.1964981895076,1708.2957275712574,346.1919066442617,162.56870461264708,450.48703388853954,815.1616857351983,267.10231693621756,724.8945167993063,230.33125559855083,660.8214301328176,341.62059440481096,365.0356894093147,168.29084558756182,669.8887778414324,56.75933201153509,1553.014602622252,115.2349494734396,424.2398623610224,510.27348246819025,389.6692261619972,550.2833395306378,220.03367060190035,1003.4853068225002,565.9517570468038,1560.0393522487398,656.3257470671022,334.82969159025237,1045.1302299235326,587.4620173371878,115.52887730333785,302.1944926780727,134.80703047617914,758.9066934647976,1523.7967900913732,1711.1745768143933,781.4431768230788,158.39011846348052,257.418838193513,98.77729591872725,963.867983397194,12.582375872046551,3056.131671115889,120.7269035003635,18.06670280521659,1634.1285026292414,803.7429951389245,445.7696697489798,16.68640667912778,2366.333880151765,519.2106016245954,639.5847354769229,1023.6146765052486,375.26151440375975,266.86321629377335,101.50418152153252,260.6102508249301,2021.938601560928,1159.9939887226183,8.507449612546573,321.6284809607065,716.5685221904284,305.30707484091636,241.96973072826958,330.2510573756137,0.38955054461856176,609.5455785468318,5.227594746429979,1288.4676167881396,551.3472850303199,1188.005752988653,1784.8787331064746,1299.7488562861843,3089.063878783639,373.07561167350605,2283.592665325967,1782.4693050877638,90.65080085192467,195.7180190243932,1738.6970448487934,1137.107170671385,1087.4642912939983,4.382292305981645,709.3695005410179,705.8950086649786,422.4188836967852,93.82526601540236,779.0506570110854,982.159871519044,690.7875983014115,254.5155536793996,254.16072189121928,80.50672888517838,960.1360927725735,105.32881249422744,196.797375351218,1429.9015346182987,456.6598091732199,274.6258286233663,473.52273094666845,1162.090910346418,559.6815891985068,161.85381283531038,101.9252854007321,609.3927665012855,470.3577987027496,1921.2454658947388,148.5710160430535,1885.5383440777975,2024.6155827686398,315.1443353477545,560.977914032939,395.2743360043738,447.5476175481483,320.4192606500651,975.3313264982437,223.65154279519408,1331.7342690855155,403.309641199855,201.4735238060009],\"type\":\"scatterpolar\"}],                        {\"template\":{\"data\":{\"histogram2dcontour\":[{\"type\":\"histogram2dcontour\",\"colorbar\":{\"outlinewidth\":0,\"ticks\":\"\"},\"colorscale\":[[0.0,\"#0d0887\"],[0.1111111111111111,\"#46039f\"],[0.2222222222222222,\"#7201a8\"],[0.3333333333333333,\"#9c179e\"],[0.4444444444444444,\"#bd3786\"],[0.5555555555555556,\"#d8576b\"],[0.6666666666666666,\"#ed7953\"],[0.7777777777777778,\"#fb9f3a\"],[0.8888888888888888,\"#fdca26\"],[1.0,\"#f0f921\"]]}],\"choropleth\":[{\"type\":\"choropleth\",\"colorbar\":{\"outlinewidth\":0,\"ticks\":\"\"}}],\"histogram2d\":[{\"type\":\"histogram2d\",\"colorbar\":{\"outlinewidth\":0,\"ticks\":\"\"},\"colorscale\":[[0.0,\"#0d0887\"],[0.1111111111111111,\"#46039f\"],[0.2222222222222222,\"#7201a8\"],[0.3333333333333333,\"#9c179e\"],[0.4444444444444444,\"#bd3786\"],[0.5555555555555556,\"#d8576b\"],[0.6666666666666666,\"#ed7953\"],[0.7777777777777778,\"#fb9f3a\"],[0.8888888888888888,\"#fdca26\"],[1.0,\"#f0f921\"]]}],\"heatmap\":[{\"type\":\"heatmap\",\"colorbar\":{\"outlinewidth\":0,\"ticks\":\"\"},\"colorscale\":[[0.0,\"#0d0887\"],[0.1111111111111111,\"#46039f\"],[0.2222222222222222,\"#7201a8\"],[0.3333333333333333,\"#9c179e\"],[0.4444444444444444,\"#bd3786\"],[0.5555555555555556,\"#d8576b\"],[0.6666666666666666,\"#ed7953\"],[0.7777777777777778,\"#fb9f3a\"],[0.8888888888888888,\"#fdca26\"],[1.0,\"#f0f921\"]]}],\"heatmapgl\":[{\"type\":\"heatmapgl\",\"colorbar\":{\"outlinewidth\":0,\"ticks\":\"\"},\"colorscale\":[[0.0,\"#0d0887\"],[0.1111111111111111,\"#46039f\"],[0.2222222222222222,\"#7201a8\"],[0.3333333333333333,\"#9c179e\"],[0.4444444444444444,\"#bd3786\"],[0.5555555555555556,\"#d8576b\"],[0.6666666666666666,\"#ed7953\"],[0.7777777777777778,\"#fb9f3a\"],[0.8888888888888888,\"#fdca26\"],[1.0,\"#f0f921\"]]}],\"contourcarpet\":[{\"type\":\"contourcarpet\",\"colorbar\":{\"outlinewidth\":0,\"ticks\":\"\"}}],\"contour\":[{\"type\":\"contour\",\"colorbar\":{\"outlinewidth\":0,\"ticks\":\"\"},\"colorscale\":[[0.0,\"#0d0887\"],[0.1111111111111111,\"#46039f\"],[0.2222222222222222,\"#7201a8\"],[0.3333333333333333,\"#9c179e\"],[0.4444444444444444,\"#bd3786\"],[0.5555555555555556,\"#d8576b\"],[0.6666666666666666,\"#ed7953\"],[0.7777777777777778,\"#fb9f3a\"],[0.8888888888888888,\"#fdca26\"],[1.0,\"#f0f921\"]]}],\"surface\":[{\"type\":\"surface\",\"colorbar\":{\"outlinewidth\":0,\"ticks\":\"\"},\"colorscale\":[[0.0,\"#0d0887\"],[0.1111111111111111,\"#46039f\"],[0.2222222222222222,\"#7201a8\"],[0.3333333333333333,\"#9c179e\"],[0.4444444444444444,\"#bd3786\"],[0.5555555555555556,\"#d8576b\"],[0.6666666666666666,\"#ed7953\"],[0.7777777777777778,\"#fb9f3a\"],[0.8888888888888888,\"#fdca26\"],[1.0,\"#f0f921\"]]}],\"mesh3d\":[{\"type\":\"mesh3d\",\"colorbar\":{\"outlinewidth\":0,\"ticks\":\"\"}}],\"scatter\":[{\"fillpattern\":{\"fillmode\":\"overlay\",\"size\":10,\"solidity\":0.2},\"type\":\"scatter\"}],\"parcoords\":[{\"type\":\"parcoords\",\"line\":{\"colorbar\":{\"outlinewidth\":0,\"ticks\":\"\"}}}],\"scatterpolargl\":[{\"type\":\"scatterpolargl\",\"marker\":{\"colorbar\":{\"outlinewidth\":0,\"ticks\":\"\"}}}],\"bar\":[{\"error_x\":{\"color\":\"#2a3f5f\"},\"error_y\":{\"color\":\"#2a3f5f\"},\"marker\":{\"line\":{\"color\":\"#E5ECF6\",\"width\":0.5},\"pattern\":{\"fillmode\":\"overlay\",\"size\":10,\"solidity\":0.2}},\"type\":\"bar\"}],\"scattergeo\":[{\"type\":\"scattergeo\",\"marker\":{\"colorbar\":{\"outlinewidth\":0,\"ticks\":\"\"}}}],\"scatterpolar\":[{\"type\":\"scatterpolar\",\"marker\":{\"colorbar\":{\"outlinewidth\":0,\"ticks\":\"\"}}}],\"histogram\":[{\"marker\":{\"pattern\":{\"fillmode\":\"overlay\",\"size\":10,\"solidity\":0.2}},\"type\":\"histogram\"}],\"scattergl\":[{\"type\":\"scattergl\",\"marker\":{\"colorbar\":{\"outlinewidth\":0,\"ticks\":\"\"}}}],\"scatter3d\":[{\"type\":\"scatter3d\",\"line\":{\"colorbar\":{\"outlinewidth\":0,\"ticks\":\"\"}},\"marker\":{\"colorbar\":{\"outlinewidth\":0,\"ticks\":\"\"}}}],\"scattermapbox\":[{\"type\":\"scattermapbox\",\"marker\":{\"colorbar\":{\"outlinewidth\":0,\"ticks\":\"\"}}}],\"scatterternary\":[{\"type\":\"scatterternary\",\"marker\":{\"colorbar\":{\"outlinewidth\":0,\"ticks\":\"\"}}}],\"scattercarpet\":[{\"type\":\"scattercarpet\",\"marker\":{\"colorbar\":{\"outlinewidth\":0,\"ticks\":\"\"}}}],\"carpet\":[{\"aaxis\":{\"endlinecolor\":\"#2a3f5f\",\"gridcolor\":\"white\",\"linecolor\":\"white\",\"minorgridcolor\":\"white\",\"startlinecolor\":\"#2a3f5f\"},\"baxis\":{\"endlinecolor\":\"#2a3f5f\",\"gridcolor\":\"white\",\"linecolor\":\"white\",\"minorgridcolor\":\"white\",\"startlinecolor\":\"#2a3f5f\"},\"type\":\"carpet\"}],\"table\":[{\"cells\":{\"fill\":{\"color\":\"#EBF0F8\"},\"line\":{\"color\":\"white\"}},\"header\":{\"fill\":{\"color\":\"#C8D4E3\"},\"line\":{\"color\":\"white\"}},\"type\":\"table\"}],\"barpolar\":[{\"marker\":{\"line\":{\"color\":\"#E5ECF6\",\"width\":0.5},\"pattern\":{\"fillmode\":\"overlay\",\"size\":10,\"solidity\":0.2}},\"type\":\"barpolar\"}],\"pie\":[{\"automargin\":true,\"type\":\"pie\"}]},\"layout\":{\"autotypenumbers\":\"strict\",\"colorway\":[\"#636efa\",\"#EF553B\",\"#00cc96\",\"#ab63fa\",\"#FFA15A\",\"#19d3f3\",\"#FF6692\",\"#B6E880\",\"#FF97FF\",\"#FECB52\"],\"font\":{\"color\":\"#2a3f5f\"},\"hovermode\":\"closest\",\"hoverlabel\":{\"align\":\"left\"},\"paper_bgcolor\":\"white\",\"plot_bgcolor\":\"#E5ECF6\",\"polar\":{\"bgcolor\":\"#E5ECF6\",\"angularaxis\":{\"gridcolor\":\"white\",\"linecolor\":\"white\",\"ticks\":\"\"},\"radialaxis\":{\"gridcolor\":\"white\",\"linecolor\":\"white\",\"ticks\":\"\"}},\"ternary\":{\"bgcolor\":\"#E5ECF6\",\"aaxis\":{\"gridcolor\":\"white\",\"linecolor\":\"white\",\"ticks\":\"\"},\"baxis\":{\"gridcolor\":\"white\",\"linecolor\":\"white\",\"ticks\":\"\"},\"caxis\":{\"gridcolor\":\"white\",\"linecolor\":\"white\",\"ticks\":\"\"}},\"coloraxis\":{\"colorbar\":{\"outlinewidth\":0,\"ticks\":\"\"}},\"colorscale\":{\"sequential\":[[0.0,\"#0d0887\"],[0.1111111111111111,\"#46039f\"],[0.2222222222222222,\"#7201a8\"],[0.3333333333333333,\"#9c179e\"],[0.4444444444444444,\"#bd3786\"],[0.5555555555555556,\"#d8576b\"],[0.6666666666666666,\"#ed7953\"],[0.7777777777777778,\"#fb9f3a\"],[0.8888888888888888,\"#fdca26\"],[1.0,\"#f0f921\"]],\"sequentialminus\":[[0.0,\"#0d0887\"],[0.1111111111111111,\"#46039f\"],[0.2222222222222222,\"#7201a8\"],[0.3333333333333333,\"#9c179e\"],[0.4444444444444444,\"#bd3786\"],[0.5555555555555556,\"#d8576b\"],[0.6666666666666666,\"#ed7953\"],[0.7777777777777778,\"#fb9f3a\"],[0.8888888888888888,\"#fdca26\"],[1.0,\"#f0f921\"]],\"diverging\":[[0,\"#8e0152\"],[0.1,\"#c51b7d\"],[0.2,\"#de77ae\"],[0.3,\"#f1b6da\"],[0.4,\"#fde0ef\"],[0.5,\"#f7f7f7\"],[0.6,\"#e6f5d0\"],[0.7,\"#b8e186\"],[0.8,\"#7fbc41\"],[0.9,\"#4d9221\"],[1,\"#276419\"]]},\"xaxis\":{\"gridcolor\":\"white\",\"linecolor\":\"white\",\"ticks\":\"\",\"title\":{\"standoff\":15},\"zerolinecolor\":\"white\",\"automargin\":true,\"zerolinewidth\":2},\"yaxis\":{\"gridcolor\":\"white\",\"linecolor\":\"white\",\"ticks\":\"\",\"title\":{\"standoff\":15},\"zerolinecolor\":\"white\",\"automargin\":true,\"zerolinewidth\":2},\"scene\":{\"xaxis\":{\"backgroundcolor\":\"#E5ECF6\",\"gridcolor\":\"white\",\"linecolor\":\"white\",\"showbackground\":true,\"ticks\":\"\",\"zerolinecolor\":\"white\",\"gridwidth\":2},\"yaxis\":{\"backgroundcolor\":\"#E5ECF6\",\"gridcolor\":\"white\",\"linecolor\":\"white\",\"showbackground\":true,\"ticks\":\"\",\"zerolinecolor\":\"white\",\"gridwidth\":2},\"zaxis\":{\"backgroundcolor\":\"#E5ECF6\",\"gridcolor\":\"white\",\"linecolor\":\"white\",\"showbackground\":true,\"ticks\":\"\",\"zerolinecolor\":\"white\",\"gridwidth\":2}},\"shapedefaults\":{\"line\":{\"color\":\"#2a3f5f\"}},\"annotationdefaults\":{\"arrowcolor\":\"#2a3f5f\",\"arrowhead\":0,\"arrowwidth\":1},\"geo\":{\"bgcolor\":\"white\",\"landcolor\":\"#E5ECF6\",\"subunitcolor\":\"white\",\"showland\":true,\"showlakes\":true,\"lakecolor\":\"white\"},\"title\":{\"x\":0.05},\"mapbox\":{\"style\":\"light\"}}},\"polar\":{\"domain\":{\"x\":[0.0,1.0],\"y\":[0.0,1.0]},\"angularaxis\":{\"direction\":\"clockwise\",\"rotation\":90}},\"legend\":{\"tracegroupgap\":0},\"margin\":{\"t\":60}},                        {\"responsive\": true}                    ).then(function(){\n",
       "                            \n",
       "var gd = document.getElementById('a414acaa-eb41-4597-b205-81e5639bcbbb');\n",
       "var x = new MutationObserver(function (mutations, observer) {{\n",
       "        var display = window.getComputedStyle(gd).display;\n",
       "        if (!display || display === 'none') {{\n",
       "            console.log([gd, 'removed!']);\n",
       "            Plotly.purge(gd);\n",
       "            observer.disconnect();\n",
       "        }}\n",
       "}});\n",
       "\n",
       "// Listen for the removal of the full notebook cells\n",
       "var notebookContainer = gd.closest('#notebook-container');\n",
       "if (notebookContainer) {{\n",
       "    x.observe(notebookContainer, {childList: true});\n",
       "}}\n",
       "\n",
       "// Listen for the clearing of the current output cell\n",
       "var outputEl = gd.closest('.output');\n",
       "if (outputEl) {{\n",
       "    x.observe(outputEl, {childList: true});\n",
       "}}\n",
       "\n",
       "                        })                };                });            </script>        </div>"
      ]
     },
     "metadata": {},
     "output_type": "display_data"
    }
   ],
   "source": [
    "import plotly.express as px\n",
    "import numpy as np\n",
    "def generate_pseudo_random_numbers(n, X0, a, c, m):\n",
    "    random_numbers = np.array([])\n",
    "    for i in range(n):\n",
    "        X0 = (a * X0 + c) % m\n",
    "        random_numbers = np.append(random_numbers, X0/m)\n",
    "    return random_numbers\n",
    "\n",
    "def exponencial(n, X0, a, c, m, lambd):\n",
    "    exponencial = np.array([])\n",
    "    random_numbers = generate_pseudo_random_numbers(n, X0, a, c, m)\n",
    "    exponencial = -np.log(1-random_numbers)/lambd\n",
    "    media = np.mean(random_numbers)\n",
    "    varianza = np.var(random_numbers)\n",
    "    print(\"Media: \", media)\n",
    "    print(\"Varianza: \", varianza)\n",
    "    return exponencial\n",
    "\n",
    "n=1000\n",
    "X0=123456789\n",
    "a=1664525\n",
    "c=1013904223\n",
    "m=2**(32)\n",
    "lambd=0.5\n",
    "\n",
    "radio3=exponencial(n,X0,a,c,m,lambd) # genera n numeros aleatorios entre 0 y 1\n",
    "theta3=exponencial(n,987654321,a,c,m,lambd)*360# genera n numeros aleatorios entre 0 y 360\n",
    "fig = px.scatter_polar(r=radio3, theta=theta3)\n",
    "fig.show()"
   ]
  }
 ],
 "metadata": {
  "kernelspec": {
   "display_name": "base",
   "language": "python",
   "name": "python3"
  },
  "language_info": {
   "codemirror_mode": {
    "name": "ipython",
    "version": 3
   },
   "file_extension": ".py",
   "mimetype": "text/x-python",
   "name": "python",
   "nbconvert_exporter": "python",
   "pygments_lexer": "ipython3",
   "version": "3.11.5"
  }
 },
 "nbformat": 4,
 "nbformat_minor": 2
}
